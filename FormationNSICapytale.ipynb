{
 "cells": [
  {
   "cell_type": "markdown",
   "metadata": {
    "slideshow": {
     "slide_type": "slide"
    }
   },
   "source": [
    "<div style=\"border-left:5px solid #fdee00; border-radius:2pt; color:#ffffff; padding:16px; background-color: #0068cc\">\n",
    "<div style=\"color:#fef86c;\">\n",
    "    \n",
    "# Utiliser Capytale\n",
    "</div>\n",
    "    \n",
    "\n",
    "\n",
    "</div>"
   ]
  },
  {
   "cell_type": "markdown",
   "metadata": {
    "slideshow": {
     "slide_type": "subslide"
    }
   },
   "source": [
    "<div style=\"border-left:3px solid #fdee00; border-radius:2pt; color:#0056b6; padding:16px; background-color: #fffcd0\">\n",
    "\n",
    "## Sommaire :\n",
    "\n",
    "1. Qu’est-ce que Capytale ? \n",
    "\n",
    "2. Créer une nouvelle activité \n",
    "2.1 Paramètres : mode/période d’accès, étiquette, …  \n",
    "2.2 Créer une activité script-console  \n",
    "2.3 Créer une activité notebook  \n",
    "2.4 Créer une activité HTML/CSS/JS  \n",
    "2.5 Créer une activité SQL  \n",
    "2.6 Électronique numérique\n",
    "\n",
    "3. Fonctionnalités spécifiques de Capytale  \n",
    "3.1 Interface d’accès aux copies  \n",
    "3.2 Cycle de vie d’une copie (partage/bloquée/réouverte)  \n",
    "3.3 Possibilité de cloner une activité/ modifier les paramètres  \n",
    "3.4 Associer des collègues à une activité  \n",
    "3.5 Ré-initialiser une copie d’élève  \n",
    "3.6 Corriger un énoncé partagé  \n",
    "3.7 Joindre un fichier (visible ou _caché)  \n",
    "\n",
    "4. La bibliothèque des activités de Capytale   \n",
    "4.1 Consulter une activité  \n",
    "4.2 Publier une activité  \n",
    "\n",
    "5. Bibliothèques (modules) python et outils sur Basthon/Capytale \n",
    "5.1 Quelles bibliothèques ?  \n",
    "5.2 Turtle  \n",
    "5.3 p5  \n",
    "5.4 Pythontutor  \n",
    "5.5 Outils de visualisation : graphviz, lolviz, rcviz  \n",
    "5.6 Extension RISE  \n",
    "    \n",
    "6. Se documenter sur Capytale    \n",
    "</div>\n",
    "\n"
   ]
  },
  {
   "cell_type": "markdown",
   "metadata": {},
   "source": [
    "<div style=\"border-left:5px solid #fdee00; border-radius:2pt; color:#ffffff; padding:16px; background-color: #0068cc\">\n",
    "\n",
    "## 1. Qu'est-ce que Capytale ?\n",
    "    \n",
    "\n",
    "</div>"
   ]
  },
  {
   "cell_type": "markdown",
   "metadata": {},
   "source": [
    "<img src=\"https://raw.githubusercontent.com/reiamnat/stageNSI/main/img1.jpg\" alt=\"Alternative text\"  width = \"600\"/>"
   ]
  },
  {
   "cell_type": "markdown",
   "metadata": {},
   "source": [
    "**Capytale :**\n",
    "* est un service proposé par l'académie de Paris en lien avec la Drane Orléans-Tours,\n",
    "* permet la création et le partage entre enseignants et élèves d'activités utilisant entre autres les langages Python, HTML/CSS et SQL,\n",
    "* est accessible depuis l'ENT."
   ]
  },
  {
   "cell_type": "markdown",
   "metadata": {},
   "source": [
    "<div style=\"border-left:5px solid #fdee00; border-radius:2pt; color:#ffffff; padding:16px; background-color: #0068cc\">\n",
    "\n",
    "## 2. Créer une nouvelle activité\n",
    "\n",
    "</div>"
   ]
  },
  {
   "cell_type": "markdown",
   "metadata": {},
   "source": [
    "Choisir \"Mes activités\" :\n",
    "<img src=\"https://raw.githubusercontent.com/reiamnat/stageNSI/main/img2.jpg\" alt=\"Alternative text\"  width = \"600\"/>\n",
    "<center>-----------------------------------------------------------------------------------------------------------------------------------</center>\n",
    "Puis \"Créer une nouvelle activité\" :\n",
    "<img src=\"https://raw.githubusercontent.com/reiamnat/stageNSI/main/img3.jpg\" alt=\"Alternative text\"  width = \"600\"/>"
   ]
  },
  {
   "cell_type": "markdown",
   "metadata": {},
   "source": [
    "<div style=\"border-left:3px solid #0068cc; border-radius:2pt; color:#0056b6; padding:16px; background-color: #e8f0f5\">\n",
    "    \n",
    "### 2.1 Paramètres : mode/période d’accès, étiquette, …\n",
    "    \n",
    " </div>\n"
   ]
  },
  {
   "cell_type": "markdown",
   "metadata": {},
   "source": [
    "Choisir le type d'activité que vous voulez créer :\n",
    "\n",
    "<img src=\"https://raw.githubusercontent.com/reiamnat/stageNSI/main/img4.jpg\" alt=\"Alternative text\"  width = \"600\"/>"
   ]
  },
  {
   "cell_type": "markdown",
   "metadata": {},
   "source": [
    "Il faut lui donner oligatoirement un nom et choisir la période de visibilité de l'activité par les élèves :\n",
    "\n",
    "<img src=\"https://raw.githubusercontent.com/reiamnat/stageNSI/main/img5.jpg\" alt=\"Alternative text\"  width = \"700\"/>\n",
    "\n",
    "\n",
    "Chaque activité de Capytale peut :\n",
    "- être associée à des mots-clés personnels,\n",
    "- être partagée avec des élèves (un code de partage est fourni),\n",
    "- comporter des fichiers annexes à l’activité (.py, .jpg, .png, …),\n",
    "- être affichée dans la bibliothèque (Licence Creative Commons),\n",
    "- être <u>partagée avec des associés</u> qui peuvent la modifier."
   ]
  },
  {
   "cell_type": "markdown",
   "metadata": {},
   "source": [
    "<div style=\"border-left:3px solid #0068cc; border-radius:2pt; color:#0056b6; padding:16px; background-color: #e8f0f5\">\n",
    "    \n",
    "### 2.2 Créer une activité script-console\n",
    "    \n",
    " </div>"
   ]
  },
  {
   "cell_type": "markdown",
   "metadata": {},
   "source": [
    "<img src=\"https://raw.githubusercontent.com/reiamnat/stageNSI/main/img6.jpg\" alt=\"Alternative text\"  width = \"800\"/>\n",
    "\n",
    "<center><font size=\"5pt\"><br>Vue enseignant de l'activité</font></center>"
   ]
  },
  {
   "cell_type": "markdown",
   "metadata": {},
   "source": [
    "<img src=\"http://nmaier.free.fr/ImagesNSI/img7.jpg\" alt=\"Alternative text\"  width = \"800\"/>\n",
    "\n",
    "<center><font size=\"5pt\"><br>Vue élève de l'activité</font></center>"
   ]
  },
  {
   "cell_type": "markdown",
   "metadata": {},
   "source": [
    "<div style=\"border-left:3px solid #0068cc; border-radius:2pt; color:#0056b6; padding:16px; background-color: #e8f0f5\">\n",
    "    \n",
    "### 2.3 Créer une activité notebook\n",
    "    \n",
    " </div>"
   ]
  },
  {
   "cell_type": "markdown",
   "metadata": {},
   "source": [
    "\n",
    "Un Notebook est constitué de cellules de texte pouvant être encrichies en Markdown (avec ajout de balises HTML possibles) et de cellules exécutables. Les cellules executables (`Entrée[..]`) produisent un résultat (`Sortie[..]`). Elles sont identifiables par leur numéro d'exécution et sont connectées entre elles.\n",
    "\n",
    "<img src=\"https://raw.githubusercontent.com/reiamnat/stageNSI/main/img8.jpg\" alt=\"Alternative text\"  width = \"900\"/>\n",
    "\n",
    "<center><font size=\"5pt\"><br>Vue enseignant de l'activité</font></center>"
   ]
  },
  {
   "cell_type": "markdown",
   "metadata": {},
   "source": [
    "<img src=\"https://raw.githubusercontent.com/reiamnat/stageNSI/main/img9.jpg\" alt=\"Alternative text\"  width = \"900\"/>\n",
    "\n",
    "\n",
    "<center><font size=\"5pt\"><br>Vue élève de l'activité</font></center>"
   ]
  },
  {
   "cell_type": "markdown",
   "metadata": {},
   "source": [
    "**Ressources publiées dans la bibliothèque Capytale**\n",
    "\n",
    "Mémo markdown : https://capytale2.ac-paris.fr/basthon/notebook/?id=220514\n",
    "\n",
    "Mémo LaTeX : https://capytale2.ac-paris.fr/basthon/notebook/?id=220580"
   ]
  },
  {
   "cell_type": "markdown",
   "metadata": {},
   "source": [
    "<div style=\"border-left:3px solid #0068cc; border-radius:2pt; color:#0056b6; padding:16px; background-color: #e8f0f5\">\n",
    "    \n",
    "### 2.4 Créer une activité HTML/CSS/JS\n",
    "    \n",
    " </div>"
   ]
  },
  {
   "cell_type": "markdown",
   "metadata": {},
   "source": [
    "**Code de l’exemple : code 09b4-33291**\n",
    "\n",
    "<img src=\"https://raw.githubusercontent.com/reiamnat/stageNSI/main/img10.jpg\" alt=\"Alternative text\"  width = \"900\"/>\n",
    "\n",
    "<center><font size=\"5pt\"><br>Vue enseignant de l'activité</font></center>\n"
   ]
  },
  {
   "cell_type": "markdown",
   "metadata": {},
   "source": [
    "<img src =\"https://raw.githubusercontent.com/reiamnat/stageNSI/main/img11.jpg\" alt=\"Alternative text\"  width = \"900\"/>\n",
    "\n",
    "<center><font size=\"5pt\"><br>Vue élève de l'activité</font></center>"
   ]
  },
  {
   "cell_type": "markdown",
   "metadata": {},
   "source": [
    "<div style=\"border-left:3px solid #0068cc; border-radius:2pt; color:#0056b6; padding:16px; background-color: #e8f0f5\">\n",
    "    \n",
    "### 2.5 Créer une activité SQL\n",
    "\n",
    " </div>"
   ]
  },
  {
   "cell_type": "markdown",
   "metadata": {},
   "source": [
    "<figure style= 'float: left; margin:5px; '>    \n",
    "<img src='https://raw.githubusercontent.com/reiamnat/stageNSI/main/logosql.png' \n",
    "     width='70px' >\n",
    "</figure>\n",
    "\n",
    "Les activités SQL sont un type d'activité à choisir dans le menu des activités. Elles se présentent sous la forme de notebook, mais le langage exécuté est SQL.\n",
    "\n",
    "On peut joindre un fichier `sql` permettant de créer la base de données que les élèves exploiteront. Ce fichier est exécuté par défaut à l'ouverture de l'activité.\n",
    "</br>\n",
    "\n",
    "**Code de l’exemple : code 9c47-629906**\n",
    "\n",
    "<figure style= 'float: center;'>    \n",
    "<img src=\"https://raw.githubusercontent.com/reiamnat/stageNSI/main/mesuresmeteosql.png\" alt=\"activité sql\"  width = \"800\"/>\n",
    "<img src=\"https://raw.githubusercontent.com/reiamnat/stageNSI/main/consulatation_mesures_meteo.png\" alt=\"activité sql\"  width = \"800\"/>\n",
    "</figure>"
   ]
  },
  {
   "cell_type": "markdown",
   "metadata": {},
   "source": [
    "Le fichier `mesuresmeteo.sql` est ajouté comme fichier joint au notebook.\n",
    "<img src=\"https://raw.githubusercontent.com/reiamnat/stageNSI/main/creation_tables_mesures_meteo.png\" alt=\"activité sql\"  width = \"600\"/>\n"
   ]
  },
  {
   "cell_type": "markdown",
   "metadata": {},
   "source": [
    "<div style=\"border-left:3px solid #0068cc; border-radius:2pt; color:#0056b6; padding:16px; background-color: #e8f0f5\">\n",
    "    \n",
    "### 2.6  Électronique numérique\n",
    "    \n",
    " </div>"
   ]
  },
  {
   "cell_type": "markdown",
   "metadata": {},
   "source": [
    "<div style=\"border-left:3px solid #0068cc; border-radius:2pt; color:#0056b6; padding:16px; background-color: #e8f0f5\">\n",
    "\n",
    "Quelques applications sont accessibles en test via le bouton <img style=\"display : inline\" src=\"https://raw.githubusercontent.com/reiamnat/stageNSI/main/boutonTest.png\"> \n",
    "    \n",
    "![test](https://raw.githubusercontent.com/reiamnat/stageNSI/main/appEntest.png)\n",
    "    \n",
    "L'application  **Électronique numérique** est basé sur le simulateur de systèmes logiques en ligne : [**logic**](https://logic.modulo-info.ch/) développé par Jean-Philippe Pellet.    \n",
    "Il est utilisable tel quel via le lien donné, mais il est conçu pour être aussi inclus dans d’autres sites ou plates-formes facilement via une ligne de JavaScript et un élément HTML. C’est un projet open source ([Github](https://github.com/jppellet/Logic-Circuit-Simulator)).\n",
    "\n",
    "Il est pensé pour l'enseignement dans le sens qu'il permet une série de modalités d'interactions, comme la distribution facilitée de circuits, l'affichage ou non des valeurs véhiculées par les connexions, l'utilisation de portes logiques «cachée» dont la fonction est à retrouver, la création de circuits volontairement défectueux à diagnostiquer, la réalisation de circuits via des composants présélectionnés, etc.\n",
    "</div>"
   ]
  },
  {
   "cell_type": "markdown",
   "metadata": {},
   "source": [
    "<div style=\"border-left:3px solid #0068cc; border-radius:2pt; color:#0056b6; padding:16px; background-color: #e8f0f5\">\n",
    "    \n",
    "**Exemple**  \n",
    "    \n",
    "* En utilisant les deux portes NAND, faites un circuit  équivalent à la porte AND \n",
    "* En cas d'erreur de manipulation, vous pouvez réinitialiser.\n",
    "\n",
    "</div>"
   ]
  },
  {
   "cell_type": "code",
   "execution_count": 9,
   "metadata": {},
   "outputs": [
    {
     "data": {
      "text/html": [
       "<iframe src=\"https://logic.modulo-info.ch/?mode=connect&data=N4KABGBEBukFxgCwBpxQPYAcAuBneYwkuAFugO4DiAhtgKYAqAnpnfgtgE4CudAvqgiQAlgDsCAbSKZ07MBICMCgAzIwS5QF01IgCYEAzAp2jqAWzoFIAQUg7o1ADYFlAwpBlzFKtQoAcWjrC+ggGAEwm5pYIkABCdlAOzgiu2miQ6NzYktKykgCsPmBhBoFQwYYAbJEWVgwAl2boYpBuuV6FqurKZXqGAOw10VAAyuic2MKWfGlCAOa0bJJoEETYLMM2AHIAIgkeeQgSBqVqJb0tRydqBojaGFmG+QIr7uusVlvWu-uekv09XxhC7iI75NSVe4ZR4IfovCCrSDvTZfH46P5HAFdfIgyR+NQATihmWyCBUfDQsyg5GEnCWR2OxjAJ3uxwizLuamO4OZkM0ID4QA\" allowfullscreen=\"\" width=\"100%\" height=\"280px\" frameborder=\"0\"></iframe>"
      ],
      "text/plain": [
       "<IPython.display.IFrame object at 0x1375980>"
      ]
     },
     "execution_count": 9,
     "metadata": {},
     "output_type": "execute_result"
    }
   ],
   "source": [
    "from IPython.display import IFrame\n",
    "\n",
    "adresse = \"https://logic.modulo-info.ch/?mode=connect&data=N4KABGBEBukFxgCwBpxQPYAcAuBneYwkuAFugO4DiAhtgKYAqAnpnfgtgE4CudAvqgiQAlgDsCAbSKZ07MBICMCgAzIwS5QF01IgCYEAzAp2jqAWzoFIAQUg7o1ADYFlAwpBlzFKtQoAcWjrC+ggGAEwm5pYIkABCdlAOzgiu2miQ6NzYktKykgCsPmBhBoFQwYYAbJEWVgwAl2boYpBuuV6FqurKZXqGAOw10VAAyuic2MKWfGlCAOa0bJJoEETYLMM2AHIAIgkeeQgSBqVqJb0tRydqBojaGFmG+QIr7uusVlvWu-uekv09XxhC7iI75NSVe4ZR4IfovCCrSDvTZfH46P5HAFdfIgyR+NQATihmWyCBUfDQsyg5GEnCWR2OxjAJ3uxwizLuamO4OZkM0ID4QA\"\n",
    "\n",
    "IFrame(adresse, width='100%', height=\"280px\")"
   ]
  },
  {
   "cell_type": "markdown",
   "metadata": {},
   "source": [
    "<div style=\"border-left:3px solid #0068cc; border-radius:2pt; color:#0056b6; padding:16px; background-color: #e8f0f5\">\n",
    "    \n",
    "Une page issue d'un atelier de présentation de cet outil est [disponible en ligne](http://jp.pellet.name/hep/didapro9/), et montre quelques fonctionnalités et modes d'intégration. \n",
    "</div>\n"
   ]
  },
  {
   "cell_type": "markdown",
   "metadata": {},
   "source": [
    "Pour information, voici comment on peut l'integrer dans un notebook (sauf basthon) en permettant l'utilisant des portes NAND uniquement.\n",
    "\n",
    "```python\n",
    "from IPython.core.display import HTML\n",
    "\n",
    "code = '''\n",
    "<div style=\"width: 100%; height: 380px\">\n",
    "<script src=\"https://logic.modulo-info.ch/simulator/lib/bundle.js\"></script>\n",
    "   <logic-editor showonly=\"NAND\">\n",
    "   <script type=\"application/json\">\n",
    "  {\n",
    "        \"v\": 4,\n",
    "        \"opts\": {\"showGateTypes\": true},\n",
    "        \"in\": [{\"pos\": [110, 110], \"id\": 31, \"name\": \"A\", \"val\": 0}, {\"pos\": [110, 180], \"id\": 32, \"name\": \"B\", \"val\": 0}],\n",
    "        \"out\": [{\"pos\": [510, 230], \"id\": 36, \"name\": \"Témoin\"}, {\"pos\": [510, 100], \"id\": 37, \"name\": \"Sortie\"}],\n",
    "        \"gates\": [\n",
    "          {\"type\": \"AND\", \"pos\": [330, 230], \"in\": [33, 34], \"out\": 35}],\n",
    "        \"wires\": [[31, 33], [32, 34], [35, 36]]\n",
    "      }\n",
    "  </script>\n",
    " </logic-editor>\n",
    "</div>'''\n",
    "\n",
    "HTML(code)\n",
    "```"
   ]
  },
  {
   "cell_type": "markdown",
   "metadata": {
    "slideshow": {
     "slide_type": "slide"
    }
   },
   "source": [
    "<div style=\"border-left:5px solid #fdee00; border-radius:2pt; color:#ffffff; padding:16px; background-color: #0068cc\">\n",
    "\n",
    "## 3. Fonctionnalités spécifiques de Capytale\n",
    "    \n",
    "\n",
    "</div>"
   ]
  },
  {
   "cell_type": "markdown",
   "metadata": {
    "slideshow": {
     "slide_type": "subslide"
    }
   },
   "source": [
    "<div style=\"border-left:3px solid #0068cc; border-radius:2pt; color:#0056b6; padding:16px; background-color: #e8f0f5\">\n",
    "\n",
    "### 3.1 Interface d’accès aux copies\n",
    "    \n",
    "* On y accède par **Mes activités** et on peut y voir le nombre d'élèves ayant ouvert l'activité grâce au code fourni.\n",
    "    \n",
    " ![mesactivites.png](https://raw.githubusercontent.com/reiamnat/stageNSI/main/mesactivites.png)\n",
    "\n",
    "* Pour accéder aux copies, il suffit de cliquer sur le nombre de vues\n",
    "* Pour lire une copie, il suffit de cliquer sur le nom de l'élève. \n",
    "\n",
    "  \n",
    "  ![interfaceCopies1.png](https://raw.githubusercontent.com/reiamnat/stageNSI/main/interfaceCopies1.png)\n",
    "\n",
    "    \n",
    "\n",
    "* Le bouton CSV permet de récupérer un fichier csv contenant, pour chaque copie, la date, l'heure, le nom, la classe, l'état, l'appréciation et la note\n",
    "</div>"
   ]
  },
  {
   "cell_type": "markdown",
   "metadata": {
    "slideshow": {
     "slide_type": "subslide"
    }
   },
   "source": [
    "<div style=\"border-left:3px solid #0068cc; border-radius:2pt; color:#0056b6; padding:16px; background-color: #e8f0f5\">\n",
    "\n",
    "### 3.2 Cycle de vie d’une copie (partage/bloquée/réouverte)\n",
    "    \n",
    "Trois états possibles pour une copie : \n",
    "    \n",
    "* **en cours** :  obligatoire tant que l'élève a besoin de travailler sur sa copie.   \n",
    "    La copie de l'élève possède le bouton : <img style=\"display : inline\" src=\"https://raw.githubusercontent.com/reiamnat/stageNSI/main/tnr.png\">\n",
    "    \n",
    "* **rendue** : L'élève ne peut plus modifier sa copie.  \n",
    "    La copie de l'élève possède le bouton : <img style=\"display : inline\" src=\"https://raw.githubusercontent.com/reiamnat/stageNSI/main/tr.png\">\n",
    "\n",
    "* **corrigée** : L'élève ne peut plus modifier sa copie.  \n",
    "    La copie de l'élève possède le bouton  : <img style=\"display : inline\" src=\"https://raw.githubusercontent.com/reiamnat/stageNSI/main/tc.png\">\n",
    "    \n",
    "Dans tous les cas, l'enseignant peut visualiser le contenu de chaque copie. Il peut modifier lui-même un état, notamment pour indiquer qu'une copie est corrigée, ou redonner la main à un élève qui a rendu sa copie ; ceci est aussi possible dans la fenêtre des vues  :\n",
    "<img src=\"https://raw.githubusercontent.com/reiamnat/stageNSI/main/etats.png\" alt=\"activité sql\"  width = \"800\"/>\n",
    " \n",
    "    \n",
    "</div>"
   ]
  },
  {
   "cell_type": "markdown",
   "metadata": {
    "slideshow": {
     "slide_type": "subslide"
    }
   },
   "source": [
    "<div style=\"border-left:3px solid #0068cc; border-radius:2pt; color:#0056b6; padding:16px; background-color: #e8f0f5\">\n",
    "\n",
    "### 3.3 Possibilité de cloner une activité/ modifier les paramètres\n",
    "\n",
    "Une fois votre activité créée, plusieurs options vous sont proposées :\n",
    "    \n",
    "    \n",
    "    \n",
    "![modifier.png](https://raw.githubusercontent.com/reiamnat/stageNSI/main/modifier.png)\n",
    "\n",
    "    \n",
    "* Pour modifier votre activité, choisir **paramètres** : vous retrouverez la page de création de celle-ci.\n",
    "* Pour faire une copie indépendante de votre activité, choisir **cloner** (cela génère un nouveau code).\n",
    "* Pour stopper la distribution de l'activité, choisir **bloquer la distribution**. Les élèves n'auront plus accès à cette activité. \n",
    "\n",
    "Sachez qu'un élève est propriétaire de sa copie, il est le seul à pouvoir la supprimer. \n",
    "</div>"
   ]
  },
  {
   "cell_type": "markdown",
   "metadata": {
    "slideshow": {
     "slide_type": "subslide"
    }
   },
   "source": [
    "<div style=\"border-left:3px solid #0068cc; border-radius:2pt; color:#0056b6; padding:16px; background-color: #e8f0f5\">\n",
    "\n",
    "### 3.4 Associer des collègues à une activité\n",
    "\n",
    "Lorsque vous créez une activité, il est possible d'associer des collègues ayant accès à Capytale.\n",
    "    \n",
    "![associes.png](https://raw.githubusercontent.com/reiamnat/stageNSI/main/associes.png)\n",
    "    \n",
    "\n",
    "La barre de saisie est un annuaire. \n",
    "    \n",
    "**Attention :** Le document n'est pas collaboratif : éviter de travailler en même temps sur la même activité. C'est l'enregistrement du dernier utilisateur qui compte ! \n",
    "\n",
    "</div>"
   ]
  },
  {
   "cell_type": "markdown",
   "metadata": {
    "slideshow": {
     "slide_type": "subslide"
    }
   },
   "source": [
    "<div style=\"border-left:3px solid #0068cc; border-radius:2pt; color:#0056b6; padding:16px; background-color: #e8f0f5\">\n",
    "\n",
    "### 3.5 Ré-initialiser une copie d’élève\n",
    " \n",
    "Comment ré-initialiser l'énoncé d'origine si l'élève a :\n",
    "- ouvert une copie avec un code\n",
    "- effacé une partie du script (script-console) ou une cellule (notebook) de l'énoncé ?\n",
    "    \n",
    "Le bouton : <img style=\"display : inline\" src=\"https://raw.githubusercontent.com/reiamnat/stageNSI/main/reinitialiser.png\"> ou <img style=\"display : inline ; width : 30px\" src=\"https://raw.githubusercontent.com/reiamnat/stageNSI/main/reinitConsole.png\">\n",
    "permet de revenir au dernier énoncé enregistré par l'enseignant.  \n",
    "Un message d'alerte apparaîtra pour les élèves :   \n",
    "« Que voulez-vous faire ? »  Restaurer une sauvegarde ou Revenir à la version de l'enseignant\n",
    "</div>"
   ]
  },
  {
   "cell_type": "markdown",
   "metadata": {
    "slideshow": {
     "slide_type": "subslide"
    }
   },
   "source": [
    "<div style=\"border-left:3px solid #0068cc; border-radius:2pt; color:#0056b6; padding:16px; background-color: #e8f0f5\">\n",
    "\n",
    "### 3.6 Corriger un énoncé partagé\n",
    "\n",
    "Comment corriger un énoncé que des élèves ont déjà consulté :\n",
    "* Faire la correction côté enseignant et enregistrer.\n",
    "* Demander aux élèves possédant une copie de l'ancienne version de ré-initialiser le sujet initial (voir 3.1), avec perte du travail éventuellement déjà réalisé, d'enregistrer, de quitter le travail en cours, puis de recharger le sujet : les modifications de l'enseignant sont alors prises en compte.    \n",
    "\n",
    "    \n",
    "Dans le cas d'une activité html, les modifications sont éfféctuées automatiquement dans les copies des élèves.\n",
    "</div>"
   ]
  },
  {
   "cell_type": "markdown",
   "metadata": {
    "slideshow": {
     "slide_type": "subslide"
    }
   },
   "source": [
    "<div style=\"border-left:3px solid #0068cc; border-radius:2pt; color:#0056b6; padding:16px; background-color: #e8f0f5\">\n",
    "\n",
    "### 3.7 Joindre un fichier (visible ou _caché) \n",
    "\n",
    "Lors de la création d'une activité, cocher « Joindre des fichiers annexes ... ».\n",
    "    \n",
    "les formats de fichiers autorisés pour l'hébergement dans le serveur de Capytale sont : py, npy, pyc, txt, sql, db, sqlite, csv, png, jpg, bmp, svg, gif, html, pdf, css, zip, tar, tgz, gz, aiff, wav, ml, ttf, json. \n",
    "    \n",
    "\n",
    "    \n",
    "- Pour les images : utiliser les méthodes d'insertion Markdown ou html en copiant l'url de l'image   \n",
    "   (voir mémo markdown : https://capytale2.ac-paris.fr/basthon/notebook/?id=220514 )\n",
    "    \n",
    "    \n",
    "- Un fichier python nommé ma_bibliotheque.py que vous joingnez sera renommer ma_bibliotheque.py_.txt.   \n",
    "On l'utilise comme une bibliothèque python avec son nom d'origine : \n",
    "```python\n",
    "from ma_bibliotheque import *  \n",
    "```\n",
    "\n",
    "    \n",
    "- Pour cacher un fichier python aux élèves, il suffit avant de le joindre de le renommer en ajoutant un tiret bas avant son nom.\n",
    "\n",
    " Par exemple, pour cacher le contenu de  ma_bibliotheque.py, il suffit de le renommer _ma_bibliotheque.py avant de le joindre puis de l'utiliser comme ceci :\n",
    "```python\n",
    "from _ma_bibliotheque import *  \n",
    "```    \n",
    "\n",
    "</div>"
   ]
  },
  {
   "cell_type": "markdown",
   "metadata": {},
   "source": [
    "<div style=\"border-left:5px solid #fdee00; border-radius:2pt; color:#ffffff; padding:16px; background-color: #0068cc\">\n",
    "    \n",
    "## 4. La bibliothèque des activités de Capytale\n",
    "</div>\n",
    "    \n"
   ]
  },
  {
   "cell_type": "markdown",
   "metadata": {},
   "source": [
    "<div style=\"border-left:3px solid #fdee00; border-radius:2pt; color:#0056b6; padding:16px; background-color: #fffcd0\">\n",
    "\n",
    "## 4. La bibliothèque des activités de Capytale\n",
    "###     4.1 Consulter une activité dans la bibliothèque\n",
    "###     4.2 Publier une activité dans la bibliothèque \n",
    "\n",
    "</div>"
   ]
  },
  {
   "cell_type": "markdown",
   "metadata": {},
   "source": [
    "<div style=\"border-left:3px solid #0068cc; border-radius:2pt; color:#0056b6; padding:16px; background-color: #e8f0f5\">\n",
    "\n",
    "### 4.1 Consulter une activité dans la bibliothèque\n",
    "    \n",
    "![bandeau_biblio ](https://raw.githubusercontent.com/reiamnat/stageNSI/main/bandeau_biblio.png)\n",
    "\n",
    "\n",
    "\n",
    "![activ_biblio.png](https://raw.githubusercontent.com/reiamnat/stageNSI/main/activ_biblio.png)\n",
    "</div>"
   ]
  },
  {
   "cell_type": "markdown",
   "metadata": {},
   "source": [
    "<div style=\"border-left:3px solid #0068cc; border-radius:2pt; color:#0056b6; padding:16px; background-color: #e8f0f5\">\n",
    "\n",
    "### 4.2 Publier une activité dans la bibliothèque\n",
    "    \n",
    "![bandeau.png](https://raw.githubusercontent.com/reiamnat/stageNSI/main/bandeau_biblio.png)\n",
    "    \n",
    "![publier_comment.png](https://raw.githubusercontent.com/reiamnat/stageNSI/main/publier_comment.png)\n",
    "    \n",
    "![publier_parametres.png](https://raw.githubusercontent.com/reiamnat/stageNSI/main/publier_parametres.png)\n",
    "</div>"
   ]
  },
  {
   "cell_type": "markdown",
   "metadata": {},
   "source": [
    "<div style=\"border-left:5px solid #fdee00; border-radius:2pt; color:#ffffff; padding:16px; background-color: #0068cc\">\n",
    "\n",
    "## 5. Bibliothèques (modules) python et outils sur Basthon/Capytale\n",
    "    \n",
    "\n",
    "</div>"
   ]
  },
  {
   "cell_type": "markdown",
   "metadata": {},
   "source": [
    "<div style=\"border-left:3px solid #0068cc; border-radius:2pt; color:#0056b6; padding:16px; background-color: #e8f0f5\">\n",
    "\n",
    "### 5.1 Quelles bibliothèques ?\n",
    "Pour connaitre la liste des bibliothèques disponibles, saisir : `help(‘modules’)` dans une cellule de code\n",
    "    \n",
    "</div>"
   ]
  },
  {
   "cell_type": "code",
   "execution_count": null,
   "metadata": {},
   "outputs": [],
   "source": [
    "help('modules')"
   ]
  },
  {
   "cell_type": "markdown",
   "metadata": {},
   "source": [
    "<div style=\"border-left:3px solid #0068cc; border-radius:2pt; color:#0056b6; padding:16px; background-color: #e8f0f5\">\n",
    "\n",
    "### 5.2 Turtle\n",
    "\n",
    "`Turtle` est une bibliothèque permettant de réaliser des tracés en pilotant \"une tortue\", en lui donnant des instructions de déplacement. \n",
    "    \n",
    "Un [mémo Turtle](https://capytale2.ac-paris.fr/p/basthon/n/?kernel=python3&id=374364) est disponible dans la bibliothèque.\n",
    "\n",
    "Voici un exemple classique de tracé récursif de fractale.\n",
    "</div>"
   ]
  },
  {
   "cell_type": "code",
   "execution_count": null,
   "metadata": {},
   "outputs": [],
   "source": [
    "from turtle import *\n",
    "\n",
    "def courbe_koch(n, longueur):\n",
    "    if n == 0:\n",
    "        forward(longueur)\n",
    "    else:\n",
    "        courbe_koch(n - 1, longueur / 3)\n",
    "        left(60)\n",
    "        courbe_koch(n - 1, longueur / 3)\n",
    "        right(120)\n",
    "        courbe_koch(n - 1, longueur / 3)\n",
    "        left(60)\n",
    "        courbe_koch(n - 1, longueur / 3)\n",
    "\n",
    "penup()\n",
    "goto(-250, 0)\n",
    "pendown()\n",
    "\n",
    "courbe_koch(4, 450) \n",
    "hideturtle()\n",
    "done()"
   ]
  },
  {
   "cell_type": "markdown",
   "metadata": {},
   "source": [
    "<div style=\"border-left:3px solid #0068cc; border-radius:2pt; color:#0056b6; padding:16px; background-color: #e8f0f5\">\n",
    "\n",
    "### 5.3 p5\n",
    "<figure style= 'float: left;'> \n",
    "<a href='https://p5js.org'><img title='logo p5' src='https://p5js.org/assets/img/p5js.svg' width='60px'></a>\n",
    "</figure>\n",
    "\n",
    "<br/>\n",
    "    \n",
    "La bibliothèque **p5** présente dans Capytale et Basthon permet de réaliser rapidement des constructions graphiques et des animations. Elle propose l'essentiel des fonctions de [p5.js](https://p5js.org), avec la syntaxe de python. \n",
    "    \n",
    "Un [mémo p5](https://www.carnets.info/jupyter/p5/) est disponible en ligne.\n",
    "   \n",
    "Un notebook de la bibiothèque présente des activités réalisées en [1re NSI avec p5](https://capytale2.ac-paris.fr/p/basthon/n/?kernel=python3&id=618010).\n",
    "    "
   ]
  },
  {
   "cell_type": "code",
   "execution_count": 11,
   "metadata": {},
   "outputs": [
    {
     "data": {
      "application/javascript": [
       "element.append(window._basthonDomNodeBus.pop(0));"
      ]
     },
     "metadata": {},
     "output_type": "display_data"
    }
   ],
   "source": [
    "# exécuter et déplacer la souris dans la fenêtre, cliquer pour figer\n",
    "\n",
    "from p5 import *\n",
    "\n",
    "\n",
    "def setup():\n",
    "    createCanvas(610, 410)\n",
    "    noStroke()\n",
    "    frameRate(20)\n",
    "\n",
    "def draw():\n",
    "    background(255)\n",
    "    fill(min(frameCount%510, 510 - frameCount%510), 0, 100)\n",
    "    for i in range(1, width, 20):\n",
    "        for j in range(1, height, 20):\n",
    "            diametre = dist(mouseX, mouseY, i, j) // 6\n",
    "            circle(i, j, diametre)\n",
    "    if mouseIsPressed:\n",
    "        noLoop()\n",
    "run()"
   ]
  },
  {
   "cell_type": "code",
   "execution_count": null,
   "metadata": {},
   "outputs": [],
   "source": [
    "# met fin à l'animation précédente\n",
    "stop()"
   ]
  },
  {
   "cell_type": "markdown",
   "metadata": {},
   "source": [
    "<div style=\"border-left:3px solid #0068cc; border-radius:2pt; color:#0056b6; padding:16px; background-color: #e8f0f5\">\n",
    "\n",
    "### 5.4 Pythontutor\n",
    "\n",
    "Pythontutor permet de visualiser l'exécution pas à pas du code. \n",
    "\n",
    "</div>"
   ]
  },
  {
   "cell_type": "code",
   "execution_count": 3,
   "metadata": {},
   "outputs": [
    {
     "name": "stdout",
     "output_type": "stream",
     "text": [
      "liste d'origine [3, 6, 8, 9]\n",
      "liste modifiée car effet de bord [9, 8, 6, 3]\n",
      "liste inchangée sans effet de bord [3, 6, 8, 9]\n"
     ]
    },
    {
     "data": {
      "text/html": [
       "<iframe id=\"basthon-pythontutor-iframe-2\" style=\"width: 100%; height: 400px;\" frameborder=\"0\" src=\"data:text/html;charset=utf-8,%3C%21DOCTYPE%20html%3E%0A%3Chtml%3E%0A%20%20%3Chead%3E%0A%20%20%20%20%3Clink%20rel%3D%22stylesheet%22%20href%3D%22https%3A//capytale2.ac-paris.fr/p/basthon/n/assets/0.50.12/python3/modules/extern/pytutor-main.min.css%22/%3E%0A%20%20%20%20%3Cscript%20src%3D%22https%3A//capytale2.ac-paris.fr/p/basthon/n/assets/0.50.12/python3/modules/extern/pytutor-main.min.js%22%3E%3C/script%3E%0A%20%20%20%20%3Cscript%3E%0A%20%20%20%20%20%20let%20sent_height%3B%0A%20%20%20%20%20%20%24%28document%29.ready%28function%28%29%20%7B%0A%20%20%20%20%20%20%20%20%20%20//%20managing%20iframe%20resize%0A%20%20%20%20%20%20%20%20%20%20const%20send%20%3D%20%28%29%20%3D%3E%20%7B%0A%20%20%20%20%20%20%20%20%20%20%20%20%20%20const%20new_height%20%3D%20document.body.offsetHeight%3B%0A%20%20%20%20%20%20%20%20%20%20%20%20%20%20if%20%28sent_height%20%3D%3D%3D%20new_height%29%20return%3B%0A%20%20%20%20%20%20%20%20%20%20%20%20%20%20sent_height%20%3D%20new_height%3B%0A%20%20%20%20%20%20%20%20%20%20%20%20%20%20window.parent.postMessage%28%7B%0A%20%20%20%20%20%20%20%20%20%20%20%20%20%20%20%20%20%20type%3A%20%22pytutor-iframe-resize%22%2C%0A%20%20%20%20%20%20%20%20%20%20%20%20%20%20%20%20%20%20target%3A%20%22basthon-pythontutor-iframe-2%22%2C%0A%20%20%20%20%20%20%20%20%20%20%20%20%20%20%20%20%20%20height%3A%20sent_height%2C%0A%20%20%20%20%20%20%20%20%20%20%20%20%20%20%7D%2C%20%27%2A%27%29%3B%0A%20%20%20%20%20%20%20%20%20%20%7D%3B%0A%20%20%20%20%20%20%20%20%20%20const%20o%20%3D%20new%20ResizeObserver%28send%29%3B%0A%20%20%20%20%20%20%20%20%20%20o.observe%28document.body%29%3B%0A%0A%20%20%20%20%20%20%20%20%20%20const%20t%20%3D%20%7B%22code%22%3A%20%22def%20reverse%28l%29%3A%5Cn%20%20%20%20taille%20%3D%20len%28l%29%5Cn%20%20%20%20for%20i%20in%20range%28taille%20//2%20%29%3A%5Cn%20%20%20%20%20%20%20%20l%5Bi%5D%2C%20l%5Btaille%20-%201%20-%20i%5D%20%3D%20l%5Btaille-%201%20-%20i%5D%2C%20l%5Bi%5D%5Cn%20%20%20%20return%20l%5Cn%5Cnliste%20%3D%20%5B3%2C%206%2C%208%2C%209%5D%5Cnprint%28%5C%22liste%20d%27origine%5C%22%2C%20liste%29%5Cnreverse%28liste%29%5Cnprint%28%5C%22liste%20modifi%5Cu00e9e%20car%20effet%20de%20bord%5C%22%2C%20liste%29%5Cnliste%20%3D%20%5B3%2C%206%2C%208%2C%209%5D%5Cnreverse%28liste%5B%3A%5D%29%5Cnprint%28%5C%22liste%20inchang%5Cu00e9e%20sans%20effet%20de%20bord%5C%22%2C%20liste%29%22%2C%20%22trace%22%3A%20%5B%7B%22line%22%3A%201%2C%20%22event%22%3A%20%22step_line%22%2C%20%22func_name%22%3A%20%22%3Cmodule%3E%22%2C%20%22globals%22%3A%20%7B%7D%2C%20%22ordered_globals%22%3A%20%5B%5D%2C%20%22stack_to_render%22%3A%20%5B%5D%2C%20%22heap%22%3A%20%7B%7D%2C%20%22stdout%22%3A%20%22%22%7D%2C%20%7B%22line%22%3A%207%2C%20%22event%22%3A%20%22step_line%22%2C%20%22func_name%22%3A%20%22%3Cmodule%3E%22%2C%20%22globals%22%3A%20%7B%22reverse%22%3A%20%5B%22REF%22%2C%201%5D%7D%2C%20%22ordered_globals%22%3A%20%5B%22reverse%22%5D%2C%20%22stack_to_render%22%3A%20%5B%5D%2C%20%22heap%22%3A%20%7B%221%22%3A%20%5B%22FUNCTION%22%2C%20%22reverse%28l%29%22%2C%20null%5D%7D%2C%20%22stdout%22%3A%20%22%22%7D%2C%20%7B%22line%22%3A%208%2C%20%22event%22%3A%20%22step_line%22%2C%20%22func_name%22%3A%20%22%3Cmodule%3E%22%2C%20%22globals%22%3A%20%7B%22reverse%22%3A%20%5B%22REF%22%2C%201%5D%2C%20%22liste%22%3A%20%5B%22REF%22%2C%202%5D%7D%2C%20%22ordered_globals%22%3A%20%5B%22reverse%22%2C%20%22liste%22%5D%2C%20%22stack_to_render%22%3A%20%5B%5D%2C%20%22heap%22%3A%20%7B%221%22%3A%20%5B%22FUNCTION%22%2C%20%22reverse%28l%29%22%2C%20null%5D%2C%20%222%22%3A%20%5B%22LIST%22%2C%203%2C%206%2C%208%2C%209%5D%7D%2C%20%22stdout%22%3A%20%22%22%7D%2C%20%7B%22line%22%3A%209%2C%20%22event%22%3A%20%22step_line%22%2C%20%22func_name%22%3A%20%22%3Cmodule%3E%22%2C%20%22globals%22%3A%20%7B%22reverse%22%3A%20%5B%22REF%22%2C%201%5D%2C%20%22liste%22%3A%20%5B%22REF%22%2C%202%5D%7D%2C%20%22ordered_globals%22%3A%20%5B%22reverse%22%2C%20%22liste%22%5D%2C%20%22stack_to_render%22%3A%20%5B%5D%2C%20%22heap%22%3A%20%7B%221%22%3A%20%5B%22FUNCTION%22%2C%20%22reverse%28l%29%22%2C%20null%5D%2C%20%222%22%3A%20%5B%22LIST%22%2C%203%2C%206%2C%208%2C%209%5D%7D%2C%20%22stdout%22%3A%20%22liste%20d%27origine%20%5B3%2C%206%2C%208%2C%209%5D%5Cn%22%7D%2C%20%7B%22line%22%3A%201%2C%20%22event%22%3A%20%22call%22%2C%20%22func_name%22%3A%20%22reverse%22%2C%20%22globals%22%3A%20%7B%22reverse%22%3A%20%5B%22REF%22%2C%201%5D%2C%20%22liste%22%3A%20%5B%22REF%22%2C%202%5D%7D%2C%20%22ordered_globals%22%3A%20%5B%22reverse%22%2C%20%22liste%22%5D%2C%20%22stack_to_render%22%3A%20%5B%7B%22func_name%22%3A%20%22reverse%22%2C%20%22is_parent%22%3A%20false%2C%20%22frame_id%22%3A%201%2C%20%22parent_frame_id_list%22%3A%20%5B%5D%2C%20%22encoded_locals%22%3A%20%7B%22l%22%3A%20%5B%22REF%22%2C%202%5D%7D%2C%20%22ordered_varnames%22%3A%20%5B%22l%22%5D%2C%20%22is_zombie%22%3A%20false%2C%20%22is_highlighted%22%3A%20true%2C%20%22unique_hash%22%3A%20%22reverse_f1%22%7D%5D%2C%20%22heap%22%3A%20%7B%222%22%3A%20%5B%22LIST%22%2C%203%2C%206%2C%208%2C%209%5D%2C%20%221%22%3A%20%5B%22FUNCTION%22%2C%20%22reverse%28l%29%22%2C%20null%5D%7D%2C%20%22stdout%22%3A%20%22liste%20d%27origine%20%5B3%2C%206%2C%208%2C%209%5D%5Cn%22%7D%2C%20%7B%22line%22%3A%202%2C%20%22event%22%3A%20%22step_line%22%2C%20%22func_name%22%3A%20%22reverse%22%2C%20%22globals%22%3A%20%7B%22reverse%22%3A%20%5B%22REF%22%2C%201%5D%2C%20%22liste%22%3A%20%5B%22REF%22%2C%202%5D%7D%2C%20%22ordered_globals%22%3A%20%5B%22reverse%22%2C%20%22liste%22%5D%2C%20%22stack_to_render%22%3A%20%5B%7B%22func_name%22%3A%20%22reverse%22%2C%20%22is_parent%22%3A%20false%2C%20%22frame_id%22%3A%201%2C%20%22parent_frame_id_list%22%3A%20%5B%5D%2C%20%22encoded_locals%22%3A%20%7B%22l%22%3A%20%5B%22REF%22%2C%202%5D%7D%2C%20%22ordered_varnames%22%3A%20%5B%22l%22%5D%2C%20%22is_zombie%22%3A%20false%2C%20%22is_highlighted%22%3A%20true%2C%20%22unique_hash%22%3A%20%22reverse_f1%22%7D%5D%2C%20%22heap%22%3A%20%7B%222%22%3A%20%5B%22LIST%22%2C%203%2C%206%2C%208%2C%209%5D%2C%20%221%22%3A%20%5B%22FUNCTION%22%2C%20%22reverse%28l%29%22%2C%20null%5D%7D%2C%20%22stdout%22%3A%20%22liste%20d%27origine%20%5B3%2C%206%2C%208%2C%209%5D%5Cn%22%7D%2C%20%7B%22line%22%3A%203%2C%20%22event%22%3A%20%22step_line%22%2C%20%22func_name%22%3A%20%22reverse%22%2C%20%22globals%22%3A%20%7B%22reverse%22%3A%20%5B%22REF%22%2C%201%5D%2C%20%22liste%22%3A%20%5B%22REF%22%2C%202%5D%7D%2C%20%22ordered_globals%22%3A%20%5B%22reverse%22%2C%20%22liste%22%5D%2C%20%22stack_to_render%22%3A%20%5B%7B%22func_name%22%3A%20%22reverse%22%2C%20%22is_parent%22%3A%20false%2C%20%22frame_id%22%3A%201%2C%20%22parent_frame_id_list%22%3A%20%5B%5D%2C%20%22encoded_locals%22%3A%20%7B%22l%22%3A%20%5B%22REF%22%2C%202%5D%2C%20%22taille%22%3A%204%7D%2C%20%22ordered_varnames%22%3A%20%5B%22l%22%2C%20%22taille%22%5D%2C%20%22is_zombie%22%3A%20false%2C%20%22is_highlighted%22%3A%20true%2C%20%22unique_hash%22%3A%20%22reverse_f1%22%7D%5D%2C%20%22heap%22%3A%20%7B%222%22%3A%20%5B%22LIST%22%2C%203%2C%206%2C%208%2C%209%5D%2C%20%221%22%3A%20%5B%22FUNCTION%22%2C%20%22reverse%28l%29%22%2C%20null%5D%7D%2C%20%22stdout%22%3A%20%22liste%20d%27origine%20%5B3%2C%206%2C%208%2C%209%5D%5Cn%22%7D%2C%20%7B%22line%22%3A%204%2C%20%22event%22%3A%20%22step_line%22%2C%20%22func_name%22%3A%20%22reverse%22%2C%20%22globals%22%3A%20%7B%22reverse%22%3A%20%5B%22REF%22%2C%201%5D%2C%20%22liste%22%3A%20%5B%22REF%22%2C%202%5D%7D%2C%20%22ordered_globals%22%3A%20%5B%22reverse%22%2C%20%22liste%22%5D%2C%20%22stack_to_render%22%3A%20%5B%7B%22func_name%22%3A%20%22reverse%22%2C%20%22is_parent%22%3A%20false%2C%20%22frame_id%22%3A%201%2C%20%22parent_frame_id_list%22%3A%20%5B%5D%2C%20%22encoded_locals%22%3A%20%7B%22l%22%3A%20%5B%22REF%22%2C%202%5D%2C%20%22taille%22%3A%204%2C%20%22i%22%3A%200%7D%2C%20%22ordered_varnames%22%3A%20%5B%22l%22%2C%20%22taille%22%2C%20%22i%22%5D%2C%20%22is_zombie%22%3A%20false%2C%20%22is_highlighted%22%3A%20true%2C%20%22unique_hash%22%3A%20%22reverse_f1%22%7D%5D%2C%20%22heap%22%3A%20%7B%222%22%3A%20%5B%22LIST%22%2C%203%2C%206%2C%208%2C%209%5D%2C%20%221%22%3A%20%5B%22FUNCTION%22%2C%20%22reverse%28l%29%22%2C%20null%5D%7D%2C%20%22stdout%22%3A%20%22liste%20d%27origine%20%5B3%2C%206%2C%208%2C%209%5D%5Cn%22%7D%2C%20%7B%22line%22%3A%203%2C%20%22event%22%3A%20%22step_line%22%2C%20%22func_name%22%3A%20%22reverse%22%2C%20%22globals%22%3A%20%7B%22reverse%22%3A%20%5B%22REF%22%2C%201%5D%2C%20%22liste%22%3A%20%5B%22REF%22%2C%202%5D%7D%2C%20%22ordered_globals%22%3A%20%5B%22reverse%22%2C%20%22liste%22%5D%2C%20%22stack_to_render%22%3A%20%5B%7B%22func_name%22%3A%20%22reverse%22%2C%20%22is_parent%22%3A%20false%2C%20%22frame_id%22%3A%201%2C%20%22parent_frame_id_list%22%3A%20%5B%5D%2C%20%22encoded_locals%22%3A%20%7B%22l%22%3A%20%5B%22REF%22%2C%202%5D%2C%20%22taille%22%3A%204%2C%20%22i%22%3A%200%7D%2C%20%22ordered_varnames%22%3A%20%5B%22l%22%2C%20%22taille%22%2C%20%22i%22%5D%2C%20%22is_zombie%22%3A%20false%2C%20%22is_highlighted%22%3A%20true%2C%20%22unique_hash%22%3A%20%22reverse_f1%22%7D%5D%2C%20%22heap%22%3A%20%7B%222%22%3A%20%5B%22LIST%22%2C%209%2C%206%2C%208%2C%203%5D%2C%20%221%22%3A%20%5B%22FUNCTION%22%2C%20%22reverse%28l%29%22%2C%20null%5D%7D%2C%20%22stdout%22%3A%20%22liste%20d%27origine%20%5B3%2C%206%2C%208%2C%209%5D%5Cn%22%7D%2C%20%7B%22line%22%3A%204%2C%20%22event%22%3A%20%22step_line%22%2C%20%22func_name%22%3A%20%22reverse%22%2C%20%22globals%22%3A%20%7B%22reverse%22%3A%20%5B%22REF%22%2C%201%5D%2C%20%22liste%22%3A%20%5B%22REF%22%2C%202%5D%7D%2C%20%22ordered_globals%22%3A%20%5B%22reverse%22%2C%20%22liste%22%5D%2C%20%22stack_to_render%22%3A%20%5B%7B%22func_name%22%3A%20%22reverse%22%2C%20%22is_parent%22%3A%20false%2C%20%22frame_id%22%3A%201%2C%20%22parent_frame_id_list%22%3A%20%5B%5D%2C%20%22encoded_locals%22%3A%20%7B%22l%22%3A%20%5B%22REF%22%2C%202%5D%2C%20%22taille%22%3A%204%2C%20%22i%22%3A%201%7D%2C%20%22ordered_varnames%22%3A%20%5B%22l%22%2C%20%22taille%22%2C%20%22i%22%5D%2C%20%22is_zombie%22%3A%20false%2C%20%22is_highlighted%22%3A%20true%2C%20%22unique_hash%22%3A%20%22reverse_f1%22%7D%5D%2C%20%22heap%22%3A%20%7B%222%22%3A%20%5B%22LIST%22%2C%209%2C%206%2C%208%2C%203%5D%2C%20%221%22%3A%20%5B%22FUNCTION%22%2C%20%22reverse%28l%29%22%2C%20null%5D%7D%2C%20%22stdout%22%3A%20%22liste%20d%27origine%20%5B3%2C%206%2C%208%2C%209%5D%5Cn%22%7D%2C%20%7B%22line%22%3A%203%2C%20%22event%22%3A%20%22step_line%22%2C%20%22func_name%22%3A%20%22reverse%22%2C%20%22globals%22%3A%20%7B%22reverse%22%3A%20%5B%22REF%22%2C%201%5D%2C%20%22liste%22%3A%20%5B%22REF%22%2C%202%5D%7D%2C%20%22ordered_globals%22%3A%20%5B%22reverse%22%2C%20%22liste%22%5D%2C%20%22stack_to_render%22%3A%20%5B%7B%22func_name%22%3A%20%22reverse%22%2C%20%22is_parent%22%3A%20false%2C%20%22frame_id%22%3A%201%2C%20%22parent_frame_id_list%22%3A%20%5B%5D%2C%20%22encoded_locals%22%3A%20%7B%22l%22%3A%20%5B%22REF%22%2C%202%5D%2C%20%22taille%22%3A%204%2C%20%22i%22%3A%201%7D%2C%20%22ordered_varnames%22%3A%20%5B%22l%22%2C%20%22taille%22%2C%20%22i%22%5D%2C%20%22is_zombie%22%3A%20false%2C%20%22is_highlighted%22%3A%20true%2C%20%22unique_hash%22%3A%20%22reverse_f1%22%7D%5D%2C%20%22heap%22%3A%20%7B%222%22%3A%20%5B%22LIST%22%2C%209%2C%208%2C%206%2C%203%5D%2C%20%221%22%3A%20%5B%22FUNCTION%22%2C%20%22reverse%28l%29%22%2C%20null%5D%7D%2C%20%22stdout%22%3A%20%22liste%20d%27origine%20%5B3%2C%206%2C%208%2C%209%5D%5Cn%22%7D%2C%20%7B%22line%22%3A%205%2C%20%22event%22%3A%20%22step_line%22%2C%20%22func_name%22%3A%20%22reverse%22%2C%20%22globals%22%3A%20%7B%22reverse%22%3A%20%5B%22REF%22%2C%201%5D%2C%20%22liste%22%3A%20%5B%22REF%22%2C%202%5D%7D%2C%20%22ordered_globals%22%3A%20%5B%22reverse%22%2C%20%22liste%22%5D%2C%20%22stack_to_render%22%3A%20%5B%7B%22func_name%22%3A%20%22reverse%22%2C%20%22is_parent%22%3A%20false%2C%20%22frame_id%22%3A%201%2C%20%22parent_frame_id_list%22%3A%20%5B%5D%2C%20%22encoded_locals%22%3A%20%7B%22l%22%3A%20%5B%22REF%22%2C%202%5D%2C%20%22taille%22%3A%204%2C%20%22i%22%3A%201%7D%2C%20%22ordered_varnames%22%3A%20%5B%22l%22%2C%20%22taille%22%2C%20%22i%22%5D%2C%20%22is_zombie%22%3A%20false%2C%20%22is_highlighted%22%3A%20true%2C%20%22unique_hash%22%3A%20%22reverse_f1%22%7D%5D%2C%20%22heap%22%3A%20%7B%222%22%3A%20%5B%22LIST%22%2C%209%2C%208%2C%206%2C%203%5D%2C%20%221%22%3A%20%5B%22FUNCTION%22%2C%20%22reverse%28l%29%22%2C%20null%5D%7D%2C%20%22stdout%22%3A%20%22liste%20d%27origine%20%5B3%2C%206%2C%208%2C%209%5D%5Cn%22%7D%2C%20%7B%22line%22%3A%205%2C%20%22event%22%3A%20%22return%22%2C%20%22func_name%22%3A%20%22reverse%22%2C%20%22globals%22%3A%20%7B%22reverse%22%3A%20%5B%22REF%22%2C%201%5D%2C%20%22liste%22%3A%20%5B%22REF%22%2C%202%5D%7D%2C%20%22ordered_globals%22%3A%20%5B%22reverse%22%2C%20%22liste%22%5D%2C%20%22stack_to_render%22%3A%20%5B%7B%22func_name%22%3A%20%22reverse%22%2C%20%22is_parent%22%3A%20false%2C%20%22frame_id%22%3A%201%2C%20%22parent_frame_id_list%22%3A%20%5B%5D%2C%20%22encoded_locals%22%3A%20%7B%22l%22%3A%20%5B%22REF%22%2C%202%5D%2C%20%22taille%22%3A%204%2C%20%22i%22%3A%201%2C%20%22__return__%22%3A%20%5B%22REF%22%2C%202%5D%7D%2C%20%22ordered_varnames%22%3A%20%5B%22l%22%2C%20%22taille%22%2C%20%22i%22%2C%20%22__return__%22%5D%2C%20%22is_zombie%22%3A%20false%2C%20%22is_highlighted%22%3A%20true%2C%20%22unique_hash%22%3A%20%22reverse_f1%22%7D%5D%2C%20%22heap%22%3A%20%7B%222%22%3A%20%5B%22LIST%22%2C%209%2C%208%2C%206%2C%203%5D%2C%20%221%22%3A%20%5B%22FUNCTION%22%2C%20%22reverse%28l%29%22%2C%20null%5D%7D%2C%20%22stdout%22%3A%20%22liste%20d%27origine%20%5B3%2C%206%2C%208%2C%209%5D%5Cn%22%7D%2C%20%7B%22line%22%3A%2010%2C%20%22event%22%3A%20%22step_line%22%2C%20%22func_name%22%3A%20%22%3Cmodule%3E%22%2C%20%22globals%22%3A%20%7B%22reverse%22%3A%20%5B%22REF%22%2C%201%5D%2C%20%22liste%22%3A%20%5B%22REF%22%2C%202%5D%7D%2C%20%22ordered_globals%22%3A%20%5B%22reverse%22%2C%20%22liste%22%5D%2C%20%22stack_to_render%22%3A%20%5B%5D%2C%20%22heap%22%3A%20%7B%221%22%3A%20%5B%22FUNCTION%22%2C%20%22reverse%28l%29%22%2C%20null%5D%2C%20%222%22%3A%20%5B%22LIST%22%2C%209%2C%208%2C%206%2C%203%5D%7D%2C%20%22stdout%22%3A%20%22liste%20d%27origine%20%5B3%2C%206%2C%208%2C%209%5D%5Cn%22%7D%2C%20%7B%22line%22%3A%2011%2C%20%22event%22%3A%20%22step_line%22%2C%20%22func_name%22%3A%20%22%3Cmodule%3E%22%2C%20%22globals%22%3A%20%7B%22reverse%22%3A%20%5B%22REF%22%2C%201%5D%2C%20%22liste%22%3A%20%5B%22REF%22%2C%202%5D%7D%2C%20%22ordered_globals%22%3A%20%5B%22reverse%22%2C%20%22liste%22%5D%2C%20%22stack_to_render%22%3A%20%5B%5D%2C%20%22heap%22%3A%20%7B%221%22%3A%20%5B%22FUNCTION%22%2C%20%22reverse%28l%29%22%2C%20null%5D%2C%20%222%22%3A%20%5B%22LIST%22%2C%209%2C%208%2C%206%2C%203%5D%7D%2C%20%22stdout%22%3A%20%22liste%20d%27origine%20%5B3%2C%206%2C%208%2C%209%5D%5Cnliste%20modifi%5Cu00e9e%20car%20effet%20de%20bord%20%5B9%2C%208%2C%206%2C%203%5D%5Cn%22%7D%2C%20%7B%22line%22%3A%2012%2C%20%22event%22%3A%20%22step_line%22%2C%20%22func_name%22%3A%20%22%3Cmodule%3E%22%2C%20%22globals%22%3A%20%7B%22reverse%22%3A%20%5B%22REF%22%2C%201%5D%2C%20%22liste%22%3A%20%5B%22REF%22%2C%203%5D%7D%2C%20%22ordered_globals%22%3A%20%5B%22reverse%22%2C%20%22liste%22%5D%2C%20%22stack_to_render%22%3A%20%5B%5D%2C%20%22heap%22%3A%20%7B%221%22%3A%20%5B%22FUNCTION%22%2C%20%22reverse%28l%29%22%2C%20null%5D%2C%20%223%22%3A%20%5B%22LIST%22%2C%203%2C%206%2C%208%2C%209%5D%7D%2C%20%22stdout%22%3A%20%22liste%20d%27origine%20%5B3%2C%206%2C%208%2C%209%5D%5Cnliste%20modifi%5Cu00e9e%20car%20effet%20de%20bord%20%5B9%2C%208%2C%206%2C%203%5D%5Cn%22%7D%2C%20%7B%22line%22%3A%201%2C%20%22event%22%3A%20%22call%22%2C%20%22func_name%22%3A%20%22reverse%22%2C%20%22globals%22%3A%20%7B%22reverse%22%3A%20%5B%22REF%22%2C%201%5D%2C%20%22liste%22%3A%20%5B%22REF%22%2C%203%5D%7D%2C%20%22ordered_globals%22%3A%20%5B%22reverse%22%2C%20%22liste%22%5D%2C%20%22stack_to_render%22%3A%20%5B%7B%22func_name%22%3A%20%22reverse%22%2C%20%22is_parent%22%3A%20false%2C%20%22frame_id%22%3A%202%2C%20%22parent_frame_id_list%22%3A%20%5B%5D%2C%20%22encoded_locals%22%3A%20%7B%22l%22%3A%20%5B%22REF%22%2C%204%5D%7D%2C%20%22ordered_varnames%22%3A%20%5B%22l%22%5D%2C%20%22is_zombie%22%3A%20false%2C%20%22is_highlighted%22%3A%20true%2C%20%22unique_hash%22%3A%20%22reverse_f2%22%7D%5D%2C%20%22heap%22%3A%20%7B%224%22%3A%20%5B%22LIST%22%2C%203%2C%206%2C%208%2C%209%5D%2C%20%221%22%3A%20%5B%22FUNCTION%22%2C%20%22reverse%28l%29%22%2C%20null%5D%2C%20%223%22%3A%20%5B%22LIST%22%2C%203%2C%206%2C%208%2C%209%5D%7D%2C%20%22stdout%22%3A%20%22liste%20d%27origine%20%5B3%2C%206%2C%208%2C%209%5D%5Cnliste%20modifi%5Cu00e9e%20car%20effet%20de%20bord%20%5B9%2C%208%2C%206%2C%203%5D%5Cn%22%7D%2C%20%7B%22line%22%3A%202%2C%20%22event%22%3A%20%22step_line%22%2C%20%22func_name%22%3A%20%22reverse%22%2C%20%22globals%22%3A%20%7B%22reverse%22%3A%20%5B%22REF%22%2C%201%5D%2C%20%22liste%22%3A%20%5B%22REF%22%2C%203%5D%7D%2C%20%22ordered_globals%22%3A%20%5B%22reverse%22%2C%20%22liste%22%5D%2C%20%22stack_to_render%22%3A%20%5B%7B%22func_name%22%3A%20%22reverse%22%2C%20%22is_parent%22%3A%20false%2C%20%22frame_id%22%3A%202%2C%20%22parent_frame_id_list%22%3A%20%5B%5D%2C%20%22encoded_locals%22%3A%20%7B%22l%22%3A%20%5B%22REF%22%2C%204%5D%7D%2C%20%22ordered_varnames%22%3A%20%5B%22l%22%5D%2C%20%22is_zombie%22%3A%20false%2C%20%22is_highlighted%22%3A%20true%2C%20%22unique_hash%22%3A%20%22reverse_f2%22%7D%5D%2C%20%22heap%22%3A%20%7B%224%22%3A%20%5B%22LIST%22%2C%203%2C%206%2C%208%2C%209%5D%2C%20%221%22%3A%20%5B%22FUNCTION%22%2C%20%22reverse%28l%29%22%2C%20null%5D%2C%20%223%22%3A%20%5B%22LIST%22%2C%203%2C%206%2C%208%2C%209%5D%7D%2C%20%22stdout%22%3A%20%22liste%20d%27origine%20%5B3%2C%206%2C%208%2C%209%5D%5Cnliste%20modifi%5Cu00e9e%20car%20effet%20de%20bord%20%5B9%2C%208%2C%206%2C%203%5D%5Cn%22%7D%2C%20%7B%22line%22%3A%203%2C%20%22event%22%3A%20%22step_line%22%2C%20%22func_name%22%3A%20%22reverse%22%2C%20%22globals%22%3A%20%7B%22reverse%22%3A%20%5B%22REF%22%2C%201%5D%2C%20%22liste%22%3A%20%5B%22REF%22%2C%203%5D%7D%2C%20%22ordered_globals%22%3A%20%5B%22reverse%22%2C%20%22liste%22%5D%2C%20%22stack_to_render%22%3A%20%5B%7B%22func_name%22%3A%20%22reverse%22%2C%20%22is_parent%22%3A%20false%2C%20%22frame_id%22%3A%202%2C%20%22parent_frame_id_list%22%3A%20%5B%5D%2C%20%22encoded_locals%22%3A%20%7B%22l%22%3A%20%5B%22REF%22%2C%204%5D%2C%20%22taille%22%3A%204%7D%2C%20%22ordered_varnames%22%3A%20%5B%22l%22%2C%20%22taille%22%5D%2C%20%22is_zombie%22%3A%20false%2C%20%22is_highlighted%22%3A%20true%2C%20%22unique_hash%22%3A%20%22reverse_f2%22%7D%5D%2C%20%22heap%22%3A%20%7B%224%22%3A%20%5B%22LIST%22%2C%203%2C%206%2C%208%2C%209%5D%2C%20%221%22%3A%20%5B%22FUNCTION%22%2C%20%22reverse%28l%29%22%2C%20null%5D%2C%20%223%22%3A%20%5B%22LIST%22%2C%203%2C%206%2C%208%2C%209%5D%7D%2C%20%22stdout%22%3A%20%22liste%20d%27origine%20%5B3%2C%206%2C%208%2C%209%5D%5Cnliste%20modifi%5Cu00e9e%20car%20effet%20de%20bord%20%5B9%2C%208%2C%206%2C%203%5D%5Cn%22%7D%2C%20%7B%22line%22%3A%204%2C%20%22event%22%3A%20%22step_line%22%2C%20%22func_name%22%3A%20%22reverse%22%2C%20%22globals%22%3A%20%7B%22reverse%22%3A%20%5B%22REF%22%2C%201%5D%2C%20%22liste%22%3A%20%5B%22REF%22%2C%203%5D%7D%2C%20%22ordered_globals%22%3A%20%5B%22reverse%22%2C%20%22liste%22%5D%2C%20%22stack_to_render%22%3A%20%5B%7B%22func_name%22%3A%20%22reverse%22%2C%20%22is_parent%22%3A%20false%2C%20%22frame_id%22%3A%202%2C%20%22parent_frame_id_list%22%3A%20%5B%5D%2C%20%22encoded_locals%22%3A%20%7B%22l%22%3A%20%5B%22REF%22%2C%204%5D%2C%20%22taille%22%3A%204%2C%20%22i%22%3A%200%7D%2C%20%22ordered_varnames%22%3A%20%5B%22l%22%2C%20%22taille%22%2C%20%22i%22%5D%2C%20%22is_zombie%22%3A%20false%2C%20%22is_highlighted%22%3A%20true%2C%20%22unique_hash%22%3A%20%22reverse_f2%22%7D%5D%2C%20%22heap%22%3A%20%7B%224%22%3A%20%5B%22LIST%22%2C%203%2C%206%2C%208%2C%209%5D%2C%20%221%22%3A%20%5B%22FUNCTION%22%2C%20%22reverse%28l%29%22%2C%20null%5D%2C%20%223%22%3A%20%5B%22LIST%22%2C%203%2C%206%2C%208%2C%209%5D%7D%2C%20%22stdout%22%3A%20%22liste%20d%27origine%20%5B3%2C%206%2C%208%2C%209%5D%5Cnliste%20modifi%5Cu00e9e%20car%20effet%20de%20bord%20%5B9%2C%208%2C%206%2C%203%5D%5Cn%22%7D%2C%20%7B%22line%22%3A%203%2C%20%22event%22%3A%20%22step_line%22%2C%20%22func_name%22%3A%20%22reverse%22%2C%20%22globals%22%3A%20%7B%22reverse%22%3A%20%5B%22REF%22%2C%201%5D%2C%20%22liste%22%3A%20%5B%22REF%22%2C%203%5D%7D%2C%20%22ordered_globals%22%3A%20%5B%22reverse%22%2C%20%22liste%22%5D%2C%20%22stack_to_render%22%3A%20%5B%7B%22func_name%22%3A%20%22reverse%22%2C%20%22is_parent%22%3A%20false%2C%20%22frame_id%22%3A%202%2C%20%22parent_frame_id_list%22%3A%20%5B%5D%2C%20%22encoded_locals%22%3A%20%7B%22l%22%3A%20%5B%22REF%22%2C%204%5D%2C%20%22taille%22%3A%204%2C%20%22i%22%3A%200%7D%2C%20%22ordered_varnames%22%3A%20%5B%22l%22%2C%20%22taille%22%2C%20%22i%22%5D%2C%20%22is_zombie%22%3A%20false%2C%20%22is_highlighted%22%3A%20true%2C%20%22unique_hash%22%3A%20%22reverse_f2%22%7D%5D%2C%20%22heap%22%3A%20%7B%224%22%3A%20%5B%22LIST%22%2C%209%2C%206%2C%208%2C%203%5D%2C%20%221%22%3A%20%5B%22FUNCTION%22%2C%20%22reverse%28l%29%22%2C%20null%5D%2C%20%223%22%3A%20%5B%22LIST%22%2C%203%2C%206%2C%208%2C%209%5D%7D%2C%20%22stdout%22%3A%20%22liste%20d%27origine%20%5B3%2C%206%2C%208%2C%209%5D%5Cnliste%20modifi%5Cu00e9e%20car%20effet%20de%20bord%20%5B9%2C%208%2C%206%2C%203%5D%5Cn%22%7D%2C%20%7B%22line%22%3A%204%2C%20%22event%22%3A%20%22step_line%22%2C%20%22func_name%22%3A%20%22reverse%22%2C%20%22globals%22%3A%20%7B%22reverse%22%3A%20%5B%22REF%22%2C%201%5D%2C%20%22liste%22%3A%20%5B%22REF%22%2C%203%5D%7D%2C%20%22ordered_globals%22%3A%20%5B%22reverse%22%2C%20%22liste%22%5D%2C%20%22stack_to_render%22%3A%20%5B%7B%22func_name%22%3A%20%22reverse%22%2C%20%22is_parent%22%3A%20false%2C%20%22frame_id%22%3A%202%2C%20%22parent_frame_id_list%22%3A%20%5B%5D%2C%20%22encoded_locals%22%3A%20%7B%22l%22%3A%20%5B%22REF%22%2C%204%5D%2C%20%22taille%22%3A%204%2C%20%22i%22%3A%201%7D%2C%20%22ordered_varnames%22%3A%20%5B%22l%22%2C%20%22taille%22%2C%20%22i%22%5D%2C%20%22is_zombie%22%3A%20false%2C%20%22is_highlighted%22%3A%20true%2C%20%22unique_hash%22%3A%20%22reverse_f2%22%7D%5D%2C%20%22heap%22%3A%20%7B%224%22%3A%20%5B%22LIST%22%2C%209%2C%206%2C%208%2C%203%5D%2C%20%221%22%3A%20%5B%22FUNCTION%22%2C%20%22reverse%28l%29%22%2C%20null%5D%2C%20%223%22%3A%20%5B%22LIST%22%2C%203%2C%206%2C%208%2C%209%5D%7D%2C%20%22stdout%22%3A%20%22liste%20d%27origine%20%5B3%2C%206%2C%208%2C%209%5D%5Cnliste%20modifi%5Cu00e9e%20car%20effet%20de%20bord%20%5B9%2C%208%2C%206%2C%203%5D%5Cn%22%7D%2C%20%7B%22line%22%3A%203%2C%20%22event%22%3A%20%22step_line%22%2C%20%22func_name%22%3A%20%22reverse%22%2C%20%22globals%22%3A%20%7B%22reverse%22%3A%20%5B%22REF%22%2C%201%5D%2C%20%22liste%22%3A%20%5B%22REF%22%2C%203%5D%7D%2C%20%22ordered_globals%22%3A%20%5B%22reverse%22%2C%20%22liste%22%5D%2C%20%22stack_to_render%22%3A%20%5B%7B%22func_name%22%3A%20%22reverse%22%2C%20%22is_parent%22%3A%20false%2C%20%22frame_id%22%3A%202%2C%20%22parent_frame_id_list%22%3A%20%5B%5D%2C%20%22encoded_locals%22%3A%20%7B%22l%22%3A%20%5B%22REF%22%2C%204%5D%2C%20%22taille%22%3A%204%2C%20%22i%22%3A%201%7D%2C%20%22ordered_varnames%22%3A%20%5B%22l%22%2C%20%22taille%22%2C%20%22i%22%5D%2C%20%22is_zombie%22%3A%20false%2C%20%22is_highlighted%22%3A%20true%2C%20%22unique_hash%22%3A%20%22reverse_f2%22%7D%5D%2C%20%22heap%22%3A%20%7B%224%22%3A%20%5B%22LIST%22%2C%209%2C%208%2C%206%2C%203%5D%2C%20%221%22%3A%20%5B%22FUNCTION%22%2C%20%22reverse%28l%29%22%2C%20null%5D%2C%20%223%22%3A%20%5B%22LIST%22%2C%203%2C%206%2C%208%2C%209%5D%7D%2C%20%22stdout%22%3A%20%22liste%20d%27origine%20%5B3%2C%206%2C%208%2C%209%5D%5Cnliste%20modifi%5Cu00e9e%20car%20effet%20de%20bord%20%5B9%2C%208%2C%206%2C%203%5D%5Cn%22%7D%2C%20%7B%22line%22%3A%205%2C%20%22event%22%3A%20%22step_line%22%2C%20%22func_name%22%3A%20%22reverse%22%2C%20%22globals%22%3A%20%7B%22reverse%22%3A%20%5B%22REF%22%2C%201%5D%2C%20%22liste%22%3A%20%5B%22REF%22%2C%203%5D%7D%2C%20%22ordered_globals%22%3A%20%5B%22reverse%22%2C%20%22liste%22%5D%2C%20%22stack_to_render%22%3A%20%5B%7B%22func_name%22%3A%20%22reverse%22%2C%20%22is_parent%22%3A%20false%2C%20%22frame_id%22%3A%202%2C%20%22parent_frame_id_list%22%3A%20%5B%5D%2C%20%22encoded_locals%22%3A%20%7B%22l%22%3A%20%5B%22REF%22%2C%204%5D%2C%20%22taille%22%3A%204%2C%20%22i%22%3A%201%7D%2C%20%22ordered_varnames%22%3A%20%5B%22l%22%2C%20%22taille%22%2C%20%22i%22%5D%2C%20%22is_zombie%22%3A%20false%2C%20%22is_highlighted%22%3A%20true%2C%20%22unique_hash%22%3A%20%22reverse_f2%22%7D%5D%2C%20%22heap%22%3A%20%7B%224%22%3A%20%5B%22LIST%22%2C%209%2C%208%2C%206%2C%203%5D%2C%20%221%22%3A%20%5B%22FUNCTION%22%2C%20%22reverse%28l%29%22%2C%20null%5D%2C%20%223%22%3A%20%5B%22LIST%22%2C%203%2C%206%2C%208%2C%209%5D%7D%2C%20%22stdout%22%3A%20%22liste%20d%27origine%20%5B3%2C%206%2C%208%2C%209%5D%5Cnliste%20modifi%5Cu00e9e%20car%20effet%20de%20bord%20%5B9%2C%208%2C%206%2C%203%5D%5Cn%22%7D%2C%20%7B%22line%22%3A%205%2C%20%22event%22%3A%20%22return%22%2C%20%22func_name%22%3A%20%22reverse%22%2C%20%22globals%22%3A%20%7B%22reverse%22%3A%20%5B%22REF%22%2C%201%5D%2C%20%22liste%22%3A%20%5B%22REF%22%2C%203%5D%7D%2C%20%22ordered_globals%22%3A%20%5B%22reverse%22%2C%20%22liste%22%5D%2C%20%22stack_to_render%22%3A%20%5B%7B%22func_name%22%3A%20%22reverse%22%2C%20%22is_parent%22%3A%20false%2C%20%22frame_id%22%3A%202%2C%20%22parent_frame_id_list%22%3A%20%5B%5D%2C%20%22encoded_locals%22%3A%20%7B%22l%22%3A%20%5B%22REF%22%2C%204%5D%2C%20%22taille%22%3A%204%2C%20%22i%22%3A%201%2C%20%22__return__%22%3A%20%5B%22REF%22%2C%204%5D%7D%2C%20%22ordered_varnames%22%3A%20%5B%22l%22%2C%20%22taille%22%2C%20%22i%22%2C%20%22__return__%22%5D%2C%20%22is_zombie%22%3A%20false%2C%20%22is_highlighted%22%3A%20true%2C%20%22unique_hash%22%3A%20%22reverse_f2%22%7D%5D%2C%20%22heap%22%3A%20%7B%224%22%3A%20%5B%22LIST%22%2C%209%2C%208%2C%206%2C%203%5D%2C%20%221%22%3A%20%5B%22FUNCTION%22%2C%20%22reverse%28l%29%22%2C%20null%5D%2C%20%223%22%3A%20%5B%22LIST%22%2C%203%2C%206%2C%208%2C%209%5D%7D%2C%20%22stdout%22%3A%20%22liste%20d%27origine%20%5B3%2C%206%2C%208%2C%209%5D%5Cnliste%20modifi%5Cu00e9e%20car%20effet%20de%20bord%20%5B9%2C%208%2C%206%2C%203%5D%5Cn%22%7D%2C%20%7B%22line%22%3A%2013%2C%20%22event%22%3A%20%22step_line%22%2C%20%22func_name%22%3A%20%22%3Cmodule%3E%22%2C%20%22globals%22%3A%20%7B%22reverse%22%3A%20%5B%22REF%22%2C%201%5D%2C%20%22liste%22%3A%20%5B%22REF%22%2C%203%5D%7D%2C%20%22ordered_globals%22%3A%20%5B%22reverse%22%2C%20%22liste%22%5D%2C%20%22stack_to_render%22%3A%20%5B%5D%2C%20%22heap%22%3A%20%7B%221%22%3A%20%5B%22FUNCTION%22%2C%20%22reverse%28l%29%22%2C%20null%5D%2C%20%223%22%3A%20%5B%22LIST%22%2C%203%2C%206%2C%208%2C%209%5D%7D%2C%20%22stdout%22%3A%20%22liste%20d%27origine%20%5B3%2C%206%2C%208%2C%209%5D%5Cnliste%20modifi%5Cu00e9e%20car%20effet%20de%20bord%20%5B9%2C%208%2C%206%2C%203%5D%5Cn%22%7D%2C%20%7B%22line%22%3A%2013%2C%20%22event%22%3A%20%22return%22%2C%20%22func_name%22%3A%20%22%3Cmodule%3E%22%2C%20%22globals%22%3A%20%7B%22reverse%22%3A%20%5B%22REF%22%2C%201%5D%2C%20%22liste%22%3A%20%5B%22REF%22%2C%203%5D%7D%2C%20%22ordered_globals%22%3A%20%5B%22reverse%22%2C%20%22liste%22%5D%2C%20%22stack_to_render%22%3A%20%5B%5D%2C%20%22heap%22%3A%20%7B%221%22%3A%20%5B%22FUNCTION%22%2C%20%22reverse%28l%29%22%2C%20null%5D%2C%20%223%22%3A%20%5B%22LIST%22%2C%203%2C%206%2C%208%2C%209%5D%7D%2C%20%22stdout%22%3A%20%22liste%20d%27origine%20%5B3%2C%206%2C%208%2C%209%5D%5Cnliste%20modifi%5Cu00e9e%20car%20effet%20de%20bord%20%5B9%2C%208%2C%206%2C%203%5D%5Cnliste%20inchang%5Cu00e9e%20sans%20effet%20de%20bord%20%5B3%2C%206%2C%208%2C%209%5D%5Cn%22%7D%5D%7D%3B%0A%20%20%20%20%20%20%20%20%20%20function%20redraw%28%29%20%7B%20if%20%28window.v%29%20window.v.redrawConnectors%28%29%3B%20%7D%0A%20%20%20%20%20%20%20%20%20%20window.v%20%3D%20new%20ExecutionVisualizer%28%0A%20%20%20%20%20%20%20%20%20%20%20%20%20%20%27main%27%2C%20t%2C%0A%20%20%20%20%20%20%20%20%20%20%20%20%20%20%7BembeddedMode%3A%20false%2C%0A%20%20%20%20%20%20%20%20%20%20%20%20%20%20%20%20heightChangeCallback%3A%20redraw%7D%0A%20%20%20%20%20%20%20%20%20%20%29%3B%0A%0A%20%20%20%20%20%20%20%20%20%20//%20message%20of%20type%20%27redraw%27%20from%20parent%20triggers%20a%20full%20redraw%0A%20%20%20%20%20%20%20%20%20%20//%20%28usefull%20when%20iframe%20is%20added%20to%20a%20non%20visible%20parent%29%0A%20%20%20%20%20%20%20%20%20%20window.addEventListener%28%27message%27%2C%20function%20%28event%29%20%7B%0A%20%20%20%20%20%20%20%20%20%20%20%20%20%20const%20data%20%3D%20event.data%3B%0A%20%20%20%20%20%20%20%20%20%20%20%20%20%20if%28%20data.type%20%3D%3D%3D%20%27redraw%27%20%29%0A%20%20%20%20%20%20%20%20%20%20%20%20%20%20%20%20%20%20window.v.updateOutput%28%29%3B%0A%20%20%20%20%20%20%20%20%20%20%7D%29%3B%0A%0A%20%20%20%20%20%20%20%20%20%20%24%28window%29.resize%28redraw%29%3B%0A%20%20%20%20%20%20%20%20%20%20redraw%28%29%3B%0A%20%20%20%20%20%20%7D%29%3B%0A%20%20%20%20%3C/script%3E%0A%20%20%3C/head%3E%0A%20%20%3Cbody%20style%3D%22background-color%3A%20white%3B%20overflow-y%3A%20hidden%3B%22%3E%0A%20%20%20%20%3Cdiv%20id%3D%22main%22%3E%3C/div%3E%0A%20%20%3C/body%3E%0A%3C/html%3E%0A\"></iframe>"
      ]
     },
     "metadata": {},
     "output_type": "display_data"
    }
   ],
   "source": [
    "from tutor import tutor\n",
    "\n",
    "\n",
    "def reverse(l):\n",
    "    taille = len(l)\n",
    "    for i in range(taille //2 ):\n",
    "        l[i], l[taille - 1 - i] = l[taille- 1 - i], l[i]\n",
    "    return l\n",
    "\n",
    "liste = [3, 6, 8, 9]\n",
    "print(\"liste d'origine\", liste)\n",
    "reverse(liste)\n",
    "print(\"liste modifiée car effet de bord\", liste)\n",
    "liste = [3, 6, 8, 9]\n",
    "reverse(liste[:])\n",
    "print(\"liste inchangée sans effet de bord\", liste)\n",
    "tutor()"
   ]
  },
  {
   "cell_type": "code",
   "execution_count": 7,
   "metadata": {},
   "outputs": [
    {
     "data": {
      "text/html": [
       "<iframe id=\"basthon-pythontutor-iframe-4\" style=\"width: 100%; height: 400px;\" frameborder=\"0\" src=\"data:text/html;charset=utf-8,%3C%21DOCTYPE%20html%3E%0A%3Chtml%3E%0A%20%20%3Chead%3E%0A%20%20%20%20%3Clink%20rel%3D%22stylesheet%22%20href%3D%22https%3A//capytale2.ac-paris.fr/p/basthon/n/assets/0.50.12/python3/modules/extern/pytutor-main.min.css%22/%3E%0A%20%20%20%20%3Cscript%20src%3D%22https%3A//capytale2.ac-paris.fr/p/basthon/n/assets/0.50.12/python3/modules/extern/pytutor-main.min.js%22%3E%3C/script%3E%0A%20%20%20%20%3Cscript%3E%0A%20%20%20%20%20%20let%20sent_height%3B%0A%20%20%20%20%20%20%24%28document%29.ready%28function%28%29%20%7B%0A%20%20%20%20%20%20%20%20%20%20//%20managing%20iframe%20resize%0A%20%20%20%20%20%20%20%20%20%20const%20send%20%3D%20%28%29%20%3D%3E%20%7B%0A%20%20%20%20%20%20%20%20%20%20%20%20%20%20const%20new_height%20%3D%20document.body.offsetHeight%3B%0A%20%20%20%20%20%20%20%20%20%20%20%20%20%20if%20%28sent_height%20%3D%3D%3D%20new_height%29%20return%3B%0A%20%20%20%20%20%20%20%20%20%20%20%20%20%20sent_height%20%3D%20new_height%3B%0A%20%20%20%20%20%20%20%20%20%20%20%20%20%20window.parent.postMessage%28%7B%0A%20%20%20%20%20%20%20%20%20%20%20%20%20%20%20%20%20%20type%3A%20%22pytutor-iframe-resize%22%2C%0A%20%20%20%20%20%20%20%20%20%20%20%20%20%20%20%20%20%20target%3A%20%22basthon-pythontutor-iframe-4%22%2C%0A%20%20%20%20%20%20%20%20%20%20%20%20%20%20%20%20%20%20height%3A%20sent_height%2C%0A%20%20%20%20%20%20%20%20%20%20%20%20%20%20%7D%2C%20%27%2A%27%29%3B%0A%20%20%20%20%20%20%20%20%20%20%7D%3B%0A%20%20%20%20%20%20%20%20%20%20const%20o%20%3D%20new%20ResizeObserver%28send%29%3B%0A%20%20%20%20%20%20%20%20%20%20o.observe%28document.body%29%3B%0A%0A%20%20%20%20%20%20%20%20%20%20const%20t%20%3D%20%7B%22code%22%3A%20%22def%20cherche_ligne%28grille%2C%20valeur%29%3A%5Cn%20%20%20%20%5C%22%5C%22%5C%22%20renvoie%20True%20si%20la%20somme%20des%20%5Cu00e9l%5Cu00e9ments%20d%27une%20%5Cn%20%20%20%20ligne%20de%20grille%20vaut%20valeur%2C%20False%20sinon%5C%22%5C%22%5C%22%5Cn%20%20%20%20%5Cn%20%20%20%20for%20i%20in%20range%28len%28grille%29%29%3A%5Cn%20%20%20%20%20%20%20%20somme%20%3D%200%5Cn%20%20%20%20%20%20%20%20for%20j%20in%20range%28len%28grille%5Bi%5D%29%29%3A%5Cn%20%20%20%20%20%20%20%20%20%20%20%20somme%20%3D%20somme%20%2B%20grille%5Bi%5D%5Bj%5D%5Cn%20%20%20%20%20%20%20%20if%20somme%20%3D%3D%20valeur%3A%5Cn%20%20%20%20%20%20%20%20%20%20%20%20return%20True%5Cn%20%20%20%20return%20False%5Cn%5Cngrille%20%3D%20%5B%5B0%2C%201%2C%202%5D%2C%20%5B1%2C%202%2C%203%5D%2C%20%5B2%2C%203%2C%204%5D%2C%20%5B3%2C%204%2C%205%5D%5D%5Cncherche_ligne%28grille%2C%209%29%22%2C%20%22trace%22%3A%20%5B%7B%22line%22%3A%201%2C%20%22event%22%3A%20%22step_line%22%2C%20%22func_name%22%3A%20%22%3Cmodule%3E%22%2C%20%22globals%22%3A%20%7B%7D%2C%20%22ordered_globals%22%3A%20%5B%5D%2C%20%22stack_to_render%22%3A%20%5B%5D%2C%20%22heap%22%3A%20%7B%7D%2C%20%22stdout%22%3A%20%22%22%7D%2C%20%7B%22line%22%3A%2013%2C%20%22event%22%3A%20%22step_line%22%2C%20%22func_name%22%3A%20%22%3Cmodule%3E%22%2C%20%22globals%22%3A%20%7B%22cherche_ligne%22%3A%20%5B%22REF%22%2C%201%5D%7D%2C%20%22ordered_globals%22%3A%20%5B%22cherche_ligne%22%5D%2C%20%22stack_to_render%22%3A%20%5B%5D%2C%20%22heap%22%3A%20%7B%221%22%3A%20%5B%22FUNCTION%22%2C%20%22cherche_ligne%28grille%2C%20valeur%29%22%2C%20null%5D%7D%2C%20%22stdout%22%3A%20%22%22%7D%2C%20%7B%22line%22%3A%2014%2C%20%22event%22%3A%20%22step_line%22%2C%20%22func_name%22%3A%20%22%3Cmodule%3E%22%2C%20%22globals%22%3A%20%7B%22cherche_ligne%22%3A%20%5B%22REF%22%2C%201%5D%2C%20%22grille%22%3A%20%5B%22REF%22%2C%202%5D%7D%2C%20%22ordered_globals%22%3A%20%5B%22cherche_ligne%22%2C%20%22grille%22%5D%2C%20%22stack_to_render%22%3A%20%5B%5D%2C%20%22heap%22%3A%20%7B%221%22%3A%20%5B%22FUNCTION%22%2C%20%22cherche_ligne%28grille%2C%20valeur%29%22%2C%20null%5D%2C%20%222%22%3A%20%5B%22LIST%22%2C%20%5B%22REF%22%2C%203%5D%2C%20%5B%22REF%22%2C%204%5D%2C%20%5B%22REF%22%2C%205%5D%2C%20%5B%22REF%22%2C%206%5D%5D%2C%20%223%22%3A%20%5B%22LIST%22%2C%200%2C%201%2C%202%5D%2C%20%224%22%3A%20%5B%22LIST%22%2C%201%2C%202%2C%203%5D%2C%20%225%22%3A%20%5B%22LIST%22%2C%202%2C%203%2C%204%5D%2C%20%226%22%3A%20%5B%22LIST%22%2C%203%2C%204%2C%205%5D%7D%2C%20%22stdout%22%3A%20%22%22%7D%2C%20%7B%22line%22%3A%201%2C%20%22event%22%3A%20%22call%22%2C%20%22func_name%22%3A%20%22cherche_ligne%22%2C%20%22globals%22%3A%20%7B%22cherche_ligne%22%3A%20%5B%22REF%22%2C%201%5D%2C%20%22grille%22%3A%20%5B%22REF%22%2C%202%5D%7D%2C%20%22ordered_globals%22%3A%20%5B%22cherche_ligne%22%2C%20%22grille%22%5D%2C%20%22stack_to_render%22%3A%20%5B%7B%22func_name%22%3A%20%22cherche_ligne%22%2C%20%22is_parent%22%3A%20false%2C%20%22frame_id%22%3A%201%2C%20%22parent_frame_id_list%22%3A%20%5B%5D%2C%20%22encoded_locals%22%3A%20%7B%22grille%22%3A%20%5B%22REF%22%2C%202%5D%2C%20%22valeur%22%3A%209%7D%2C%20%22ordered_varnames%22%3A%20%5B%22grille%22%2C%20%22valeur%22%5D%2C%20%22is_zombie%22%3A%20false%2C%20%22is_highlighted%22%3A%20true%2C%20%22unique_hash%22%3A%20%22cherche_ligne_f1%22%7D%5D%2C%20%22heap%22%3A%20%7B%222%22%3A%20%5B%22LIST%22%2C%20%5B%22REF%22%2C%203%5D%2C%20%5B%22REF%22%2C%204%5D%2C%20%5B%22REF%22%2C%205%5D%2C%20%5B%22REF%22%2C%206%5D%5D%2C%20%223%22%3A%20%5B%22LIST%22%2C%200%2C%201%2C%202%5D%2C%20%224%22%3A%20%5B%22LIST%22%2C%201%2C%202%2C%203%5D%2C%20%225%22%3A%20%5B%22LIST%22%2C%202%2C%203%2C%204%5D%2C%20%226%22%3A%20%5B%22LIST%22%2C%203%2C%204%2C%205%5D%2C%20%221%22%3A%20%5B%22FUNCTION%22%2C%20%22cherche_ligne%28grille%2C%20valeur%29%22%2C%20null%5D%7D%2C%20%22stdout%22%3A%20%22%22%7D%2C%20%7B%22line%22%3A%205%2C%20%22event%22%3A%20%22step_line%22%2C%20%22func_name%22%3A%20%22cherche_ligne%22%2C%20%22globals%22%3A%20%7B%22cherche_ligne%22%3A%20%5B%22REF%22%2C%201%5D%2C%20%22grille%22%3A%20%5B%22REF%22%2C%202%5D%7D%2C%20%22ordered_globals%22%3A%20%5B%22cherche_ligne%22%2C%20%22grille%22%5D%2C%20%22stack_to_render%22%3A%20%5B%7B%22func_name%22%3A%20%22cherche_ligne%22%2C%20%22is_parent%22%3A%20false%2C%20%22frame_id%22%3A%201%2C%20%22parent_frame_id_list%22%3A%20%5B%5D%2C%20%22encoded_locals%22%3A%20%7B%22grille%22%3A%20%5B%22REF%22%2C%202%5D%2C%20%22valeur%22%3A%209%7D%2C%20%22ordered_varnames%22%3A%20%5B%22grille%22%2C%20%22valeur%22%5D%2C%20%22is_zombie%22%3A%20false%2C%20%22is_highlighted%22%3A%20true%2C%20%22unique_hash%22%3A%20%22cherche_ligne_f1%22%7D%5D%2C%20%22heap%22%3A%20%7B%222%22%3A%20%5B%22LIST%22%2C%20%5B%22REF%22%2C%203%5D%2C%20%5B%22REF%22%2C%204%5D%2C%20%5B%22REF%22%2C%205%5D%2C%20%5B%22REF%22%2C%206%5D%5D%2C%20%223%22%3A%20%5B%22LIST%22%2C%200%2C%201%2C%202%5D%2C%20%224%22%3A%20%5B%22LIST%22%2C%201%2C%202%2C%203%5D%2C%20%225%22%3A%20%5B%22LIST%22%2C%202%2C%203%2C%204%5D%2C%20%226%22%3A%20%5B%22LIST%22%2C%203%2C%204%2C%205%5D%2C%20%221%22%3A%20%5B%22FUNCTION%22%2C%20%22cherche_ligne%28grille%2C%20valeur%29%22%2C%20null%5D%7D%2C%20%22stdout%22%3A%20%22%22%7D%2C%20%7B%22line%22%3A%206%2C%20%22event%22%3A%20%22step_line%22%2C%20%22func_name%22%3A%20%22cherche_ligne%22%2C%20%22globals%22%3A%20%7B%22cherche_ligne%22%3A%20%5B%22REF%22%2C%201%5D%2C%20%22grille%22%3A%20%5B%22REF%22%2C%202%5D%7D%2C%20%22ordered_globals%22%3A%20%5B%22cherche_ligne%22%2C%20%22grille%22%5D%2C%20%22stack_to_render%22%3A%20%5B%7B%22func_name%22%3A%20%22cherche_ligne%22%2C%20%22is_parent%22%3A%20false%2C%20%22frame_id%22%3A%201%2C%20%22parent_frame_id_list%22%3A%20%5B%5D%2C%20%22encoded_locals%22%3A%20%7B%22grille%22%3A%20%5B%22REF%22%2C%202%5D%2C%20%22valeur%22%3A%209%2C%20%22i%22%3A%200%7D%2C%20%22ordered_varnames%22%3A%20%5B%22grille%22%2C%20%22valeur%22%2C%20%22i%22%5D%2C%20%22is_zombie%22%3A%20false%2C%20%22is_highlighted%22%3A%20true%2C%20%22unique_hash%22%3A%20%22cherche_ligne_f1%22%7D%5D%2C%20%22heap%22%3A%20%7B%222%22%3A%20%5B%22LIST%22%2C%20%5B%22REF%22%2C%203%5D%2C%20%5B%22REF%22%2C%204%5D%2C%20%5B%22REF%22%2C%205%5D%2C%20%5B%22REF%22%2C%206%5D%5D%2C%20%223%22%3A%20%5B%22LIST%22%2C%200%2C%201%2C%202%5D%2C%20%224%22%3A%20%5B%22LIST%22%2C%201%2C%202%2C%203%5D%2C%20%225%22%3A%20%5B%22LIST%22%2C%202%2C%203%2C%204%5D%2C%20%226%22%3A%20%5B%22LIST%22%2C%203%2C%204%2C%205%5D%2C%20%221%22%3A%20%5B%22FUNCTION%22%2C%20%22cherche_ligne%28grille%2C%20valeur%29%22%2C%20null%5D%7D%2C%20%22stdout%22%3A%20%22%22%7D%2C%20%7B%22line%22%3A%207%2C%20%22event%22%3A%20%22step_line%22%2C%20%22func_name%22%3A%20%22cherche_ligne%22%2C%20%22globals%22%3A%20%7B%22cherche_ligne%22%3A%20%5B%22REF%22%2C%201%5D%2C%20%22grille%22%3A%20%5B%22REF%22%2C%202%5D%7D%2C%20%22ordered_globals%22%3A%20%5B%22cherche_ligne%22%2C%20%22grille%22%5D%2C%20%22stack_to_render%22%3A%20%5B%7B%22func_name%22%3A%20%22cherche_ligne%22%2C%20%22is_parent%22%3A%20false%2C%20%22frame_id%22%3A%201%2C%20%22parent_frame_id_list%22%3A%20%5B%5D%2C%20%22encoded_locals%22%3A%20%7B%22grille%22%3A%20%5B%22REF%22%2C%202%5D%2C%20%22valeur%22%3A%209%2C%20%22i%22%3A%200%2C%20%22somme%22%3A%200%7D%2C%20%22ordered_varnames%22%3A%20%5B%22grille%22%2C%20%22valeur%22%2C%20%22i%22%2C%20%22somme%22%5D%2C%20%22is_zombie%22%3A%20false%2C%20%22is_highlighted%22%3A%20true%2C%20%22unique_hash%22%3A%20%22cherche_ligne_f1%22%7D%5D%2C%20%22heap%22%3A%20%7B%222%22%3A%20%5B%22LIST%22%2C%20%5B%22REF%22%2C%203%5D%2C%20%5B%22REF%22%2C%204%5D%2C%20%5B%22REF%22%2C%205%5D%2C%20%5B%22REF%22%2C%206%5D%5D%2C%20%223%22%3A%20%5B%22LIST%22%2C%200%2C%201%2C%202%5D%2C%20%224%22%3A%20%5B%22LIST%22%2C%201%2C%202%2C%203%5D%2C%20%225%22%3A%20%5B%22LIST%22%2C%202%2C%203%2C%204%5D%2C%20%226%22%3A%20%5B%22LIST%22%2C%203%2C%204%2C%205%5D%2C%20%221%22%3A%20%5B%22FUNCTION%22%2C%20%22cherche_ligne%28grille%2C%20valeur%29%22%2C%20null%5D%7D%2C%20%22stdout%22%3A%20%22%22%7D%2C%20%7B%22line%22%3A%208%2C%20%22event%22%3A%20%22step_line%22%2C%20%22func_name%22%3A%20%22cherche_ligne%22%2C%20%22globals%22%3A%20%7B%22cherche_ligne%22%3A%20%5B%22REF%22%2C%201%5D%2C%20%22grille%22%3A%20%5B%22REF%22%2C%202%5D%7D%2C%20%22ordered_globals%22%3A%20%5B%22cherche_ligne%22%2C%20%22grille%22%5D%2C%20%22stack_to_render%22%3A%20%5B%7B%22func_name%22%3A%20%22cherche_ligne%22%2C%20%22is_parent%22%3A%20false%2C%20%22frame_id%22%3A%201%2C%20%22parent_frame_id_list%22%3A%20%5B%5D%2C%20%22encoded_locals%22%3A%20%7B%22grille%22%3A%20%5B%22REF%22%2C%202%5D%2C%20%22valeur%22%3A%209%2C%20%22i%22%3A%200%2C%20%22somme%22%3A%200%2C%20%22j%22%3A%200%7D%2C%20%22ordered_varnames%22%3A%20%5B%22grille%22%2C%20%22valeur%22%2C%20%22i%22%2C%20%22somme%22%2C%20%22j%22%5D%2C%20%22is_zombie%22%3A%20false%2C%20%22is_highlighted%22%3A%20true%2C%20%22unique_hash%22%3A%20%22cherche_ligne_f1%22%7D%5D%2C%20%22heap%22%3A%20%7B%222%22%3A%20%5B%22LIST%22%2C%20%5B%22REF%22%2C%203%5D%2C%20%5B%22REF%22%2C%204%5D%2C%20%5B%22REF%22%2C%205%5D%2C%20%5B%22REF%22%2C%206%5D%5D%2C%20%223%22%3A%20%5B%22LIST%22%2C%200%2C%201%2C%202%5D%2C%20%224%22%3A%20%5B%22LIST%22%2C%201%2C%202%2C%203%5D%2C%20%225%22%3A%20%5B%22LIST%22%2C%202%2C%203%2C%204%5D%2C%20%226%22%3A%20%5B%22LIST%22%2C%203%2C%204%2C%205%5D%2C%20%221%22%3A%20%5B%22FUNCTION%22%2C%20%22cherche_ligne%28grille%2C%20valeur%29%22%2C%20null%5D%7D%2C%20%22stdout%22%3A%20%22%22%7D%2C%20%7B%22line%22%3A%207%2C%20%22event%22%3A%20%22step_line%22%2C%20%22func_name%22%3A%20%22cherche_ligne%22%2C%20%22globals%22%3A%20%7B%22cherche_ligne%22%3A%20%5B%22REF%22%2C%201%5D%2C%20%22grille%22%3A%20%5B%22REF%22%2C%202%5D%7D%2C%20%22ordered_globals%22%3A%20%5B%22cherche_ligne%22%2C%20%22grille%22%5D%2C%20%22stack_to_render%22%3A%20%5B%7B%22func_name%22%3A%20%22cherche_ligne%22%2C%20%22is_parent%22%3A%20false%2C%20%22frame_id%22%3A%201%2C%20%22parent_frame_id_list%22%3A%20%5B%5D%2C%20%22encoded_locals%22%3A%20%7B%22grille%22%3A%20%5B%22REF%22%2C%202%5D%2C%20%22valeur%22%3A%209%2C%20%22i%22%3A%200%2C%20%22somme%22%3A%200%2C%20%22j%22%3A%200%7D%2C%20%22ordered_varnames%22%3A%20%5B%22grille%22%2C%20%22valeur%22%2C%20%22i%22%2C%20%22somme%22%2C%20%22j%22%5D%2C%20%22is_zombie%22%3A%20false%2C%20%22is_highlighted%22%3A%20true%2C%20%22unique_hash%22%3A%20%22cherche_ligne_f1%22%7D%5D%2C%20%22heap%22%3A%20%7B%222%22%3A%20%5B%22LIST%22%2C%20%5B%22REF%22%2C%203%5D%2C%20%5B%22REF%22%2C%204%5D%2C%20%5B%22REF%22%2C%205%5D%2C%20%5B%22REF%22%2C%206%5D%5D%2C%20%223%22%3A%20%5B%22LIST%22%2C%200%2C%201%2C%202%5D%2C%20%224%22%3A%20%5B%22LIST%22%2C%201%2C%202%2C%203%5D%2C%20%225%22%3A%20%5B%22LIST%22%2C%202%2C%203%2C%204%5D%2C%20%226%22%3A%20%5B%22LIST%22%2C%203%2C%204%2C%205%5D%2C%20%221%22%3A%20%5B%22FUNCTION%22%2C%20%22cherche_ligne%28grille%2C%20valeur%29%22%2C%20null%5D%7D%2C%20%22stdout%22%3A%20%22%22%7D%2C%20%7B%22line%22%3A%208%2C%20%22event%22%3A%20%22step_line%22%2C%20%22func_name%22%3A%20%22cherche_ligne%22%2C%20%22globals%22%3A%20%7B%22cherche_ligne%22%3A%20%5B%22REF%22%2C%201%5D%2C%20%22grille%22%3A%20%5B%22REF%22%2C%202%5D%7D%2C%20%22ordered_globals%22%3A%20%5B%22cherche_ligne%22%2C%20%22grille%22%5D%2C%20%22stack_to_render%22%3A%20%5B%7B%22func_name%22%3A%20%22cherche_ligne%22%2C%20%22is_parent%22%3A%20false%2C%20%22frame_id%22%3A%201%2C%20%22parent_frame_id_list%22%3A%20%5B%5D%2C%20%22encoded_locals%22%3A%20%7B%22grille%22%3A%20%5B%22REF%22%2C%202%5D%2C%20%22valeur%22%3A%209%2C%20%22i%22%3A%200%2C%20%22somme%22%3A%200%2C%20%22j%22%3A%201%7D%2C%20%22ordered_varnames%22%3A%20%5B%22grille%22%2C%20%22valeur%22%2C%20%22i%22%2C%20%22somme%22%2C%20%22j%22%5D%2C%20%22is_zombie%22%3A%20false%2C%20%22is_highlighted%22%3A%20true%2C%20%22unique_hash%22%3A%20%22cherche_ligne_f1%22%7D%5D%2C%20%22heap%22%3A%20%7B%222%22%3A%20%5B%22LIST%22%2C%20%5B%22REF%22%2C%203%5D%2C%20%5B%22REF%22%2C%204%5D%2C%20%5B%22REF%22%2C%205%5D%2C%20%5B%22REF%22%2C%206%5D%5D%2C%20%223%22%3A%20%5B%22LIST%22%2C%200%2C%201%2C%202%5D%2C%20%224%22%3A%20%5B%22LIST%22%2C%201%2C%202%2C%203%5D%2C%20%225%22%3A%20%5B%22LIST%22%2C%202%2C%203%2C%204%5D%2C%20%226%22%3A%20%5B%22LIST%22%2C%203%2C%204%2C%205%5D%2C%20%221%22%3A%20%5B%22FUNCTION%22%2C%20%22cherche_ligne%28grille%2C%20valeur%29%22%2C%20null%5D%7D%2C%20%22stdout%22%3A%20%22%22%7D%2C%20%7B%22line%22%3A%207%2C%20%22event%22%3A%20%22step_line%22%2C%20%22func_name%22%3A%20%22cherche_ligne%22%2C%20%22globals%22%3A%20%7B%22cherche_ligne%22%3A%20%5B%22REF%22%2C%201%5D%2C%20%22grille%22%3A%20%5B%22REF%22%2C%202%5D%7D%2C%20%22ordered_globals%22%3A%20%5B%22cherche_ligne%22%2C%20%22grille%22%5D%2C%20%22stack_to_render%22%3A%20%5B%7B%22func_name%22%3A%20%22cherche_ligne%22%2C%20%22is_parent%22%3A%20false%2C%20%22frame_id%22%3A%201%2C%20%22parent_frame_id_list%22%3A%20%5B%5D%2C%20%22encoded_locals%22%3A%20%7B%22grille%22%3A%20%5B%22REF%22%2C%202%5D%2C%20%22valeur%22%3A%209%2C%20%22i%22%3A%200%2C%20%22somme%22%3A%201%2C%20%22j%22%3A%201%7D%2C%20%22ordered_varnames%22%3A%20%5B%22grille%22%2C%20%22valeur%22%2C%20%22i%22%2C%20%22somme%22%2C%20%22j%22%5D%2C%20%22is_zombie%22%3A%20false%2C%20%22is_highlighted%22%3A%20true%2C%20%22unique_hash%22%3A%20%22cherche_ligne_f1%22%7D%5D%2C%20%22heap%22%3A%20%7B%222%22%3A%20%5B%22LIST%22%2C%20%5B%22REF%22%2C%203%5D%2C%20%5B%22REF%22%2C%204%5D%2C%20%5B%22REF%22%2C%205%5D%2C%20%5B%22REF%22%2C%206%5D%5D%2C%20%223%22%3A%20%5B%22LIST%22%2C%200%2C%201%2C%202%5D%2C%20%224%22%3A%20%5B%22LIST%22%2C%201%2C%202%2C%203%5D%2C%20%225%22%3A%20%5B%22LIST%22%2C%202%2C%203%2C%204%5D%2C%20%226%22%3A%20%5B%22LIST%22%2C%203%2C%204%2C%205%5D%2C%20%221%22%3A%20%5B%22FUNCTION%22%2C%20%22cherche_ligne%28grille%2C%20valeur%29%22%2C%20null%5D%7D%2C%20%22stdout%22%3A%20%22%22%7D%2C%20%7B%22line%22%3A%208%2C%20%22event%22%3A%20%22step_line%22%2C%20%22func_name%22%3A%20%22cherche_ligne%22%2C%20%22globals%22%3A%20%7B%22cherche_ligne%22%3A%20%5B%22REF%22%2C%201%5D%2C%20%22grille%22%3A%20%5B%22REF%22%2C%202%5D%7D%2C%20%22ordered_globals%22%3A%20%5B%22cherche_ligne%22%2C%20%22grille%22%5D%2C%20%22stack_to_render%22%3A%20%5B%7B%22func_name%22%3A%20%22cherche_ligne%22%2C%20%22is_parent%22%3A%20false%2C%20%22frame_id%22%3A%201%2C%20%22parent_frame_id_list%22%3A%20%5B%5D%2C%20%22encoded_locals%22%3A%20%7B%22grille%22%3A%20%5B%22REF%22%2C%202%5D%2C%20%22valeur%22%3A%209%2C%20%22i%22%3A%200%2C%20%22somme%22%3A%201%2C%20%22j%22%3A%202%7D%2C%20%22ordered_varnames%22%3A%20%5B%22grille%22%2C%20%22valeur%22%2C%20%22i%22%2C%20%22somme%22%2C%20%22j%22%5D%2C%20%22is_zombie%22%3A%20false%2C%20%22is_highlighted%22%3A%20true%2C%20%22unique_hash%22%3A%20%22cherche_ligne_f1%22%7D%5D%2C%20%22heap%22%3A%20%7B%222%22%3A%20%5B%22LIST%22%2C%20%5B%22REF%22%2C%203%5D%2C%20%5B%22REF%22%2C%204%5D%2C%20%5B%22REF%22%2C%205%5D%2C%20%5B%22REF%22%2C%206%5D%5D%2C%20%223%22%3A%20%5B%22LIST%22%2C%200%2C%201%2C%202%5D%2C%20%224%22%3A%20%5B%22LIST%22%2C%201%2C%202%2C%203%5D%2C%20%225%22%3A%20%5B%22LIST%22%2C%202%2C%203%2C%204%5D%2C%20%226%22%3A%20%5B%22LIST%22%2C%203%2C%204%2C%205%5D%2C%20%221%22%3A%20%5B%22FUNCTION%22%2C%20%22cherche_ligne%28grille%2C%20valeur%29%22%2C%20null%5D%7D%2C%20%22stdout%22%3A%20%22%22%7D%2C%20%7B%22line%22%3A%207%2C%20%22event%22%3A%20%22step_line%22%2C%20%22func_name%22%3A%20%22cherche_ligne%22%2C%20%22globals%22%3A%20%7B%22cherche_ligne%22%3A%20%5B%22REF%22%2C%201%5D%2C%20%22grille%22%3A%20%5B%22REF%22%2C%202%5D%7D%2C%20%22ordered_globals%22%3A%20%5B%22cherche_ligne%22%2C%20%22grille%22%5D%2C%20%22stack_to_render%22%3A%20%5B%7B%22func_name%22%3A%20%22cherche_ligne%22%2C%20%22is_parent%22%3A%20false%2C%20%22frame_id%22%3A%201%2C%20%22parent_frame_id_list%22%3A%20%5B%5D%2C%20%22encoded_locals%22%3A%20%7B%22grille%22%3A%20%5B%22REF%22%2C%202%5D%2C%20%22valeur%22%3A%209%2C%20%22i%22%3A%200%2C%20%22somme%22%3A%203%2C%20%22j%22%3A%202%7D%2C%20%22ordered_varnames%22%3A%20%5B%22grille%22%2C%20%22valeur%22%2C%20%22i%22%2C%20%22somme%22%2C%20%22j%22%5D%2C%20%22is_zombie%22%3A%20false%2C%20%22is_highlighted%22%3A%20true%2C%20%22unique_hash%22%3A%20%22cherche_ligne_f1%22%7D%5D%2C%20%22heap%22%3A%20%7B%222%22%3A%20%5B%22LIST%22%2C%20%5B%22REF%22%2C%203%5D%2C%20%5B%22REF%22%2C%204%5D%2C%20%5B%22REF%22%2C%205%5D%2C%20%5B%22REF%22%2C%206%5D%5D%2C%20%223%22%3A%20%5B%22LIST%22%2C%200%2C%201%2C%202%5D%2C%20%224%22%3A%20%5B%22LIST%22%2C%201%2C%202%2C%203%5D%2C%20%225%22%3A%20%5B%22LIST%22%2C%202%2C%203%2C%204%5D%2C%20%226%22%3A%20%5B%22LIST%22%2C%203%2C%204%2C%205%5D%2C%20%221%22%3A%20%5B%22FUNCTION%22%2C%20%22cherche_ligne%28grille%2C%20valeur%29%22%2C%20null%5D%7D%2C%20%22stdout%22%3A%20%22%22%7D%2C%20%7B%22line%22%3A%209%2C%20%22event%22%3A%20%22step_line%22%2C%20%22func_name%22%3A%20%22cherche_ligne%22%2C%20%22globals%22%3A%20%7B%22cherche_ligne%22%3A%20%5B%22REF%22%2C%201%5D%2C%20%22grille%22%3A%20%5B%22REF%22%2C%202%5D%7D%2C%20%22ordered_globals%22%3A%20%5B%22cherche_ligne%22%2C%20%22grille%22%5D%2C%20%22stack_to_render%22%3A%20%5B%7B%22func_name%22%3A%20%22cherche_ligne%22%2C%20%22is_parent%22%3A%20false%2C%20%22frame_id%22%3A%201%2C%20%22parent_frame_id_list%22%3A%20%5B%5D%2C%20%22encoded_locals%22%3A%20%7B%22grille%22%3A%20%5B%22REF%22%2C%202%5D%2C%20%22valeur%22%3A%209%2C%20%22i%22%3A%200%2C%20%22somme%22%3A%203%2C%20%22j%22%3A%202%7D%2C%20%22ordered_varnames%22%3A%20%5B%22grille%22%2C%20%22valeur%22%2C%20%22i%22%2C%20%22somme%22%2C%20%22j%22%5D%2C%20%22is_zombie%22%3A%20false%2C%20%22is_highlighted%22%3A%20true%2C%20%22unique_hash%22%3A%20%22cherche_ligne_f1%22%7D%5D%2C%20%22heap%22%3A%20%7B%222%22%3A%20%5B%22LIST%22%2C%20%5B%22REF%22%2C%203%5D%2C%20%5B%22REF%22%2C%204%5D%2C%20%5B%22REF%22%2C%205%5D%2C%20%5B%22REF%22%2C%206%5D%5D%2C%20%223%22%3A%20%5B%22LIST%22%2C%200%2C%201%2C%202%5D%2C%20%224%22%3A%20%5B%22LIST%22%2C%201%2C%202%2C%203%5D%2C%20%225%22%3A%20%5B%22LIST%22%2C%202%2C%203%2C%204%5D%2C%20%226%22%3A%20%5B%22LIST%22%2C%203%2C%204%2C%205%5D%2C%20%221%22%3A%20%5B%22FUNCTION%22%2C%20%22cherche_ligne%28grille%2C%20valeur%29%22%2C%20null%5D%7D%2C%20%22stdout%22%3A%20%22%22%7D%2C%20%7B%22line%22%3A%205%2C%20%22event%22%3A%20%22step_line%22%2C%20%22func_name%22%3A%20%22cherche_ligne%22%2C%20%22globals%22%3A%20%7B%22cherche_ligne%22%3A%20%5B%22REF%22%2C%201%5D%2C%20%22grille%22%3A%20%5B%22REF%22%2C%202%5D%7D%2C%20%22ordered_globals%22%3A%20%5B%22cherche_ligne%22%2C%20%22grille%22%5D%2C%20%22stack_to_render%22%3A%20%5B%7B%22func_name%22%3A%20%22cherche_ligne%22%2C%20%22is_parent%22%3A%20false%2C%20%22frame_id%22%3A%201%2C%20%22parent_frame_id_list%22%3A%20%5B%5D%2C%20%22encoded_locals%22%3A%20%7B%22grille%22%3A%20%5B%22REF%22%2C%202%5D%2C%20%22valeur%22%3A%209%2C%20%22i%22%3A%200%2C%20%22somme%22%3A%203%2C%20%22j%22%3A%202%7D%2C%20%22ordered_varnames%22%3A%20%5B%22grille%22%2C%20%22valeur%22%2C%20%22i%22%2C%20%22somme%22%2C%20%22j%22%5D%2C%20%22is_zombie%22%3A%20false%2C%20%22is_highlighted%22%3A%20true%2C%20%22unique_hash%22%3A%20%22cherche_ligne_f1%22%7D%5D%2C%20%22heap%22%3A%20%7B%222%22%3A%20%5B%22LIST%22%2C%20%5B%22REF%22%2C%203%5D%2C%20%5B%22REF%22%2C%204%5D%2C%20%5B%22REF%22%2C%205%5D%2C%20%5B%22REF%22%2C%206%5D%5D%2C%20%223%22%3A%20%5B%22LIST%22%2C%200%2C%201%2C%202%5D%2C%20%224%22%3A%20%5B%22LIST%22%2C%201%2C%202%2C%203%5D%2C%20%225%22%3A%20%5B%22LIST%22%2C%202%2C%203%2C%204%5D%2C%20%226%22%3A%20%5B%22LIST%22%2C%203%2C%204%2C%205%5D%2C%20%221%22%3A%20%5B%22FUNCTION%22%2C%20%22cherche_ligne%28grille%2C%20valeur%29%22%2C%20null%5D%7D%2C%20%22stdout%22%3A%20%22%22%7D%2C%20%7B%22line%22%3A%206%2C%20%22event%22%3A%20%22step_line%22%2C%20%22func_name%22%3A%20%22cherche_ligne%22%2C%20%22globals%22%3A%20%7B%22cherche_ligne%22%3A%20%5B%22REF%22%2C%201%5D%2C%20%22grille%22%3A%20%5B%22REF%22%2C%202%5D%7D%2C%20%22ordered_globals%22%3A%20%5B%22cherche_ligne%22%2C%20%22grille%22%5D%2C%20%22stack_to_render%22%3A%20%5B%7B%22func_name%22%3A%20%22cherche_ligne%22%2C%20%22is_parent%22%3A%20false%2C%20%22frame_id%22%3A%201%2C%20%22parent_frame_id_list%22%3A%20%5B%5D%2C%20%22encoded_locals%22%3A%20%7B%22grille%22%3A%20%5B%22REF%22%2C%202%5D%2C%20%22valeur%22%3A%209%2C%20%22i%22%3A%201%2C%20%22somme%22%3A%203%2C%20%22j%22%3A%202%7D%2C%20%22ordered_varnames%22%3A%20%5B%22grille%22%2C%20%22valeur%22%2C%20%22i%22%2C%20%22somme%22%2C%20%22j%22%5D%2C%20%22is_zombie%22%3A%20false%2C%20%22is_highlighted%22%3A%20true%2C%20%22unique_hash%22%3A%20%22cherche_ligne_f1%22%7D%5D%2C%20%22heap%22%3A%20%7B%222%22%3A%20%5B%22LIST%22%2C%20%5B%22REF%22%2C%203%5D%2C%20%5B%22REF%22%2C%204%5D%2C%20%5B%22REF%22%2C%205%5D%2C%20%5B%22REF%22%2C%206%5D%5D%2C%20%223%22%3A%20%5B%22LIST%22%2C%200%2C%201%2C%202%5D%2C%20%224%22%3A%20%5B%22LIST%22%2C%201%2C%202%2C%203%5D%2C%20%225%22%3A%20%5B%22LIST%22%2C%202%2C%203%2C%204%5D%2C%20%226%22%3A%20%5B%22LIST%22%2C%203%2C%204%2C%205%5D%2C%20%221%22%3A%20%5B%22FUNCTION%22%2C%20%22cherche_ligne%28grille%2C%20valeur%29%22%2C%20null%5D%7D%2C%20%22stdout%22%3A%20%22%22%7D%2C%20%7B%22line%22%3A%207%2C%20%22event%22%3A%20%22step_line%22%2C%20%22func_name%22%3A%20%22cherche_ligne%22%2C%20%22globals%22%3A%20%7B%22cherche_ligne%22%3A%20%5B%22REF%22%2C%201%5D%2C%20%22grille%22%3A%20%5B%22REF%22%2C%202%5D%7D%2C%20%22ordered_globals%22%3A%20%5B%22cherche_ligne%22%2C%20%22grille%22%5D%2C%20%22stack_to_render%22%3A%20%5B%7B%22func_name%22%3A%20%22cherche_ligne%22%2C%20%22is_parent%22%3A%20false%2C%20%22frame_id%22%3A%201%2C%20%22parent_frame_id_list%22%3A%20%5B%5D%2C%20%22encoded_locals%22%3A%20%7B%22grille%22%3A%20%5B%22REF%22%2C%202%5D%2C%20%22valeur%22%3A%209%2C%20%22i%22%3A%201%2C%20%22somme%22%3A%200%2C%20%22j%22%3A%202%7D%2C%20%22ordered_varnames%22%3A%20%5B%22grille%22%2C%20%22valeur%22%2C%20%22i%22%2C%20%22somme%22%2C%20%22j%22%5D%2C%20%22is_zombie%22%3A%20false%2C%20%22is_highlighted%22%3A%20true%2C%20%22unique_hash%22%3A%20%22cherche_ligne_f1%22%7D%5D%2C%20%22heap%22%3A%20%7B%222%22%3A%20%5B%22LIST%22%2C%20%5B%22REF%22%2C%203%5D%2C%20%5B%22REF%22%2C%204%5D%2C%20%5B%22REF%22%2C%205%5D%2C%20%5B%22REF%22%2C%206%5D%5D%2C%20%223%22%3A%20%5B%22LIST%22%2C%200%2C%201%2C%202%5D%2C%20%224%22%3A%20%5B%22LIST%22%2C%201%2C%202%2C%203%5D%2C%20%225%22%3A%20%5B%22LIST%22%2C%202%2C%203%2C%204%5D%2C%20%226%22%3A%20%5B%22LIST%22%2C%203%2C%204%2C%205%5D%2C%20%221%22%3A%20%5B%22FUNCTION%22%2C%20%22cherche_ligne%28grille%2C%20valeur%29%22%2C%20null%5D%7D%2C%20%22stdout%22%3A%20%22%22%7D%2C%20%7B%22line%22%3A%208%2C%20%22event%22%3A%20%22step_line%22%2C%20%22func_name%22%3A%20%22cherche_ligne%22%2C%20%22globals%22%3A%20%7B%22cherche_ligne%22%3A%20%5B%22REF%22%2C%201%5D%2C%20%22grille%22%3A%20%5B%22REF%22%2C%202%5D%7D%2C%20%22ordered_globals%22%3A%20%5B%22cherche_ligne%22%2C%20%22grille%22%5D%2C%20%22stack_to_render%22%3A%20%5B%7B%22func_name%22%3A%20%22cherche_ligne%22%2C%20%22is_parent%22%3A%20false%2C%20%22frame_id%22%3A%201%2C%20%22parent_frame_id_list%22%3A%20%5B%5D%2C%20%22encoded_locals%22%3A%20%7B%22grille%22%3A%20%5B%22REF%22%2C%202%5D%2C%20%22valeur%22%3A%209%2C%20%22i%22%3A%201%2C%20%22somme%22%3A%200%2C%20%22j%22%3A%200%7D%2C%20%22ordered_varnames%22%3A%20%5B%22grille%22%2C%20%22valeur%22%2C%20%22i%22%2C%20%22somme%22%2C%20%22j%22%5D%2C%20%22is_zombie%22%3A%20false%2C%20%22is_highlighted%22%3A%20true%2C%20%22unique_hash%22%3A%20%22cherche_ligne_f1%22%7D%5D%2C%20%22heap%22%3A%20%7B%222%22%3A%20%5B%22LIST%22%2C%20%5B%22REF%22%2C%203%5D%2C%20%5B%22REF%22%2C%204%5D%2C%20%5B%22REF%22%2C%205%5D%2C%20%5B%22REF%22%2C%206%5D%5D%2C%20%223%22%3A%20%5B%22LIST%22%2C%200%2C%201%2C%202%5D%2C%20%224%22%3A%20%5B%22LIST%22%2C%201%2C%202%2C%203%5D%2C%20%225%22%3A%20%5B%22LIST%22%2C%202%2C%203%2C%204%5D%2C%20%226%22%3A%20%5B%22LIST%22%2C%203%2C%204%2C%205%5D%2C%20%221%22%3A%20%5B%22FUNCTION%22%2C%20%22cherche_ligne%28grille%2C%20valeur%29%22%2C%20null%5D%7D%2C%20%22stdout%22%3A%20%22%22%7D%2C%20%7B%22line%22%3A%207%2C%20%22event%22%3A%20%22step_line%22%2C%20%22func_name%22%3A%20%22cherche_ligne%22%2C%20%22globals%22%3A%20%7B%22cherche_ligne%22%3A%20%5B%22REF%22%2C%201%5D%2C%20%22grille%22%3A%20%5B%22REF%22%2C%202%5D%7D%2C%20%22ordered_globals%22%3A%20%5B%22cherche_ligne%22%2C%20%22grille%22%5D%2C%20%22stack_to_render%22%3A%20%5B%7B%22func_name%22%3A%20%22cherche_ligne%22%2C%20%22is_parent%22%3A%20false%2C%20%22frame_id%22%3A%201%2C%20%22parent_frame_id_list%22%3A%20%5B%5D%2C%20%22encoded_locals%22%3A%20%7B%22grille%22%3A%20%5B%22REF%22%2C%202%5D%2C%20%22valeur%22%3A%209%2C%20%22i%22%3A%201%2C%20%22somme%22%3A%201%2C%20%22j%22%3A%200%7D%2C%20%22ordered_varnames%22%3A%20%5B%22grille%22%2C%20%22valeur%22%2C%20%22i%22%2C%20%22somme%22%2C%20%22j%22%5D%2C%20%22is_zombie%22%3A%20false%2C%20%22is_highlighted%22%3A%20true%2C%20%22unique_hash%22%3A%20%22cherche_ligne_f1%22%7D%5D%2C%20%22heap%22%3A%20%7B%222%22%3A%20%5B%22LIST%22%2C%20%5B%22REF%22%2C%203%5D%2C%20%5B%22REF%22%2C%204%5D%2C%20%5B%22REF%22%2C%205%5D%2C%20%5B%22REF%22%2C%206%5D%5D%2C%20%223%22%3A%20%5B%22LIST%22%2C%200%2C%201%2C%202%5D%2C%20%224%22%3A%20%5B%22LIST%22%2C%201%2C%202%2C%203%5D%2C%20%225%22%3A%20%5B%22LIST%22%2C%202%2C%203%2C%204%5D%2C%20%226%22%3A%20%5B%22LIST%22%2C%203%2C%204%2C%205%5D%2C%20%221%22%3A%20%5B%22FUNCTION%22%2C%20%22cherche_ligne%28grille%2C%20valeur%29%22%2C%20null%5D%7D%2C%20%22stdout%22%3A%20%22%22%7D%2C%20%7B%22line%22%3A%208%2C%20%22event%22%3A%20%22step_line%22%2C%20%22func_name%22%3A%20%22cherche_ligne%22%2C%20%22globals%22%3A%20%7B%22cherche_ligne%22%3A%20%5B%22REF%22%2C%201%5D%2C%20%22grille%22%3A%20%5B%22REF%22%2C%202%5D%7D%2C%20%22ordered_globals%22%3A%20%5B%22cherche_ligne%22%2C%20%22grille%22%5D%2C%20%22stack_to_render%22%3A%20%5B%7B%22func_name%22%3A%20%22cherche_ligne%22%2C%20%22is_parent%22%3A%20false%2C%20%22frame_id%22%3A%201%2C%20%22parent_frame_id_list%22%3A%20%5B%5D%2C%20%22encoded_locals%22%3A%20%7B%22grille%22%3A%20%5B%22REF%22%2C%202%5D%2C%20%22valeur%22%3A%209%2C%20%22i%22%3A%201%2C%20%22somme%22%3A%201%2C%20%22j%22%3A%201%7D%2C%20%22ordered_varnames%22%3A%20%5B%22grille%22%2C%20%22valeur%22%2C%20%22i%22%2C%20%22somme%22%2C%20%22j%22%5D%2C%20%22is_zombie%22%3A%20false%2C%20%22is_highlighted%22%3A%20true%2C%20%22unique_hash%22%3A%20%22cherche_ligne_f1%22%7D%5D%2C%20%22heap%22%3A%20%7B%222%22%3A%20%5B%22LIST%22%2C%20%5B%22REF%22%2C%203%5D%2C%20%5B%22REF%22%2C%204%5D%2C%20%5B%22REF%22%2C%205%5D%2C%20%5B%22REF%22%2C%206%5D%5D%2C%20%223%22%3A%20%5B%22LIST%22%2C%200%2C%201%2C%202%5D%2C%20%224%22%3A%20%5B%22LIST%22%2C%201%2C%202%2C%203%5D%2C%20%225%22%3A%20%5B%22LIST%22%2C%202%2C%203%2C%204%5D%2C%20%226%22%3A%20%5B%22LIST%22%2C%203%2C%204%2C%205%5D%2C%20%221%22%3A%20%5B%22FUNCTION%22%2C%20%22cherche_ligne%28grille%2C%20valeur%29%22%2C%20null%5D%7D%2C%20%22stdout%22%3A%20%22%22%7D%2C%20%7B%22line%22%3A%207%2C%20%22event%22%3A%20%22step_line%22%2C%20%22func_name%22%3A%20%22cherche_ligne%22%2C%20%22globals%22%3A%20%7B%22cherche_ligne%22%3A%20%5B%22REF%22%2C%201%5D%2C%20%22grille%22%3A%20%5B%22REF%22%2C%202%5D%7D%2C%20%22ordered_globals%22%3A%20%5B%22cherche_ligne%22%2C%20%22grille%22%5D%2C%20%22stack_to_render%22%3A%20%5B%7B%22func_name%22%3A%20%22cherche_ligne%22%2C%20%22is_parent%22%3A%20false%2C%20%22frame_id%22%3A%201%2C%20%22parent_frame_id_list%22%3A%20%5B%5D%2C%20%22encoded_locals%22%3A%20%7B%22grille%22%3A%20%5B%22REF%22%2C%202%5D%2C%20%22valeur%22%3A%209%2C%20%22i%22%3A%201%2C%20%22somme%22%3A%203%2C%20%22j%22%3A%201%7D%2C%20%22ordered_varnames%22%3A%20%5B%22grille%22%2C%20%22valeur%22%2C%20%22i%22%2C%20%22somme%22%2C%20%22j%22%5D%2C%20%22is_zombie%22%3A%20false%2C%20%22is_highlighted%22%3A%20true%2C%20%22unique_hash%22%3A%20%22cherche_ligne_f1%22%7D%5D%2C%20%22heap%22%3A%20%7B%222%22%3A%20%5B%22LIST%22%2C%20%5B%22REF%22%2C%203%5D%2C%20%5B%22REF%22%2C%204%5D%2C%20%5B%22REF%22%2C%205%5D%2C%20%5B%22REF%22%2C%206%5D%5D%2C%20%223%22%3A%20%5B%22LIST%22%2C%200%2C%201%2C%202%5D%2C%20%224%22%3A%20%5B%22LIST%22%2C%201%2C%202%2C%203%5D%2C%20%225%22%3A%20%5B%22LIST%22%2C%202%2C%203%2C%204%5D%2C%20%226%22%3A%20%5B%22LIST%22%2C%203%2C%204%2C%205%5D%2C%20%221%22%3A%20%5B%22FUNCTION%22%2C%20%22cherche_ligne%28grille%2C%20valeur%29%22%2C%20null%5D%7D%2C%20%22stdout%22%3A%20%22%22%7D%2C%20%7B%22line%22%3A%208%2C%20%22event%22%3A%20%22step_line%22%2C%20%22func_name%22%3A%20%22cherche_ligne%22%2C%20%22globals%22%3A%20%7B%22cherche_ligne%22%3A%20%5B%22REF%22%2C%201%5D%2C%20%22grille%22%3A%20%5B%22REF%22%2C%202%5D%7D%2C%20%22ordered_globals%22%3A%20%5B%22cherche_ligne%22%2C%20%22grille%22%5D%2C%20%22stack_to_render%22%3A%20%5B%7B%22func_name%22%3A%20%22cherche_ligne%22%2C%20%22is_parent%22%3A%20false%2C%20%22frame_id%22%3A%201%2C%20%22parent_frame_id_list%22%3A%20%5B%5D%2C%20%22encoded_locals%22%3A%20%7B%22grille%22%3A%20%5B%22REF%22%2C%202%5D%2C%20%22valeur%22%3A%209%2C%20%22i%22%3A%201%2C%20%22somme%22%3A%203%2C%20%22j%22%3A%202%7D%2C%20%22ordered_varnames%22%3A%20%5B%22grille%22%2C%20%22valeur%22%2C%20%22i%22%2C%20%22somme%22%2C%20%22j%22%5D%2C%20%22is_zombie%22%3A%20false%2C%20%22is_highlighted%22%3A%20true%2C%20%22unique_hash%22%3A%20%22cherche_ligne_f1%22%7D%5D%2C%20%22heap%22%3A%20%7B%222%22%3A%20%5B%22LIST%22%2C%20%5B%22REF%22%2C%203%5D%2C%20%5B%22REF%22%2C%204%5D%2C%20%5B%22REF%22%2C%205%5D%2C%20%5B%22REF%22%2C%206%5D%5D%2C%20%223%22%3A%20%5B%22LIST%22%2C%200%2C%201%2C%202%5D%2C%20%224%22%3A%20%5B%22LIST%22%2C%201%2C%202%2C%203%5D%2C%20%225%22%3A%20%5B%22LIST%22%2C%202%2C%203%2C%204%5D%2C%20%226%22%3A%20%5B%22LIST%22%2C%203%2C%204%2C%205%5D%2C%20%221%22%3A%20%5B%22FUNCTION%22%2C%20%22cherche_ligne%28grille%2C%20valeur%29%22%2C%20null%5D%7D%2C%20%22stdout%22%3A%20%22%22%7D%2C%20%7B%22line%22%3A%207%2C%20%22event%22%3A%20%22step_line%22%2C%20%22func_name%22%3A%20%22cherche_ligne%22%2C%20%22globals%22%3A%20%7B%22cherche_ligne%22%3A%20%5B%22REF%22%2C%201%5D%2C%20%22grille%22%3A%20%5B%22REF%22%2C%202%5D%7D%2C%20%22ordered_globals%22%3A%20%5B%22cherche_ligne%22%2C%20%22grille%22%5D%2C%20%22stack_to_render%22%3A%20%5B%7B%22func_name%22%3A%20%22cherche_ligne%22%2C%20%22is_parent%22%3A%20false%2C%20%22frame_id%22%3A%201%2C%20%22parent_frame_id_list%22%3A%20%5B%5D%2C%20%22encoded_locals%22%3A%20%7B%22grille%22%3A%20%5B%22REF%22%2C%202%5D%2C%20%22valeur%22%3A%209%2C%20%22i%22%3A%201%2C%20%22somme%22%3A%206%2C%20%22j%22%3A%202%7D%2C%20%22ordered_varnames%22%3A%20%5B%22grille%22%2C%20%22valeur%22%2C%20%22i%22%2C%20%22somme%22%2C%20%22j%22%5D%2C%20%22is_zombie%22%3A%20false%2C%20%22is_highlighted%22%3A%20true%2C%20%22unique_hash%22%3A%20%22cherche_ligne_f1%22%7D%5D%2C%20%22heap%22%3A%20%7B%222%22%3A%20%5B%22LIST%22%2C%20%5B%22REF%22%2C%203%5D%2C%20%5B%22REF%22%2C%204%5D%2C%20%5B%22REF%22%2C%205%5D%2C%20%5B%22REF%22%2C%206%5D%5D%2C%20%223%22%3A%20%5B%22LIST%22%2C%200%2C%201%2C%202%5D%2C%20%224%22%3A%20%5B%22LIST%22%2C%201%2C%202%2C%203%5D%2C%20%225%22%3A%20%5B%22LIST%22%2C%202%2C%203%2C%204%5D%2C%20%226%22%3A%20%5B%22LIST%22%2C%203%2C%204%2C%205%5D%2C%20%221%22%3A%20%5B%22FUNCTION%22%2C%20%22cherche_ligne%28grille%2C%20valeur%29%22%2C%20null%5D%7D%2C%20%22stdout%22%3A%20%22%22%7D%2C%20%7B%22line%22%3A%209%2C%20%22event%22%3A%20%22step_line%22%2C%20%22func_name%22%3A%20%22cherche_ligne%22%2C%20%22globals%22%3A%20%7B%22cherche_ligne%22%3A%20%5B%22REF%22%2C%201%5D%2C%20%22grille%22%3A%20%5B%22REF%22%2C%202%5D%7D%2C%20%22ordered_globals%22%3A%20%5B%22cherche_ligne%22%2C%20%22grille%22%5D%2C%20%22stack_to_render%22%3A%20%5B%7B%22func_name%22%3A%20%22cherche_ligne%22%2C%20%22is_parent%22%3A%20false%2C%20%22frame_id%22%3A%201%2C%20%22parent_frame_id_list%22%3A%20%5B%5D%2C%20%22encoded_locals%22%3A%20%7B%22grille%22%3A%20%5B%22REF%22%2C%202%5D%2C%20%22valeur%22%3A%209%2C%20%22i%22%3A%201%2C%20%22somme%22%3A%206%2C%20%22j%22%3A%202%7D%2C%20%22ordered_varnames%22%3A%20%5B%22grille%22%2C%20%22valeur%22%2C%20%22i%22%2C%20%22somme%22%2C%20%22j%22%5D%2C%20%22is_zombie%22%3A%20false%2C%20%22is_highlighted%22%3A%20true%2C%20%22unique_hash%22%3A%20%22cherche_ligne_f1%22%7D%5D%2C%20%22heap%22%3A%20%7B%222%22%3A%20%5B%22LIST%22%2C%20%5B%22REF%22%2C%203%5D%2C%20%5B%22REF%22%2C%204%5D%2C%20%5B%22REF%22%2C%205%5D%2C%20%5B%22REF%22%2C%206%5D%5D%2C%20%223%22%3A%20%5B%22LIST%22%2C%200%2C%201%2C%202%5D%2C%20%224%22%3A%20%5B%22LIST%22%2C%201%2C%202%2C%203%5D%2C%20%225%22%3A%20%5B%22LIST%22%2C%202%2C%203%2C%204%5D%2C%20%226%22%3A%20%5B%22LIST%22%2C%203%2C%204%2C%205%5D%2C%20%221%22%3A%20%5B%22FUNCTION%22%2C%20%22cherche_ligne%28grille%2C%20valeur%29%22%2C%20null%5D%7D%2C%20%22stdout%22%3A%20%22%22%7D%2C%20%7B%22line%22%3A%205%2C%20%22event%22%3A%20%22step_line%22%2C%20%22func_name%22%3A%20%22cherche_ligne%22%2C%20%22globals%22%3A%20%7B%22cherche_ligne%22%3A%20%5B%22REF%22%2C%201%5D%2C%20%22grille%22%3A%20%5B%22REF%22%2C%202%5D%7D%2C%20%22ordered_globals%22%3A%20%5B%22cherche_ligne%22%2C%20%22grille%22%5D%2C%20%22stack_to_render%22%3A%20%5B%7B%22func_name%22%3A%20%22cherche_ligne%22%2C%20%22is_parent%22%3A%20false%2C%20%22frame_id%22%3A%201%2C%20%22parent_frame_id_list%22%3A%20%5B%5D%2C%20%22encoded_locals%22%3A%20%7B%22grille%22%3A%20%5B%22REF%22%2C%202%5D%2C%20%22valeur%22%3A%209%2C%20%22i%22%3A%201%2C%20%22somme%22%3A%206%2C%20%22j%22%3A%202%7D%2C%20%22ordered_varnames%22%3A%20%5B%22grille%22%2C%20%22valeur%22%2C%20%22i%22%2C%20%22somme%22%2C%20%22j%22%5D%2C%20%22is_zombie%22%3A%20false%2C%20%22is_highlighted%22%3A%20true%2C%20%22unique_hash%22%3A%20%22cherche_ligne_f1%22%7D%5D%2C%20%22heap%22%3A%20%7B%222%22%3A%20%5B%22LIST%22%2C%20%5B%22REF%22%2C%203%5D%2C%20%5B%22REF%22%2C%204%5D%2C%20%5B%22REF%22%2C%205%5D%2C%20%5B%22REF%22%2C%206%5D%5D%2C%20%223%22%3A%20%5B%22LIST%22%2C%200%2C%201%2C%202%5D%2C%20%224%22%3A%20%5B%22LIST%22%2C%201%2C%202%2C%203%5D%2C%20%225%22%3A%20%5B%22LIST%22%2C%202%2C%203%2C%204%5D%2C%20%226%22%3A%20%5B%22LIST%22%2C%203%2C%204%2C%205%5D%2C%20%221%22%3A%20%5B%22FUNCTION%22%2C%20%22cherche_ligne%28grille%2C%20valeur%29%22%2C%20null%5D%7D%2C%20%22stdout%22%3A%20%22%22%7D%2C%20%7B%22line%22%3A%206%2C%20%22event%22%3A%20%22step_line%22%2C%20%22func_name%22%3A%20%22cherche_ligne%22%2C%20%22globals%22%3A%20%7B%22cherche_ligne%22%3A%20%5B%22REF%22%2C%201%5D%2C%20%22grille%22%3A%20%5B%22REF%22%2C%202%5D%7D%2C%20%22ordered_globals%22%3A%20%5B%22cherche_ligne%22%2C%20%22grille%22%5D%2C%20%22stack_to_render%22%3A%20%5B%7B%22func_name%22%3A%20%22cherche_ligne%22%2C%20%22is_parent%22%3A%20false%2C%20%22frame_id%22%3A%201%2C%20%22parent_frame_id_list%22%3A%20%5B%5D%2C%20%22encoded_locals%22%3A%20%7B%22grille%22%3A%20%5B%22REF%22%2C%202%5D%2C%20%22valeur%22%3A%209%2C%20%22i%22%3A%202%2C%20%22somme%22%3A%206%2C%20%22j%22%3A%202%7D%2C%20%22ordered_varnames%22%3A%20%5B%22grille%22%2C%20%22valeur%22%2C%20%22i%22%2C%20%22somme%22%2C%20%22j%22%5D%2C%20%22is_zombie%22%3A%20false%2C%20%22is_highlighted%22%3A%20true%2C%20%22unique_hash%22%3A%20%22cherche_ligne_f1%22%7D%5D%2C%20%22heap%22%3A%20%7B%222%22%3A%20%5B%22LIST%22%2C%20%5B%22REF%22%2C%203%5D%2C%20%5B%22REF%22%2C%204%5D%2C%20%5B%22REF%22%2C%205%5D%2C%20%5B%22REF%22%2C%206%5D%5D%2C%20%223%22%3A%20%5B%22LIST%22%2C%200%2C%201%2C%202%5D%2C%20%224%22%3A%20%5B%22LIST%22%2C%201%2C%202%2C%203%5D%2C%20%225%22%3A%20%5B%22LIST%22%2C%202%2C%203%2C%204%5D%2C%20%226%22%3A%20%5B%22LIST%22%2C%203%2C%204%2C%205%5D%2C%20%221%22%3A%20%5B%22FUNCTION%22%2C%20%22cherche_ligne%28grille%2C%20valeur%29%22%2C%20null%5D%7D%2C%20%22stdout%22%3A%20%22%22%7D%2C%20%7B%22line%22%3A%207%2C%20%22event%22%3A%20%22step_line%22%2C%20%22func_name%22%3A%20%22cherche_ligne%22%2C%20%22globals%22%3A%20%7B%22cherche_ligne%22%3A%20%5B%22REF%22%2C%201%5D%2C%20%22grille%22%3A%20%5B%22REF%22%2C%202%5D%7D%2C%20%22ordered_globals%22%3A%20%5B%22cherche_ligne%22%2C%20%22grille%22%5D%2C%20%22stack_to_render%22%3A%20%5B%7B%22func_name%22%3A%20%22cherche_ligne%22%2C%20%22is_parent%22%3A%20false%2C%20%22frame_id%22%3A%201%2C%20%22parent_frame_id_list%22%3A%20%5B%5D%2C%20%22encoded_locals%22%3A%20%7B%22grille%22%3A%20%5B%22REF%22%2C%202%5D%2C%20%22valeur%22%3A%209%2C%20%22i%22%3A%202%2C%20%22somme%22%3A%200%2C%20%22j%22%3A%202%7D%2C%20%22ordered_varnames%22%3A%20%5B%22grille%22%2C%20%22valeur%22%2C%20%22i%22%2C%20%22somme%22%2C%20%22j%22%5D%2C%20%22is_zombie%22%3A%20false%2C%20%22is_highlighted%22%3A%20true%2C%20%22unique_hash%22%3A%20%22cherche_ligne_f1%22%7D%5D%2C%20%22heap%22%3A%20%7B%222%22%3A%20%5B%22LIST%22%2C%20%5B%22REF%22%2C%203%5D%2C%20%5B%22REF%22%2C%204%5D%2C%20%5B%22REF%22%2C%205%5D%2C%20%5B%22REF%22%2C%206%5D%5D%2C%20%223%22%3A%20%5B%22LIST%22%2C%200%2C%201%2C%202%5D%2C%20%224%22%3A%20%5B%22LIST%22%2C%201%2C%202%2C%203%5D%2C%20%225%22%3A%20%5B%22LIST%22%2C%202%2C%203%2C%204%5D%2C%20%226%22%3A%20%5B%22LIST%22%2C%203%2C%204%2C%205%5D%2C%20%221%22%3A%20%5B%22FUNCTION%22%2C%20%22cherche_ligne%28grille%2C%20valeur%29%22%2C%20null%5D%7D%2C%20%22stdout%22%3A%20%22%22%7D%2C%20%7B%22line%22%3A%208%2C%20%22event%22%3A%20%22step_line%22%2C%20%22func_name%22%3A%20%22cherche_ligne%22%2C%20%22globals%22%3A%20%7B%22cherche_ligne%22%3A%20%5B%22REF%22%2C%201%5D%2C%20%22grille%22%3A%20%5B%22REF%22%2C%202%5D%7D%2C%20%22ordered_globals%22%3A%20%5B%22cherche_ligne%22%2C%20%22grille%22%5D%2C%20%22stack_to_render%22%3A%20%5B%7B%22func_name%22%3A%20%22cherche_ligne%22%2C%20%22is_parent%22%3A%20false%2C%20%22frame_id%22%3A%201%2C%20%22parent_frame_id_list%22%3A%20%5B%5D%2C%20%22encoded_locals%22%3A%20%7B%22grille%22%3A%20%5B%22REF%22%2C%202%5D%2C%20%22valeur%22%3A%209%2C%20%22i%22%3A%202%2C%20%22somme%22%3A%200%2C%20%22j%22%3A%200%7D%2C%20%22ordered_varnames%22%3A%20%5B%22grille%22%2C%20%22valeur%22%2C%20%22i%22%2C%20%22somme%22%2C%20%22j%22%5D%2C%20%22is_zombie%22%3A%20false%2C%20%22is_highlighted%22%3A%20true%2C%20%22unique_hash%22%3A%20%22cherche_ligne_f1%22%7D%5D%2C%20%22heap%22%3A%20%7B%222%22%3A%20%5B%22LIST%22%2C%20%5B%22REF%22%2C%203%5D%2C%20%5B%22REF%22%2C%204%5D%2C%20%5B%22REF%22%2C%205%5D%2C%20%5B%22REF%22%2C%206%5D%5D%2C%20%223%22%3A%20%5B%22LIST%22%2C%200%2C%201%2C%202%5D%2C%20%224%22%3A%20%5B%22LIST%22%2C%201%2C%202%2C%203%5D%2C%20%225%22%3A%20%5B%22LIST%22%2C%202%2C%203%2C%204%5D%2C%20%226%22%3A%20%5B%22LIST%22%2C%203%2C%204%2C%205%5D%2C%20%221%22%3A%20%5B%22FUNCTION%22%2C%20%22cherche_ligne%28grille%2C%20valeur%29%22%2C%20null%5D%7D%2C%20%22stdout%22%3A%20%22%22%7D%2C%20%7B%22line%22%3A%207%2C%20%22event%22%3A%20%22step_line%22%2C%20%22func_name%22%3A%20%22cherche_ligne%22%2C%20%22globals%22%3A%20%7B%22cherche_ligne%22%3A%20%5B%22REF%22%2C%201%5D%2C%20%22grille%22%3A%20%5B%22REF%22%2C%202%5D%7D%2C%20%22ordered_globals%22%3A%20%5B%22cherche_ligne%22%2C%20%22grille%22%5D%2C%20%22stack_to_render%22%3A%20%5B%7B%22func_name%22%3A%20%22cherche_ligne%22%2C%20%22is_parent%22%3A%20false%2C%20%22frame_id%22%3A%201%2C%20%22parent_frame_id_list%22%3A%20%5B%5D%2C%20%22encoded_locals%22%3A%20%7B%22grille%22%3A%20%5B%22REF%22%2C%202%5D%2C%20%22valeur%22%3A%209%2C%20%22i%22%3A%202%2C%20%22somme%22%3A%202%2C%20%22j%22%3A%200%7D%2C%20%22ordered_varnames%22%3A%20%5B%22grille%22%2C%20%22valeur%22%2C%20%22i%22%2C%20%22somme%22%2C%20%22j%22%5D%2C%20%22is_zombie%22%3A%20false%2C%20%22is_highlighted%22%3A%20true%2C%20%22unique_hash%22%3A%20%22cherche_ligne_f1%22%7D%5D%2C%20%22heap%22%3A%20%7B%222%22%3A%20%5B%22LIST%22%2C%20%5B%22REF%22%2C%203%5D%2C%20%5B%22REF%22%2C%204%5D%2C%20%5B%22REF%22%2C%205%5D%2C%20%5B%22REF%22%2C%206%5D%5D%2C%20%223%22%3A%20%5B%22LIST%22%2C%200%2C%201%2C%202%5D%2C%20%224%22%3A%20%5B%22LIST%22%2C%201%2C%202%2C%203%5D%2C%20%225%22%3A%20%5B%22LIST%22%2C%202%2C%203%2C%204%5D%2C%20%226%22%3A%20%5B%22LIST%22%2C%203%2C%204%2C%205%5D%2C%20%221%22%3A%20%5B%22FUNCTION%22%2C%20%22cherche_ligne%28grille%2C%20valeur%29%22%2C%20null%5D%7D%2C%20%22stdout%22%3A%20%22%22%7D%2C%20%7B%22line%22%3A%208%2C%20%22event%22%3A%20%22step_line%22%2C%20%22func_name%22%3A%20%22cherche_ligne%22%2C%20%22globals%22%3A%20%7B%22cherche_ligne%22%3A%20%5B%22REF%22%2C%201%5D%2C%20%22grille%22%3A%20%5B%22REF%22%2C%202%5D%7D%2C%20%22ordered_globals%22%3A%20%5B%22cherche_ligne%22%2C%20%22grille%22%5D%2C%20%22stack_to_render%22%3A%20%5B%7B%22func_name%22%3A%20%22cherche_ligne%22%2C%20%22is_parent%22%3A%20false%2C%20%22frame_id%22%3A%201%2C%20%22parent_frame_id_list%22%3A%20%5B%5D%2C%20%22encoded_locals%22%3A%20%7B%22grille%22%3A%20%5B%22REF%22%2C%202%5D%2C%20%22valeur%22%3A%209%2C%20%22i%22%3A%202%2C%20%22somme%22%3A%202%2C%20%22j%22%3A%201%7D%2C%20%22ordered_varnames%22%3A%20%5B%22grille%22%2C%20%22valeur%22%2C%20%22i%22%2C%20%22somme%22%2C%20%22j%22%5D%2C%20%22is_zombie%22%3A%20false%2C%20%22is_highlighted%22%3A%20true%2C%20%22unique_hash%22%3A%20%22cherche_ligne_f1%22%7D%5D%2C%20%22heap%22%3A%20%7B%222%22%3A%20%5B%22LIST%22%2C%20%5B%22REF%22%2C%203%5D%2C%20%5B%22REF%22%2C%204%5D%2C%20%5B%22REF%22%2C%205%5D%2C%20%5B%22REF%22%2C%206%5D%5D%2C%20%223%22%3A%20%5B%22LIST%22%2C%200%2C%201%2C%202%5D%2C%20%224%22%3A%20%5B%22LIST%22%2C%201%2C%202%2C%203%5D%2C%20%225%22%3A%20%5B%22LIST%22%2C%202%2C%203%2C%204%5D%2C%20%226%22%3A%20%5B%22LIST%22%2C%203%2C%204%2C%205%5D%2C%20%221%22%3A%20%5B%22FUNCTION%22%2C%20%22cherche_ligne%28grille%2C%20valeur%29%22%2C%20null%5D%7D%2C%20%22stdout%22%3A%20%22%22%7D%2C%20%7B%22line%22%3A%207%2C%20%22event%22%3A%20%22step_line%22%2C%20%22func_name%22%3A%20%22cherche_ligne%22%2C%20%22globals%22%3A%20%7B%22cherche_ligne%22%3A%20%5B%22REF%22%2C%201%5D%2C%20%22grille%22%3A%20%5B%22REF%22%2C%202%5D%7D%2C%20%22ordered_globals%22%3A%20%5B%22cherche_ligne%22%2C%20%22grille%22%5D%2C%20%22stack_to_render%22%3A%20%5B%7B%22func_name%22%3A%20%22cherche_ligne%22%2C%20%22is_parent%22%3A%20false%2C%20%22frame_id%22%3A%201%2C%20%22parent_frame_id_list%22%3A%20%5B%5D%2C%20%22encoded_locals%22%3A%20%7B%22grille%22%3A%20%5B%22REF%22%2C%202%5D%2C%20%22valeur%22%3A%209%2C%20%22i%22%3A%202%2C%20%22somme%22%3A%205%2C%20%22j%22%3A%201%7D%2C%20%22ordered_varnames%22%3A%20%5B%22grille%22%2C%20%22valeur%22%2C%20%22i%22%2C%20%22somme%22%2C%20%22j%22%5D%2C%20%22is_zombie%22%3A%20false%2C%20%22is_highlighted%22%3A%20true%2C%20%22unique_hash%22%3A%20%22cherche_ligne_f1%22%7D%5D%2C%20%22heap%22%3A%20%7B%222%22%3A%20%5B%22LIST%22%2C%20%5B%22REF%22%2C%203%5D%2C%20%5B%22REF%22%2C%204%5D%2C%20%5B%22REF%22%2C%205%5D%2C%20%5B%22REF%22%2C%206%5D%5D%2C%20%223%22%3A%20%5B%22LIST%22%2C%200%2C%201%2C%202%5D%2C%20%224%22%3A%20%5B%22LIST%22%2C%201%2C%202%2C%203%5D%2C%20%225%22%3A%20%5B%22LIST%22%2C%202%2C%203%2C%204%5D%2C%20%226%22%3A%20%5B%22LIST%22%2C%203%2C%204%2C%205%5D%2C%20%221%22%3A%20%5B%22FUNCTION%22%2C%20%22cherche_ligne%28grille%2C%20valeur%29%22%2C%20null%5D%7D%2C%20%22stdout%22%3A%20%22%22%7D%2C%20%7B%22line%22%3A%208%2C%20%22event%22%3A%20%22step_line%22%2C%20%22func_name%22%3A%20%22cherche_ligne%22%2C%20%22globals%22%3A%20%7B%22cherche_ligne%22%3A%20%5B%22REF%22%2C%201%5D%2C%20%22grille%22%3A%20%5B%22REF%22%2C%202%5D%7D%2C%20%22ordered_globals%22%3A%20%5B%22cherche_ligne%22%2C%20%22grille%22%5D%2C%20%22stack_to_render%22%3A%20%5B%7B%22func_name%22%3A%20%22cherche_ligne%22%2C%20%22is_parent%22%3A%20false%2C%20%22frame_id%22%3A%201%2C%20%22parent_frame_id_list%22%3A%20%5B%5D%2C%20%22encoded_locals%22%3A%20%7B%22grille%22%3A%20%5B%22REF%22%2C%202%5D%2C%20%22valeur%22%3A%209%2C%20%22i%22%3A%202%2C%20%22somme%22%3A%205%2C%20%22j%22%3A%202%7D%2C%20%22ordered_varnames%22%3A%20%5B%22grille%22%2C%20%22valeur%22%2C%20%22i%22%2C%20%22somme%22%2C%20%22j%22%5D%2C%20%22is_zombie%22%3A%20false%2C%20%22is_highlighted%22%3A%20true%2C%20%22unique_hash%22%3A%20%22cherche_ligne_f1%22%7D%5D%2C%20%22heap%22%3A%20%7B%222%22%3A%20%5B%22LIST%22%2C%20%5B%22REF%22%2C%203%5D%2C%20%5B%22REF%22%2C%204%5D%2C%20%5B%22REF%22%2C%205%5D%2C%20%5B%22REF%22%2C%206%5D%5D%2C%20%223%22%3A%20%5B%22LIST%22%2C%200%2C%201%2C%202%5D%2C%20%224%22%3A%20%5B%22LIST%22%2C%201%2C%202%2C%203%5D%2C%20%225%22%3A%20%5B%22LIST%22%2C%202%2C%203%2C%204%5D%2C%20%226%22%3A%20%5B%22LIST%22%2C%203%2C%204%2C%205%5D%2C%20%221%22%3A%20%5B%22FUNCTION%22%2C%20%22cherche_ligne%28grille%2C%20valeur%29%22%2C%20null%5D%7D%2C%20%22stdout%22%3A%20%22%22%7D%2C%20%7B%22line%22%3A%207%2C%20%22event%22%3A%20%22step_line%22%2C%20%22func_name%22%3A%20%22cherche_ligne%22%2C%20%22globals%22%3A%20%7B%22cherche_ligne%22%3A%20%5B%22REF%22%2C%201%5D%2C%20%22grille%22%3A%20%5B%22REF%22%2C%202%5D%7D%2C%20%22ordered_globals%22%3A%20%5B%22cherche_ligne%22%2C%20%22grille%22%5D%2C%20%22stack_to_render%22%3A%20%5B%7B%22func_name%22%3A%20%22cherche_ligne%22%2C%20%22is_parent%22%3A%20false%2C%20%22frame_id%22%3A%201%2C%20%22parent_frame_id_list%22%3A%20%5B%5D%2C%20%22encoded_locals%22%3A%20%7B%22grille%22%3A%20%5B%22REF%22%2C%202%5D%2C%20%22valeur%22%3A%209%2C%20%22i%22%3A%202%2C%20%22somme%22%3A%209%2C%20%22j%22%3A%202%7D%2C%20%22ordered_varnames%22%3A%20%5B%22grille%22%2C%20%22valeur%22%2C%20%22i%22%2C%20%22somme%22%2C%20%22j%22%5D%2C%20%22is_zombie%22%3A%20false%2C%20%22is_highlighted%22%3A%20true%2C%20%22unique_hash%22%3A%20%22cherche_ligne_f1%22%7D%5D%2C%20%22heap%22%3A%20%7B%222%22%3A%20%5B%22LIST%22%2C%20%5B%22REF%22%2C%203%5D%2C%20%5B%22REF%22%2C%204%5D%2C%20%5B%22REF%22%2C%205%5D%2C%20%5B%22REF%22%2C%206%5D%5D%2C%20%223%22%3A%20%5B%22LIST%22%2C%200%2C%201%2C%202%5D%2C%20%224%22%3A%20%5B%22LIST%22%2C%201%2C%202%2C%203%5D%2C%20%225%22%3A%20%5B%22LIST%22%2C%202%2C%203%2C%204%5D%2C%20%226%22%3A%20%5B%22LIST%22%2C%203%2C%204%2C%205%5D%2C%20%221%22%3A%20%5B%22FUNCTION%22%2C%20%22cherche_ligne%28grille%2C%20valeur%29%22%2C%20null%5D%7D%2C%20%22stdout%22%3A%20%22%22%7D%2C%20%7B%22line%22%3A%209%2C%20%22event%22%3A%20%22step_line%22%2C%20%22func_name%22%3A%20%22cherche_ligne%22%2C%20%22globals%22%3A%20%7B%22cherche_ligne%22%3A%20%5B%22REF%22%2C%201%5D%2C%20%22grille%22%3A%20%5B%22REF%22%2C%202%5D%7D%2C%20%22ordered_globals%22%3A%20%5B%22cherche_ligne%22%2C%20%22grille%22%5D%2C%20%22stack_to_render%22%3A%20%5B%7B%22func_name%22%3A%20%22cherche_ligne%22%2C%20%22is_parent%22%3A%20false%2C%20%22frame_id%22%3A%201%2C%20%22parent_frame_id_list%22%3A%20%5B%5D%2C%20%22encoded_locals%22%3A%20%7B%22grille%22%3A%20%5B%22REF%22%2C%202%5D%2C%20%22valeur%22%3A%209%2C%20%22i%22%3A%202%2C%20%22somme%22%3A%209%2C%20%22j%22%3A%202%7D%2C%20%22ordered_varnames%22%3A%20%5B%22grille%22%2C%20%22valeur%22%2C%20%22i%22%2C%20%22somme%22%2C%20%22j%22%5D%2C%20%22is_zombie%22%3A%20false%2C%20%22is_highlighted%22%3A%20true%2C%20%22unique_hash%22%3A%20%22cherche_ligne_f1%22%7D%5D%2C%20%22heap%22%3A%20%7B%222%22%3A%20%5B%22LIST%22%2C%20%5B%22REF%22%2C%203%5D%2C%20%5B%22REF%22%2C%204%5D%2C%20%5B%22REF%22%2C%205%5D%2C%20%5B%22REF%22%2C%206%5D%5D%2C%20%223%22%3A%20%5B%22LIST%22%2C%200%2C%201%2C%202%5D%2C%20%224%22%3A%20%5B%22LIST%22%2C%201%2C%202%2C%203%5D%2C%20%225%22%3A%20%5B%22LIST%22%2C%202%2C%203%2C%204%5D%2C%20%226%22%3A%20%5B%22LIST%22%2C%203%2C%204%2C%205%5D%2C%20%221%22%3A%20%5B%22FUNCTION%22%2C%20%22cherche_ligne%28grille%2C%20valeur%29%22%2C%20null%5D%7D%2C%20%22stdout%22%3A%20%22%22%7D%2C%20%7B%22line%22%3A%2010%2C%20%22event%22%3A%20%22step_line%22%2C%20%22func_name%22%3A%20%22cherche_ligne%22%2C%20%22globals%22%3A%20%7B%22cherche_ligne%22%3A%20%5B%22REF%22%2C%201%5D%2C%20%22grille%22%3A%20%5B%22REF%22%2C%202%5D%7D%2C%20%22ordered_globals%22%3A%20%5B%22cherche_ligne%22%2C%20%22grille%22%5D%2C%20%22stack_to_render%22%3A%20%5B%7B%22func_name%22%3A%20%22cherche_ligne%22%2C%20%22is_parent%22%3A%20false%2C%20%22frame_id%22%3A%201%2C%20%22parent_frame_id_list%22%3A%20%5B%5D%2C%20%22encoded_locals%22%3A%20%7B%22grille%22%3A%20%5B%22REF%22%2C%202%5D%2C%20%22valeur%22%3A%209%2C%20%22i%22%3A%202%2C%20%22somme%22%3A%209%2C%20%22j%22%3A%202%7D%2C%20%22ordered_varnames%22%3A%20%5B%22grille%22%2C%20%22valeur%22%2C%20%22i%22%2C%20%22somme%22%2C%20%22j%22%5D%2C%20%22is_zombie%22%3A%20false%2C%20%22is_highlighted%22%3A%20true%2C%20%22unique_hash%22%3A%20%22cherche_ligne_f1%22%7D%5D%2C%20%22heap%22%3A%20%7B%222%22%3A%20%5B%22LIST%22%2C%20%5B%22REF%22%2C%203%5D%2C%20%5B%22REF%22%2C%204%5D%2C%20%5B%22REF%22%2C%205%5D%2C%20%5B%22REF%22%2C%206%5D%5D%2C%20%223%22%3A%20%5B%22LIST%22%2C%200%2C%201%2C%202%5D%2C%20%224%22%3A%20%5B%22LIST%22%2C%201%2C%202%2C%203%5D%2C%20%225%22%3A%20%5B%22LIST%22%2C%202%2C%203%2C%204%5D%2C%20%226%22%3A%20%5B%22LIST%22%2C%203%2C%204%2C%205%5D%2C%20%221%22%3A%20%5B%22FUNCTION%22%2C%20%22cherche_ligne%28grille%2C%20valeur%29%22%2C%20null%5D%7D%2C%20%22stdout%22%3A%20%22%22%7D%2C%20%7B%22line%22%3A%2010%2C%20%22event%22%3A%20%22return%22%2C%20%22func_name%22%3A%20%22cherche_ligne%22%2C%20%22globals%22%3A%20%7B%22cherche_ligne%22%3A%20%5B%22REF%22%2C%201%5D%2C%20%22grille%22%3A%20%5B%22REF%22%2C%202%5D%7D%2C%20%22ordered_globals%22%3A%20%5B%22cherche_ligne%22%2C%20%22grille%22%5D%2C%20%22stack_to_render%22%3A%20%5B%7B%22func_name%22%3A%20%22cherche_ligne%22%2C%20%22is_parent%22%3A%20false%2C%20%22frame_id%22%3A%201%2C%20%22parent_frame_id_list%22%3A%20%5B%5D%2C%20%22encoded_locals%22%3A%20%7B%22grille%22%3A%20%5B%22REF%22%2C%202%5D%2C%20%22valeur%22%3A%209%2C%20%22i%22%3A%202%2C%20%22somme%22%3A%209%2C%20%22j%22%3A%202%2C%20%22__return__%22%3A%20true%7D%2C%20%22ordered_varnames%22%3A%20%5B%22grille%22%2C%20%22valeur%22%2C%20%22i%22%2C%20%22somme%22%2C%20%22j%22%2C%20%22__return__%22%5D%2C%20%22is_zombie%22%3A%20false%2C%20%22is_highlighted%22%3A%20true%2C%20%22unique_hash%22%3A%20%22cherche_ligne_f1%22%7D%5D%2C%20%22heap%22%3A%20%7B%222%22%3A%20%5B%22LIST%22%2C%20%5B%22REF%22%2C%203%5D%2C%20%5B%22REF%22%2C%204%5D%2C%20%5B%22REF%22%2C%205%5D%2C%20%5B%22REF%22%2C%206%5D%5D%2C%20%223%22%3A%20%5B%22LIST%22%2C%200%2C%201%2C%202%5D%2C%20%224%22%3A%20%5B%22LIST%22%2C%201%2C%202%2C%203%5D%2C%20%225%22%3A%20%5B%22LIST%22%2C%202%2C%203%2C%204%5D%2C%20%226%22%3A%20%5B%22LIST%22%2C%203%2C%204%2C%205%5D%2C%20%221%22%3A%20%5B%22FUNCTION%22%2C%20%22cherche_ligne%28grille%2C%20valeur%29%22%2C%20null%5D%7D%2C%20%22stdout%22%3A%20%22%22%7D%2C%20%7B%22line%22%3A%2014%2C%20%22event%22%3A%20%22return%22%2C%20%22func_name%22%3A%20%22%3Cmodule%3E%22%2C%20%22globals%22%3A%20%7B%22cherche_ligne%22%3A%20%5B%22REF%22%2C%201%5D%2C%20%22grille%22%3A%20%5B%22REF%22%2C%202%5D%7D%2C%20%22ordered_globals%22%3A%20%5B%22cherche_ligne%22%2C%20%22grille%22%5D%2C%20%22stack_to_render%22%3A%20%5B%5D%2C%20%22heap%22%3A%20%7B%221%22%3A%20%5B%22FUNCTION%22%2C%20%22cherche_ligne%28grille%2C%20valeur%29%22%2C%20null%5D%2C%20%222%22%3A%20%5B%22LIST%22%2C%20%5B%22REF%22%2C%203%5D%2C%20%5B%22REF%22%2C%204%5D%2C%20%5B%22REF%22%2C%205%5D%2C%20%5B%22REF%22%2C%206%5D%5D%2C%20%223%22%3A%20%5B%22LIST%22%2C%200%2C%201%2C%202%5D%2C%20%224%22%3A%20%5B%22LIST%22%2C%201%2C%202%2C%203%5D%2C%20%225%22%3A%20%5B%22LIST%22%2C%202%2C%203%2C%204%5D%2C%20%226%22%3A%20%5B%22LIST%22%2C%203%2C%204%2C%205%5D%7D%2C%20%22stdout%22%3A%20%22%22%7D%5D%7D%3B%0A%20%20%20%20%20%20%20%20%20%20function%20redraw%28%29%20%7B%20if%20%28window.v%29%20window.v.redrawConnectors%28%29%3B%20%7D%0A%20%20%20%20%20%20%20%20%20%20window.v%20%3D%20new%20ExecutionVisualizer%28%0A%20%20%20%20%20%20%20%20%20%20%20%20%20%20%27main%27%2C%20t%2C%0A%20%20%20%20%20%20%20%20%20%20%20%20%20%20%7BembeddedMode%3A%20false%2C%0A%20%20%20%20%20%20%20%20%20%20%20%20%20%20%20%20heightChangeCallback%3A%20redraw%7D%0A%20%20%20%20%20%20%20%20%20%20%29%3B%0A%0A%20%20%20%20%20%20%20%20%20%20//%20message%20of%20type%20%27redraw%27%20from%20parent%20triggers%20a%20full%20redraw%0A%20%20%20%20%20%20%20%20%20%20//%20%28usefull%20when%20iframe%20is%20added%20to%20a%20non%20visible%20parent%29%0A%20%20%20%20%20%20%20%20%20%20window.addEventListener%28%27message%27%2C%20function%20%28event%29%20%7B%0A%20%20%20%20%20%20%20%20%20%20%20%20%20%20const%20data%20%3D%20event.data%3B%0A%20%20%20%20%20%20%20%20%20%20%20%20%20%20if%28%20data.type%20%3D%3D%3D%20%27redraw%27%20%29%0A%20%20%20%20%20%20%20%20%20%20%20%20%20%20%20%20%20%20window.v.updateOutput%28%29%3B%0A%20%20%20%20%20%20%20%20%20%20%7D%29%3B%0A%0A%20%20%20%20%20%20%20%20%20%20%24%28window%29.resize%28redraw%29%3B%0A%20%20%20%20%20%20%20%20%20%20redraw%28%29%3B%0A%20%20%20%20%20%20%7D%29%3B%0A%20%20%20%20%3C/script%3E%0A%20%20%3C/head%3E%0A%20%20%3Cbody%20style%3D%22background-color%3A%20white%3B%20overflow-y%3A%20hidden%3B%22%3E%0A%20%20%20%20%3Cdiv%20id%3D%22main%22%3E%3C/div%3E%0A%20%20%3C/body%3E%0A%3C/html%3E%0A\"></iframe>"
      ]
     },
     "metadata": {},
     "output_type": "display_data"
    }
   ],
   "source": [
    "from tutor import tutor\n",
    "def cherche_ligne(grille, valeur):\n",
    "    \"\"\" renvoie True si la somme des éléments d'une \n",
    "    ligne de grille vaut valeur, False sinon\"\"\"\n",
    "    \n",
    "    for i in range(len(grille)):\n",
    "        somme = 0\n",
    "        for j in range(len(grille[i])):\n",
    "            somme = somme + grille[i][j]\n",
    "        if somme == valeur:\n",
    "            return True\n",
    "    return False\n",
    "\n",
    "grille = [[0, 1, 2], [1, 2, 3], [2, 3, 4], [3, 4, 5]]\n",
    "cherche_ligne(grille, 9)\n",
    "tutor()"
   ]
  },
  {
   "cell_type": "markdown",
   "metadata": {},
   "source": [
    "<div style=\"border-left:3px solid #0068cc; border-radius:2pt; color:#0056b6; padding:16px; background-color: #e8f0f5\">\n",
    "\n",
    "### 5.5 Visualisation\n",
    "#### 5.5.1 `rcviz` est un outil permettant de  visualiser graphiquement les appels récursifs d'une fonction. Il permet de savoir : \n",
    "    \n",
    "- combien de fois la fonction a été appelée, \n",
    "- les arguments d'entrée,\n",
    "- et la valeur de retour de chaque appel de la fonction.\n",
    "\n",
    "</div>"
   ]
  },
  {
   "cell_type": "code",
   "execution_count": 10,
   "metadata": {},
   "outputs": [
    {
     "data": {
      "image/svg+xml": [
       "<?xml version=\"1.0\" encoding=\"UTF-8\" standalone=\"no\"?>\n",
       "<!DOCTYPE svg PUBLIC \"-//W3C//DTD SVG 1.1//EN\"\n",
       " \"http://www.w3.org/Graphics/SVG/1.1/DTD/svg11.dtd\">\n",
       "<!-- Generated by graphviz version 2.40.1 (20161225.0304)\n",
       " -->\n",
       "<!-- Title: %0 Pages: 1 -->\n",
       "<svg width=\"623pt\" height=\"456pt\"\n",
       " viewBox=\"0.00 0.00 623.27 456.20\" xmlns=\"http://www.w3.org/2000/svg\" xmlns:xlink=\"http://www.w3.org/1999/xlink\">\n",
       "<g id=\"graph0\" class=\"graph\" transform=\"scale(1 1) rotate(0) translate(4 452.2)\">\n",
       "<title>%0</title>\n",
       "<polygon fill=\"#ffffff\" stroke=\"transparent\" points=\"-4,4 -4,-452.2 619.2675,-452.2 619.2675,4 -4,4\"/>\n",
       "<text text-anchor=\"middle\" x=\"307.6337\" y=\"-8.2\" font-family=\"Helvetica,sans-Serif\" font-size=\"14.00\" fill=\"#000000\">nodes=15</text>\n",
       "<!-- 14046920 -->\n",
       "<g id=\"node1\" class=\"node\">\n",
       "<title>14046920</title>\n",
       "<path fill=\"none\" stroke=\"#000000\" d=\"M370,-400.5C370,-400.5 424.1036,-400.5 424.1036,-400.5 430.1036,-400.5 436.1036,-406.5 436.1036,-412.5 436.1036,-412.5 436.1036,-435.7 436.1036,-435.7 436.1036,-441.7 430.1036,-447.7 424.1036,-447.7 424.1036,-447.7 370,-447.7 370,-447.7 364,-447.7 358,-441.7 358,-435.7 358,-435.7 358,-412.5 358,-412.5 358,-406.5 364,-400.5 370,-400.5\"/>\n",
       "<text text-anchor=\"middle\" x=\"397.0518\" y=\"-432\" font-family=\"Helvetica,sans-Serif\" font-size=\"13.00\" fill=\"#000000\">mystere(4)</text>\n",
       "<polyline fill=\"none\" stroke=\"#000000\" points=\"358,-424.1 436.1036,-424.1 \"/>\n",
       "<text text-anchor=\"middle\" x=\"397.0518\" y=\"-408.4\" font-family=\"Helvetica,sans-Serif\" font-size=\"13.00\" fill=\"#000000\">ret: 14</text>\n",
       "</g>\n",
       "<!-- 24146984 -->\n",
       "<g id=\"node2\" class=\"node\">\n",
       "<title>24146984</title>\n",
       "<path fill=\"none\" stroke=\"#000000\" d=\"M272,-306.7C272,-306.7 326.1036,-306.7 326.1036,-306.7 332.1036,-306.7 338.1036,-312.7 338.1036,-318.7 338.1036,-318.7 338.1036,-341.9 338.1036,-341.9 338.1036,-347.9 332.1036,-353.9 326.1036,-353.9 326.1036,-353.9 272,-353.9 272,-353.9 266,-353.9 260,-347.9 260,-341.9 260,-341.9 260,-318.7 260,-318.7 260,-312.7 266,-306.7 272,-306.7\"/>\n",
       "<text text-anchor=\"middle\" x=\"299.0518\" y=\"-338.2\" font-family=\"Helvetica,sans-Serif\" font-size=\"13.00\" fill=\"#000000\">mystere(3)</text>\n",
       "<polyline fill=\"none\" stroke=\"#000000\" points=\"260,-330.3 338.1036,-330.3 \"/>\n",
       "<text text-anchor=\"middle\" x=\"299.0518\" y=\"-314.6\" font-family=\"Helvetica,sans-Serif\" font-size=\"13.00\" fill=\"#000000\">ret: 7</text>\n",
       "</g>\n",
       "<!-- 14046920&#45;&gt;24146984 -->\n",
       "<g id=\"edge1\" class=\"edge\">\n",
       "<title>14046920&#45;&gt;24146984</title>\n",
       "<path fill=\"none\" stroke=\"#0d0d0d\" d=\"M372.3223,-400.4303C359.7875,-388.4327 344.4178,-373.7217 330.9979,-360.877\"/>\n",
       "<polygon fill=\"#0d0d0d\" stroke=\"#0d0d0d\" points=\"333.4177,-358.3483 323.7734,-353.9621 328.5775,-363.4052 333.4177,-358.3483\"/>\n",
       "<text text-anchor=\"middle\" x=\"362.6086\" y=\"-374.8\" font-family=\"Helvetica,sans-Serif\" font-size=\"8.00\" fill=\"#999999\">1 (⇑9)</text>\n",
       "</g>\n",
       "<!-- 26094784 -->\n",
       "<g id=\"node11\" class=\"node\">\n",
       "<title>26094784</title>\n",
       "<path fill=\"none\" stroke=\"#000000\" d=\"M449,-306.7C449,-306.7 503.1036,-306.7 503.1036,-306.7 509.1036,-306.7 515.1036,-312.7 515.1036,-318.7 515.1036,-318.7 515.1036,-341.9 515.1036,-341.9 515.1036,-347.9 509.1036,-353.9 503.1036,-353.9 503.1036,-353.9 449,-353.9 449,-353.9 443,-353.9 437,-347.9 437,-341.9 437,-341.9 437,-318.7 437,-318.7 437,-312.7 443,-306.7 449,-306.7\"/>\n",
       "<text text-anchor=\"middle\" x=\"476.0518\" y=\"-338.2\" font-family=\"Helvetica,sans-Serif\" font-size=\"13.00\" fill=\"#000000\">mystere(2)</text>\n",
       "<polyline fill=\"none\" stroke=\"#000000\" points=\"437,-330.3 515.1036,-330.3 \"/>\n",
       "<text text-anchor=\"middle\" x=\"476.0518\" y=\"-314.6\" font-family=\"Helvetica,sans-Serif\" font-size=\"13.00\" fill=\"#000000\">ret: 3</text>\n",
       "</g>\n",
       "<!-- 14046920&#45;&gt;26094784 -->\n",
       "<g id=\"edge2\" class=\"edge\">\n",
       "<title>14046920&#45;&gt;26094784</title>\n",
       "<path fill=\"none\" stroke=\"#828282\" d=\"M416.9868,-400.4303C426.8107,-388.766 438.7947,-374.5369 449.3943,-361.9516\"/>\n",
       "<polygon fill=\"#828282\" stroke=\"#828282\" points=\"452.3583,-363.8655 456.1231,-353.9621 447.0042,-359.3562 452.3583,-363.8655\"/>\n",
       "<text text-anchor=\"middle\" x=\"454.0558\" y=\"-374.8\" font-family=\"Helvetica,sans-Serif\" font-size=\"8.00\" fill=\"#999999\">10 (⇑14)</text>\n",
       "</g>\n",
       "<!-- 24147384 -->\n",
       "<g id=\"node3\" class=\"node\">\n",
       "<title>24147384</title>\n",
       "<path fill=\"none\" stroke=\"#000000\" d=\"M157,-212.9C157,-212.9 211.1036,-212.9 211.1036,-212.9 217.1036,-212.9 223.1036,-218.9 223.1036,-224.9 223.1036,-224.9 223.1036,-248.1 223.1036,-248.1 223.1036,-254.1 217.1036,-260.1 211.1036,-260.1 211.1036,-260.1 157,-260.1 157,-260.1 151,-260.1 145,-254.1 145,-248.1 145,-248.1 145,-224.9 145,-224.9 145,-218.9 151,-212.9 157,-212.9\"/>\n",
       "<text text-anchor=\"middle\" x=\"184.0518\" y=\"-244.4\" font-family=\"Helvetica,sans-Serif\" font-size=\"13.00\" fill=\"#000000\">mystere(2)</text>\n",
       "<polyline fill=\"none\" stroke=\"#000000\" points=\"145,-236.5 223.1036,-236.5 \"/>\n",
       "<text text-anchor=\"middle\" x=\"184.0518\" y=\"-220.8\" font-family=\"Helvetica,sans-Serif\" font-size=\"13.00\" fill=\"#000000\">ret: 3</text>\n",
       "</g>\n",
       "<!-- 24146984&#45;&gt;24147384 -->\n",
       "<g id=\"edge3\" class=\"edge\">\n",
       "<title>24146984&#45;&gt;24147384</title>\n",
       "<path fill=\"none\" stroke=\"#1a1a1a\" d=\"M270.0324,-306.6303C255.187,-294.5216 236.9531,-279.6491 221.1027,-266.7207\"/>\n",
       "<polygon fill=\"#1a1a1a\" stroke=\"#1a1a1a\" points=\"223.0233,-263.7706 213.0619,-260.1621 218.5988,-269.195 223.0233,-263.7706\"/>\n",
       "<text text-anchor=\"middle\" x=\"256.6086\" y=\"-281\" font-family=\"Helvetica,sans-Serif\" font-size=\"8.00\" fill=\"#999999\">2 (⇑5)</text>\n",
       "</g>\n",
       "<!-- 26093584 -->\n",
       "<g id=\"node8\" class=\"node\">\n",
       "<title>26093584</title>\n",
       "<path fill=\"none\" stroke=\"#000000\" d=\"M272,-212.9C272,-212.9 326.1036,-212.9 326.1036,-212.9 332.1036,-212.9 338.1036,-218.9 338.1036,-224.9 338.1036,-224.9 338.1036,-248.1 338.1036,-248.1 338.1036,-254.1 332.1036,-260.1 326.1036,-260.1 326.1036,-260.1 272,-260.1 272,-260.1 266,-260.1 260,-254.1 260,-248.1 260,-248.1 260,-224.9 260,-224.9 260,-218.9 266,-212.9 272,-212.9\"/>\n",
       "<text text-anchor=\"middle\" x=\"299.0518\" y=\"-244.4\" font-family=\"Helvetica,sans-Serif\" font-size=\"13.00\" fill=\"#000000\">mystere(1)</text>\n",
       "<polyline fill=\"none\" stroke=\"#000000\" points=\"260,-236.5 338.1036,-236.5 \"/>\n",
       "<text text-anchor=\"middle\" x=\"299.0518\" y=\"-220.8\" font-family=\"Helvetica,sans-Serif\" font-size=\"13.00\" fill=\"#000000\">ret: 1</text>\n",
       "</g>\n",
       "<!-- 24146984&#45;&gt;26093584 -->\n",
       "<g id=\"edge4\" class=\"edge\">\n",
       "<title>24146984&#45;&gt;26093584</title>\n",
       "<path fill=\"none\" stroke=\"#5b5b5b\" d=\"M299.0518,-306.6303C299.0518,-295.6325 299.0518,-282.3547 299.0518,-270.3244\"/>\n",
       "<polygon fill=\"#5b5b5b\" stroke=\"#5b5b5b\" points=\"302.5519,-270.1621 299.0518,-260.1621 295.5519,-270.1622 302.5519,-270.1621\"/>\n",
       "<text text-anchor=\"middle\" x=\"310.6086\" y=\"-281\" font-family=\"Helvetica,sans-Serif\" font-size=\"8.00\" fill=\"#999999\">7 (⇑8)</text>\n",
       "</g>\n",
       "<!-- 24147784 -->\n",
       "<g id=\"node4\" class=\"node\">\n",
       "<title>24147784</title>\n",
       "<path fill=\"none\" stroke=\"#000000\" d=\"M61,-119.1C61,-119.1 115.1036,-119.1 115.1036,-119.1 121.1036,-119.1 127.1036,-125.1 127.1036,-131.1 127.1036,-131.1 127.1036,-154.3 127.1036,-154.3 127.1036,-160.3 121.1036,-166.3 115.1036,-166.3 115.1036,-166.3 61,-166.3 61,-166.3 55,-166.3 49,-160.3 49,-154.3 49,-154.3 49,-131.1 49,-131.1 49,-125.1 55,-119.1 61,-119.1\"/>\n",
       "<text text-anchor=\"middle\" x=\"88.0518\" y=\"-150.6\" font-family=\"Helvetica,sans-Serif\" font-size=\"13.00\" fill=\"#000000\">mystere(1)</text>\n",
       "<polyline fill=\"none\" stroke=\"#000000\" points=\"49,-142.7 127.1036,-142.7 \"/>\n",
       "<text text-anchor=\"middle\" x=\"88.0518\" y=\"-127\" font-family=\"Helvetica,sans-Serif\" font-size=\"13.00\" fill=\"#000000\">ret: 1</text>\n",
       "</g>\n",
       "<!-- 24147384&#45;&gt;24147784 -->\n",
       "<g id=\"edge5\" class=\"edge\">\n",
       "<title>24147384&#45;&gt;24147784</title>\n",
       "<path fill=\"none\" stroke=\"#272727\" d=\"M159.8269,-212.8303C147.6617,-200.9438 132.7705,-186.3939 119.7116,-173.6343\"/>\n",
       "<polygon fill=\"#272727\" stroke=\"#272727\" points=\"121.8675,-170.8474 112.2689,-166.3621 116.9754,-175.8542 121.8675,-170.8474\"/>\n",
       "<text text-anchor=\"middle\" x=\"150.6086\" y=\"-187.2\" font-family=\"Helvetica,sans-Serif\" font-size=\"8.00\" fill=\"#999999\">3 (⇑3)</text>\n",
       "</g>\n",
       "<!-- 24157912 -->\n",
       "<g id=\"node7\" class=\"node\">\n",
       "<title>24157912</title>\n",
       "<path fill=\"none\" stroke=\"#000000\" d=\"M157,-119.1C157,-119.1 211.1036,-119.1 211.1036,-119.1 217.1036,-119.1 223.1036,-125.1 223.1036,-131.1 223.1036,-131.1 223.1036,-154.3 223.1036,-154.3 223.1036,-160.3 217.1036,-166.3 211.1036,-166.3 211.1036,-166.3 157,-166.3 157,-166.3 151,-166.3 145,-160.3 145,-154.3 145,-154.3 145,-131.1 145,-131.1 145,-125.1 151,-119.1 157,-119.1\"/>\n",
       "<text text-anchor=\"middle\" x=\"184.0518\" y=\"-150.6\" font-family=\"Helvetica,sans-Serif\" font-size=\"13.00\" fill=\"#000000\">mystere(0)</text>\n",
       "<polyline fill=\"none\" stroke=\"#000000\" points=\"145,-142.7 223.1036,-142.7 \"/>\n",
       "<text text-anchor=\"middle\" x=\"184.0518\" y=\"-127\" font-family=\"Helvetica,sans-Serif\" font-size=\"13.00\" fill=\"#000000\">ret: 0</text>\n",
       "</g>\n",
       "<!-- 24147384&#45;&gt;24157912 -->\n",
       "<g id=\"edge6\" class=\"edge\">\n",
       "<title>24147384&#45;&gt;24157912</title>\n",
       "<path fill=\"none\" stroke=\"#4e4e4e\" d=\"M184.0518,-212.8303C184.0518,-201.8325 184.0518,-188.5547 184.0518,-176.5244\"/>\n",
       "<polygon fill=\"#4e4e4e\" stroke=\"#4e4e4e\" points=\"187.5519,-176.3621 184.0518,-166.3621 180.5519,-176.3622 187.5519,-176.3621\"/>\n",
       "<text text-anchor=\"middle\" x=\"195.6086\" y=\"-187.2\" font-family=\"Helvetica,sans-Serif\" font-size=\"8.00\" fill=\"#999999\">6 (⇑4)</text>\n",
       "</g>\n",
       "<!-- 24149664 -->\n",
       "<g id=\"node5\" class=\"node\">\n",
       "<title>24149664</title>\n",
       "<path fill=\"none\" stroke=\"#000000\" d=\"M12,-25.3C12,-25.3 66.1036,-25.3 66.1036,-25.3 72.1036,-25.3 78.1036,-31.3 78.1036,-37.3 78.1036,-37.3 78.1036,-60.5 78.1036,-60.5 78.1036,-66.5 72.1036,-72.5 66.1036,-72.5 66.1036,-72.5 12,-72.5 12,-72.5 6,-72.5 0,-66.5 0,-60.5 0,-60.5 0,-37.3 0,-37.3 0,-31.3 6,-25.3 12,-25.3\"/>\n",
       "<text text-anchor=\"middle\" x=\"39.0518\" y=\"-56.8\" font-family=\"Helvetica,sans-Serif\" font-size=\"13.00\" fill=\"#000000\">mystere(0)</text>\n",
       "<polyline fill=\"none\" stroke=\"#000000\" points=\"0,-48.9 78.1036,-48.9 \"/>\n",
       "<text text-anchor=\"middle\" x=\"39.0518\" y=\"-33.2\" font-family=\"Helvetica,sans-Serif\" font-size=\"13.00\" fill=\"#000000\">ret: 0</text>\n",
       "</g>\n",
       "<!-- 24147784&#45;&gt;24149664 -->\n",
       "<g id=\"edge7\" class=\"edge\">\n",
       "<title>24147784&#45;&gt;24149664</title>\n",
       "<path fill=\"none\" stroke=\"#343434\" d=\"M75.687,-119.0303C69.7678,-107.6992 62.5843,-93.9479 56.1518,-81.6343\"/>\n",
       "<polygon fill=\"#343434\" stroke=\"#343434\" points=\"59.1451,-79.805 51.4126,-72.5621 52.9406,-83.0462 59.1451,-79.805\"/>\n",
       "<text text-anchor=\"middle\" x=\"76.6086\" y=\"-93.4\" font-family=\"Helvetica,sans-Serif\" font-size=\"8.00\" fill=\"#999999\">4 (⇑1)</text>\n",
       "</g>\n",
       "<!-- 26093184 -->\n",
       "<g id=\"node6\" class=\"node\">\n",
       "<title>26093184</title>\n",
       "<path fill=\"none\" stroke=\"#000000\" d=\"M107.8362,-25.3C107.8362,-25.3 166.2675,-25.3 166.2675,-25.3 172.2675,-25.3 178.2675,-31.3 178.2675,-37.3 178.2675,-37.3 178.2675,-60.5 178.2675,-60.5 178.2675,-66.5 172.2675,-72.5 166.2675,-72.5 166.2675,-72.5 107.8362,-72.5 107.8362,-72.5 101.8362,-72.5 95.8362,-66.5 95.8362,-60.5 95.8362,-60.5 95.8362,-37.3 95.8362,-37.3 95.8362,-31.3 101.8362,-25.3 107.8362,-25.3\"/>\n",
       "<text text-anchor=\"middle\" x=\"137.0518\" y=\"-56.8\" font-family=\"Helvetica,sans-Serif\" font-size=\"13.00\" fill=\"#000000\">mystere(&#45;1)</text>\n",
       "<polyline fill=\"none\" stroke=\"#000000\" points=\"95.8362,-48.9 178.2675,-48.9 \"/>\n",
       "<text text-anchor=\"middle\" x=\"137.0518\" y=\"-33.2\" font-family=\"Helvetica,sans-Serif\" font-size=\"13.00\" fill=\"#000000\">ret: 0</text>\n",
       "</g>\n",
       "<!-- 24147784&#45;&gt;26093184 -->\n",
       "<g id=\"edge8\" class=\"edge\">\n",
       "<title>24147784&#45;&gt;26093184</title>\n",
       "<path fill=\"none\" stroke=\"#414141\" d=\"M100.4166,-119.0303C106.3358,-107.6992 113.5193,-93.9479 119.9518,-81.6343\"/>\n",
       "<polygon fill=\"#414141\" stroke=\"#414141\" points=\"123.163,-83.0462 124.691,-72.5621 116.9585,-79.805 123.163,-83.0462\"/>\n",
       "<text text-anchor=\"middle\" x=\"125.6086\" y=\"-93.4\" font-family=\"Helvetica,sans-Serif\" font-size=\"8.00\" fill=\"#999999\">5 (⇑2)</text>\n",
       "</g>\n",
       "<!-- 26093984 -->\n",
       "<g id=\"node9\" class=\"node\">\n",
       "<title>26093984</title>\n",
       "<path fill=\"none\" stroke=\"#000000\" d=\"M253,-119.1C253,-119.1 307.1036,-119.1 307.1036,-119.1 313.1036,-119.1 319.1036,-125.1 319.1036,-131.1 319.1036,-131.1 319.1036,-154.3 319.1036,-154.3 319.1036,-160.3 313.1036,-166.3 307.1036,-166.3 307.1036,-166.3 253,-166.3 253,-166.3 247,-166.3 241,-160.3 241,-154.3 241,-154.3 241,-131.1 241,-131.1 241,-125.1 247,-119.1 253,-119.1\"/>\n",
       "<text text-anchor=\"middle\" x=\"280.0518\" y=\"-150.6\" font-family=\"Helvetica,sans-Serif\" font-size=\"13.00\" fill=\"#000000\">mystere(0)</text>\n",
       "<polyline fill=\"none\" stroke=\"#000000\" points=\"241,-142.7 319.1036,-142.7 \"/>\n",
       "<text text-anchor=\"middle\" x=\"280.0518\" y=\"-127\" font-family=\"Helvetica,sans-Serif\" font-size=\"13.00\" fill=\"#000000\">ret: 0</text>\n",
       "</g>\n",
       "<!-- 26093584&#45;&gt;26093984 -->\n",
       "<g id=\"edge9\" class=\"edge\">\n",
       "<title>26093584&#45;&gt;26093984</title>\n",
       "<path fill=\"none\" stroke=\"#686868\" d=\"M294.2573,-212.8303C292.0296,-201.8325 289.3401,-188.5547 286.9032,-176.5244\"/>\n",
       "<polygon fill=\"#686868\" stroke=\"#686868\" points=\"290.2604,-175.4682 284.8448,-166.3621 283.3998,-176.858 290.2604,-175.4682\"/>\n",
       "<text text-anchor=\"middle\" x=\"302.6086\" y=\"-187.2\" font-family=\"Helvetica,sans-Serif\" font-size=\"8.00\" fill=\"#999999\">8 (⇑6)</text>\n",
       "</g>\n",
       "<!-- 26094384 -->\n",
       "<g id=\"node10\" class=\"node\">\n",
       "<title>26094384</title>\n",
       "<path fill=\"none\" stroke=\"#000000\" d=\"M348.8362,-119.1C348.8362,-119.1 407.2675,-119.1 407.2675,-119.1 413.2675,-119.1 419.2675,-125.1 419.2675,-131.1 419.2675,-131.1 419.2675,-154.3 419.2675,-154.3 419.2675,-160.3 413.2675,-166.3 407.2675,-166.3 407.2675,-166.3 348.8362,-166.3 348.8362,-166.3 342.8362,-166.3 336.8362,-160.3 336.8362,-154.3 336.8362,-154.3 336.8362,-131.1 336.8362,-131.1 336.8362,-125.1 342.8362,-119.1 348.8362,-119.1\"/>\n",
       "<text text-anchor=\"middle\" x=\"378.0518\" y=\"-150.6\" font-family=\"Helvetica,sans-Serif\" font-size=\"13.00\" fill=\"#000000\">mystere(&#45;1)</text>\n",
       "<polyline fill=\"none\" stroke=\"#000000\" points=\"336.8362,-142.7 419.2675,-142.7 \"/>\n",
       "<text text-anchor=\"middle\" x=\"378.0518\" y=\"-127\" font-family=\"Helvetica,sans-Serif\" font-size=\"13.00\" fill=\"#000000\">ret: 0</text>\n",
       "</g>\n",
       "<!-- 26093584&#45;&gt;26094384 -->\n",
       "<g id=\"edge10\" class=\"edge\">\n",
       "<title>26093584&#45;&gt;26094384</title>\n",
       "<path fill=\"none\" stroke=\"#757575\" d=\"M318.9868,-212.8303C328.8107,-201.166 340.7947,-186.9369 351.3943,-174.3516\"/>\n",
       "<polygon fill=\"#757575\" stroke=\"#757575\" points=\"354.3583,-176.2655 358.1231,-166.3621 349.0042,-171.7562 354.3583,-176.2655\"/>\n",
       "<text text-anchor=\"middle\" x=\"352.6086\" y=\"-187.2\" font-family=\"Helvetica,sans-Serif\" font-size=\"8.00\" fill=\"#999999\">9 (⇑7)</text>\n",
       "</g>\n",
       "<!-- 26095496 -->\n",
       "<g id=\"node12\" class=\"node\">\n",
       "<title>26095496</title>\n",
       "<path fill=\"none\" stroke=\"#000000\" d=\"M449,-212.9C449,-212.9 503.1036,-212.9 503.1036,-212.9 509.1036,-212.9 515.1036,-218.9 515.1036,-224.9 515.1036,-224.9 515.1036,-248.1 515.1036,-248.1 515.1036,-254.1 509.1036,-260.1 503.1036,-260.1 503.1036,-260.1 449,-260.1 449,-260.1 443,-260.1 437,-254.1 437,-248.1 437,-248.1 437,-224.9 437,-224.9 437,-218.9 443,-212.9 449,-212.9\"/>\n",
       "<text text-anchor=\"middle\" x=\"476.0518\" y=\"-244.4\" font-family=\"Helvetica,sans-Serif\" font-size=\"13.00\" fill=\"#000000\">mystere(1)</text>\n",
       "<polyline fill=\"none\" stroke=\"#000000\" points=\"437,-236.5 515.1036,-236.5 \"/>\n",
       "<text text-anchor=\"middle\" x=\"476.0518\" y=\"-220.8\" font-family=\"Helvetica,sans-Serif\" font-size=\"13.00\" fill=\"#000000\">ret: 1</text>\n",
       "</g>\n",
       "<!-- 26094784&#45;&gt;26095496 -->\n",
       "<g id=\"edge11\" class=\"edge\">\n",
       "<title>26094784&#45;&gt;26095496</title>\n",
       "<path fill=\"none\" stroke=\"#8f8f8f\" d=\"M476.0518,-306.6303C476.0518,-295.6325 476.0518,-282.3547 476.0518,-270.3244\"/>\n",
       "<polygon fill=\"#8f8f8f\" stroke=\"#8f8f8f\" points=\"479.5519,-270.1621 476.0518,-260.1621 472.5519,-270.1622 479.5519,-270.1621\"/>\n",
       "<text text-anchor=\"middle\" x=\"492.0558\" y=\"-281\" font-family=\"Helvetica,sans-Serif\" font-size=\"8.00\" fill=\"#999999\">11 (⇑12)</text>\n",
       "</g>\n",
       "<!-- 26097040 -->\n",
       "<g id=\"node15\" class=\"node\">\n",
       "<title>26097040</title>\n",
       "<path fill=\"none\" stroke=\"#000000\" d=\"M545,-212.9C545,-212.9 599.1036,-212.9 599.1036,-212.9 605.1036,-212.9 611.1036,-218.9 611.1036,-224.9 611.1036,-224.9 611.1036,-248.1 611.1036,-248.1 611.1036,-254.1 605.1036,-260.1 599.1036,-260.1 599.1036,-260.1 545,-260.1 545,-260.1 539,-260.1 533,-254.1 533,-248.1 533,-248.1 533,-224.9 533,-224.9 533,-218.9 539,-212.9 545,-212.9\"/>\n",
       "<text text-anchor=\"middle\" x=\"572.0518\" y=\"-244.4\" font-family=\"Helvetica,sans-Serif\" font-size=\"13.00\" fill=\"#000000\">mystere(0)</text>\n",
       "<polyline fill=\"none\" stroke=\"#000000\" points=\"533,-236.5 611.1036,-236.5 \"/>\n",
       "<text text-anchor=\"middle\" x=\"572.0518\" y=\"-220.8\" font-family=\"Helvetica,sans-Serif\" font-size=\"13.00\" fill=\"#000000\">ret: 0</text>\n",
       "</g>\n",
       "<!-- 26094784&#45;&gt;26097040 -->\n",
       "<g id=\"edge12\" class=\"edge\">\n",
       "<title>26094784&#45;&gt;26097040</title>\n",
       "<path fill=\"none\" stroke=\"#b6b6b6\" d=\"M500.2767,-306.6303C512.4419,-294.7438 527.3331,-280.1939 540.392,-267.4343\"/>\n",
       "<polygon fill=\"#b6b6b6\" stroke=\"#b6b6b6\" points=\"543.1282,-269.6542 547.8347,-260.1621 538.2361,-264.6474 543.1282,-269.6542\"/>\n",
       "<text text-anchor=\"middle\" x=\"542.0558\" y=\"-281\" font-family=\"Helvetica,sans-Serif\" font-size=\"8.00\" fill=\"#999999\">14 (⇑13)</text>\n",
       "</g>\n",
       "<!-- 26096240 -->\n",
       "<g id=\"node13\" class=\"node\">\n",
       "<title>26096240</title>\n",
       "<path fill=\"none\" stroke=\"#000000\" d=\"M449,-119.1C449,-119.1 503.1036,-119.1 503.1036,-119.1 509.1036,-119.1 515.1036,-125.1 515.1036,-131.1 515.1036,-131.1 515.1036,-154.3 515.1036,-154.3 515.1036,-160.3 509.1036,-166.3 503.1036,-166.3 503.1036,-166.3 449,-166.3 449,-166.3 443,-166.3 437,-160.3 437,-154.3 437,-154.3 437,-131.1 437,-131.1 437,-125.1 443,-119.1 449,-119.1\"/>\n",
       "<text text-anchor=\"middle\" x=\"476.0518\" y=\"-150.6\" font-family=\"Helvetica,sans-Serif\" font-size=\"13.00\" fill=\"#000000\">mystere(0)</text>\n",
       "<polyline fill=\"none\" stroke=\"#000000\" points=\"437,-142.7 515.1036,-142.7 \"/>\n",
       "<text text-anchor=\"middle\" x=\"476.0518\" y=\"-127\" font-family=\"Helvetica,sans-Serif\" font-size=\"13.00\" fill=\"#000000\">ret: 0</text>\n",
       "</g>\n",
       "<!-- 26095496&#45;&gt;26096240 -->\n",
       "<g id=\"edge13\" class=\"edge\">\n",
       "<title>26095496&#45;&gt;26096240</title>\n",
       "<path fill=\"none\" stroke=\"#9c9c9c\" d=\"M476.0518,-212.8303C476.0518,-201.8325 476.0518,-188.5547 476.0518,-176.5244\"/>\n",
       "<polygon fill=\"#9c9c9c\" stroke=\"#9c9c9c\" points=\"479.5519,-176.3621 476.0518,-166.3621 472.5519,-176.3622 479.5519,-176.3621\"/>\n",
       "<text text-anchor=\"middle\" x=\"492.0558\" y=\"-187.2\" font-family=\"Helvetica,sans-Serif\" font-size=\"8.00\" fill=\"#999999\">12 (⇑10)</text>\n",
       "</g>\n",
       "<!-- 26096640 -->\n",
       "<g id=\"node14\" class=\"node\">\n",
       "<title>26096640</title>\n",
       "<path fill=\"none\" stroke=\"#000000\" d=\"M544.8362,-119.1C544.8362,-119.1 603.2674,-119.1 603.2674,-119.1 609.2674,-119.1 615.2674,-125.1 615.2674,-131.1 615.2674,-131.1 615.2674,-154.3 615.2674,-154.3 615.2674,-160.3 609.2674,-166.3 603.2674,-166.3 603.2674,-166.3 544.8362,-166.3 544.8362,-166.3 538.8362,-166.3 532.8362,-160.3 532.8362,-154.3 532.8362,-154.3 532.8362,-131.1 532.8362,-131.1 532.8362,-125.1 538.8362,-119.1 544.8362,-119.1\"/>\n",
       "<text text-anchor=\"middle\" x=\"574.0518\" y=\"-150.6\" font-family=\"Helvetica,sans-Serif\" font-size=\"13.00\" fill=\"#000000\">mystere(&#45;1)</text>\n",
       "<polyline fill=\"none\" stroke=\"#000000\" points=\"532.8362,-142.7 615.2674,-142.7 \"/>\n",
       "<text text-anchor=\"middle\" x=\"574.0518\" y=\"-127\" font-family=\"Helvetica,sans-Serif\" font-size=\"13.00\" fill=\"#000000\">ret: 0</text>\n",
       "</g>\n",
       "<!-- 26095496&#45;&gt;26096640 -->\n",
       "<g id=\"edge14\" class=\"edge\">\n",
       "<title>26095496&#45;&gt;26096640</title>\n",
       "<path fill=\"none\" stroke=\"#a9a9a9\" d=\"M500.7813,-212.8303C513.3161,-200.8327 528.6858,-186.1217 542.1057,-173.277\"/>\n",
       "<polygon fill=\"#a9a9a9\" stroke=\"#a9a9a9\" points=\"544.5261,-175.8052 549.3302,-166.3621 539.6859,-170.7483 544.5261,-175.8052\"/>\n",
       "<text text-anchor=\"middle\" x=\"543.0558\" y=\"-187.2\" font-family=\"Helvetica,sans-Serif\" font-size=\"8.00\" fill=\"#999999\">13 (⇑11)</text>\n",
       "</g>\n",
       "</g>\n",
       "</svg>\n"
      ],
      "text/plain": [
       "<graphviz.dot.Digraph object at 0x170b2e0>"
      ]
     },
     "execution_count": 10,
     "metadata": {},
     "output_type": "execute_result"
    }
   ],
   "source": [
    "from rcviz import viz\n",
    "@viz \n",
    "def mystere(n):\n",
    "    if n <= 0 :\n",
    "        return 0\n",
    "    else : \n",
    "        return n + mystere(n - 1) + mystere(n - 2)\n",
    "    \n",
    "mystere(4)\n",
    "# visualisation des appels\n",
    "mystere.callgraph()"
   ]
  },
  {
   "cell_type": "markdown",
   "metadata": {},
   "source": [
    "<div style=\"border-left:5px solid #fdee00; border-radius:2pt; color:#ffffff; padding:16px; background-color: #0068cc\">\n",
    "    \n",
    "## 6. Se documenter sur Capytale\n",
    "</div>\n",
    "    \n"
   ]
  },
  {
   "cell_type": "markdown",
   "metadata": {},
   "source": [
    "<div style=\"border-left:3px solid #0068cc; border-radius:2pt; color:#0056b6; padding:16px; background-color: #e8f0f5\">\n",
    "\n",
    "## 6. Se documenter sur Capytale\n",
    "\n",
    "\n",
    "### 6. 1 Aide en ligne\n",
    "    \n",
    "https://capytale2.ac-paris.fr/wiki/doku.php?id=start \n",
    "\n",
    "### 6. 2 Liste de discussion\n",
    "    \n",
    "https://groupes.renater.fr/sympa/subscribe/capytale\n",
    "\n",
    "### 6. 3 Twitter, Mastodon\n",
    "    \n",
    "@CapytaleFr, @capytale@mastodon.social\n",
    "\n",
    "### 6. 4 Aide de Basthon, Galerie, Documentation\n",
    "    \n",
    "https://basthon.fr/\n",
    "    \n",
    "</div>"
   ]
  },
  {
   "cell_type": "markdown",
   "metadata": {},
   "source": [
    "<div style=\"border-left:5px solid #fdee00; border-radius:2pt; color:#ffffff; padding:16px; background-color: #0068cc\">\n",
    "    \n",
    "## 7. Les activités pratiques Notebook : exemples\n",
    "</div>\n"
   ]
  },
  {
   "cell_type": "markdown",
   "metadata": {},
   "source": [
    "<div style=\"border-left:3px solid #fdee00; border-radius:2pt; color:#0056b6; padding:16px; background-color: #fffcd0\">\n",
    "\n",
    "## 7. Les activités pratiques Notebook : exemples\n",
    "###     7.1 Utiliser un fichier caché d'autocorrection\n",
    "###     7.2 Utiliser un fichier de représentation d'arbres binaires\n",
    " \n",
    "\n",
    "</div>"
   ]
  },
  {
   "cell_type": "markdown",
   "metadata": {},
   "source": [
    "<div style=\"border-left:3px solid #0068cc; border-radius:2pt; color:#0056b6; padding:16px; background-color: #e8f0f5\">\n",
    "\n",
    "### 7.1 Utiliser un fichier caché d'autocorrection\n",
    "- **Première étape : créer le fichier d'autocorrection caché.**\n",
    "    \n",
    "Pour cela, utiliser l'éditeur de votre choix (type edupython) et sauvegarder votre fichier en veillant à ce que son nom commence par \"_\" et se termine par l'extension \".py\". \n",
    "    \n",
    "Exemple : `_autototest_carre.py\"`.\n",
    "    \n",
    "En effet, par convention, dans Capytale, les fichiers attachés dont le premier caractère est \"_\" n'apparaissent pas dans la liste des fichiers attachés mais sont disponibles.\n",
    "\n",
    "\n",
    "Ce fichier devra contenir la version correcte de la fonction testée (exemple : `_carre_correction`) ainsi qu'une fonction `test` capable de comparer l'image de la fonction de l'élève avec celle calculée par `_carre_correction`.\n",
    "    \n",
    "Exemple :\n",
    "   \n",
    "```Python\n",
    "# Contenu du fichier caché\n",
    "def _carre_correction(x):\n",
    "    # La fonction de référence\n",
    "    return x**2\n",
    "\n",
    "def test(fteste, x):\n",
    "    # On compare la fonction de l'élève à  celle de référence\n",
    "    if fteste(x) == _carre_correction(x):\n",
    "        print(f\"Test carre({x}) : réussi\")\n",
    "    else:\n",
    "        print(\"Test carre(\",x,\") : échoué\")\n",
    "```\n",
    "\n",
    "\n",
    "</div>"
   ]
  },
  {
   "cell_type": "markdown",
   "metadata": {},
   "source": [
    "<div style=\"border-left:3px solid #0068cc; border-radius:2pt; color:#0056b6; padding:16px; background-color: #e8f0f5\">  \n",
    "\n",
    "- **Seconde étape : attacher le fichier d'autocorrection caché au Notebook.**   \n",
    "\n",
    "Revenir sur l'accueil de Capytale et cliquer sur l'une des icônes donnant accès aux paramètres de votre Notebook.\n",
    "\n",
    "![parametres.png](https://raw.githubusercontent.com/reiamnat/stageNSI/main/parametres.png)\n",
    "    \n",
    "Puis sélectionner \"joindre des fichiers annexes\" avant de cliquer sur le bouton \"parcourir\" pour rechercher le fichier caché que vous voulez attacher au Notebook.\n",
    "    \n",
    "![joindre.png](https://raw.githubusercontent.com/reiamnat/stageNSI/main/joindre.png)\n",
    "</div>"
   ]
  },
  {
   "cell_type": "markdown",
   "metadata": {},
   "source": [
    "<div style=\"border-left:3px solid #0068cc; border-radius:2pt; color:#0056b6; padding:16px; background-color: #e8f0f5\">\n",
    "\n",
    "- **Troisième étape : importer le fichier d'autocorrection caché dans le Notebook.**\n",
    "    \n",
    "Après que l'élève ait écrit sa fonction dans une cellule de Notebook, il suffit ensuite de créer une cellule de code comportant l'import du fichier caché d'autocorrection ainsi que quelques appels à la fameuse fonction `test`. Idéalement, ne pas hésiter à effectuer des appels avec un paramètre transmis aléatoire.\n",
    "    \n",
    "```Python\n",
    "# Production de l'élève\n",
    "def carre(x):\n",
    "    \"\"\"\n",
    "    La fonction qui doit calculer le carré d'un nombre.\n",
    "    La version de l'élève est plus ou moins correcte...\n",
    "    \"\"\"\n",
    "    return x*2\n",
    "\n",
    "# Dans une autre cellule fournie par le professeur\n",
    "from _autotest_carre import *\n",
    "from random import randint\n",
    "test(carre, 2)\n",
    "test(carre, 3)\n",
    "test(carre, 4)\n",
    "test(carre, 0)\n",
    "\n",
    "for _ in range(10):\n",
    "    test(carre, randint(-10,10))\n",
    "    \n",
    "```\n",
    "</div>"
   ]
  },
  {
   "cell_type": "code",
   "execution_count": null,
   "metadata": {},
   "outputs": [],
   "source": [
    "def carre(x):\n",
    "    \"\"\"\n",
    "    La fonction qui doit calculer le carré d'un nombre.\n",
    "    La version de l'élève est plus ou moins correcte...\n",
    "    \"\"\"\n",
    "    return x*2"
   ]
  },
  {
   "cell_type": "code",
   "execution_count": null,
   "metadata": {},
   "outputs": [],
   "source": [
    "from _autotest_carre import *\n",
    "from random import randint\n",
    "test(carre, 2)\n",
    "test(carre, 3)\n",
    "test(carre, 4)\n",
    "test(carre, 0)\n",
    "for _ in range(5):\n",
    "    test(carre, randint(-10,10))"
   ]
  }
 ],
 "metadata": {
  "celltoolbar": "Pièces jointes",
  "kernelspec": {
   "display_name": "Python 3 (ipykernel)",
   "language": "python",
   "name": "python3"
  },
  "language_info": {
   "codemirror_mode": {
    "name": "ipython",
    "version": 3
   },
   "file_extension": ".py",
   "mimetype": "text/x-python",
   "name": "python",
   "nbconvert_exporter": "python",
   "pygments_lexer": "ipython3",
   "version": "3.9.12"
  }
 },
 "nbformat": 4,
 "nbformat_minor": 2
}
